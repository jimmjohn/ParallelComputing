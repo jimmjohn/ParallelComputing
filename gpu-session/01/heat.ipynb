{
 "cells": [
  {
   "cell_type": "markdown",
   "id": "0d76fe11-eb23-4710-904a-0c24f9179697",
   "metadata": {},
   "source": [
    "# Modeling heat in 1D rod"
   ]
  },
  {
   "cell_type": "markdown",
   "id": "b5c3c367-ac91-4e3d-8c17-1c51aca25283",
   "metadata": {},
   "source": [
    "To illustrate stencil, we will model heat in a 1D uniform rod of length L.  Mathematically, we solve the heat-equation:"
   ]
  },
  {
   "cell_type": "markdown",
   "id": "d285d95d-a46a-4696-a63c-ea696ffce6b8",
   "metadata": {},
   "source": [
    "$\\frac{\\partial f}{\\partial t} - k\\frac{\\partial^2f }{\\partial x^2}$ = 0"
   ]
  },
  {
   "cell_type": "markdown",
   "id": "a0efa093-74d7-4ddd-8082-162945bea1d5",
   "metadata": {},
   "source": [
    "For this example, we will use the Forward time - central space finite difference\n",
    "method. This scheme follows directly from using the definition of derivative:"
   ]
  },
  {
   "cell_type": "markdown",
   "id": "3820515d-d75b-459c-9593-7c75c420dd69",
   "metadata": {},
   "source": [
    "$\\frac{\\partial f}{\\partial t} = \\lim_{\\delta t \\to 0}  \\frac{f(t+\\delta t) - f(t)}{\\delta t}$"
   ]
  },
  {
   "cell_type": "markdown",
   "id": "4040ddbd-61ba-45a9-bce9-e1a2b6b57073",
   "metadata": {},
   "source": [
    "And we decompose the second derivative as:"
   ]
  },
  {
   "cell_type": "markdown",
   "id": "f918ad1a-a43f-4822-9d6c-d614d3f9ccf8",
   "metadata": {},
   "source": [
    "$\\frac{\\partial^2 f}{\\partial x^2} = \\lim_{\\delta x \\to 0}  \\frac{f(x+\\delta x) - 2f(x) + f(x-\\delta x)}{\\delta x^2}$"
   ]
  },
  {
   "cell_type": "markdown",
   "id": "774ea8de-164a-4725-a8ab-a97671b4fcf5",
   "metadata": {},
   "source": [
    "Since computers do not understand continuous functions, we decompose the definition of derivative into an\n",
    "approximation:"
   ]
  },
  {
   "cell_type": "markdown",
   "id": "65d38b5a-a287-4ce4-8e9b-f37ca9a9580e",
   "metadata": {},
   "source": [
    "$\\frac{\\partial f}{\\partial t} \\approx   \\frac{f(t+\\delta t) - f(t)}{\\delta t}$ "
   ]
  },
  {
   "cell_type": "markdown",
   "id": "b08fb6fb-76ff-49a3-b284-1d0570141421",
   "metadata": {},
   "source": [
    "$\\frac{\\partial^2 f}{\\partial x^2} \\approx  \\frac{f(x+\\delta x) - 2f(x) + f(x-\\delta x)}{\\delta x^2}$"
   ]
  },
  {
   "cell_type": "markdown",
   "id": "cbd9adcb-f857-4e3a-8469-cf8ee0560537",
   "metadata": {},
   "source": [
    "<img src=\"heat.png\" width=\"1000\"/>"
   ]
  },
  {
   "cell_type": "code",
   "execution_count": null,
   "id": "375eec54-7562-4c17-a214-c21051a1b65b",
   "metadata": {},
   "outputs": [],
   "source": []
  }
 ],
 "metadata": {
  "kernelspec": {
   "display_name": "Python 3 (ipykernel)",
   "language": "python",
   "name": "python3"
  },
  "language_info": {
   "codemirror_mode": {
    "name": "ipython",
    "version": 3
   },
   "file_extension": ".py",
   "mimetype": "text/x-python",
   "name": "python",
   "nbconvert_exporter": "python",
   "pygments_lexer": "ipython3",
   "version": "3.9.18"
  }
 },
 "nbformat": 4,
 "nbformat_minor": 5
}
