{
 "cells": [
  {
   "cell_type": "markdown",
   "metadata": {},
   "source": [
    "## GPU Challenge"
   ]
  },
  {
   "cell_type": "markdown",
   "metadata": {},
   "source": [
    "- Come back to the N Body algorithm from the 3rd session of the workshop, and try to accelerate it by\n",
    "- Using shared memory\n",
    "- Improving the memory layout (use of struct of arrays SoA ) instead of array of structs AoS\n",
    "- Using your imagination to optimize the code\n",
    "- Implementing the Barnes Hut algorithm See the idea here\n",
    "\n",
    "Martin Burtscher , Keshav Pingali . \n",
    "An Efficient CUDA Implementation\n",
    "of the Tree Based Barnes Hut n Body Algorithm. GPU Computing\n",
    "Gems (2011), chapter 6, 75 92.\n",
    "http://citeseerx.ist.psu.edu/viewdoc/summary?doi=10.1.1.232.2959"
   ]
  },
  {
   "cell_type": "code",
   "execution_count": null,
   "metadata": {},
   "outputs": [],
   "source": []
  }
 ],
 "metadata": {
  "kernelspec": {
   "display_name": "Python 3",
   "language": "python",
   "name": "python3"
  },
  "language_info": {
   "codemirror_mode": {
    "name": "ipython",
    "version": 3
   },
   "file_extension": ".py",
   "mimetype": "text/x-python",
   "name": "python",
   "nbconvert_exporter": "python",
   "pygments_lexer": "ipython3",
   "version": "3.6.8"
  }
 },
 "nbformat": 4,
 "nbformat_minor": 4
}
