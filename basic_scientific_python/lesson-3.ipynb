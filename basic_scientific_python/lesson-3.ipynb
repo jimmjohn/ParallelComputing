{
 "cells": [
  {
   "cell_type": "markdown",
   "id": "0b2dbda1-1a8d-445c-b450-7156ad029b79",
   "metadata": {
    "slideshow": {
     "slide_type": "slide"
    },
    "tags": []
   },
   "source": [
    "# Lesson 3: Array-oriented programming"
   ]
  },
  {
   "cell_type": "markdown",
   "id": "bfca2ab1-f3ab-41b0-b392-7da1abf01b69",
   "metadata": {
    "slideshow": {
     "slide_type": "slide"
    },
    "tags": []
   },
   "source": [
    "Our analysis of Higgs data with NumPy arrays didn't use many `if` or `for` statements at all.\n",
    "\n",
    "<br>"
   ]
  },
  {
   "cell_type": "markdown",
   "id": "dfe863b0-603a-4d4b-8dd7-d9842a22dfd0",
   "metadata": {
    "slideshow": {
     "slide_type": "fragment"
    },
    "tags": []
   },
   "source": [
    "The general pattern consists of a single Python extension call that operates on many data values (_similar to_ \"SIMD\": Single Instruction, Multiple Data).\n",
    "\n",
    "<br>"
   ]
  },
  {
   "cell_type": "markdown",
   "id": "e95ea70f-5e85-447c-8644-2b074d8c0e92",
   "metadata": {
    "slideshow": {
     "slide_type": "fragment"
    },
    "tags": []
   },
   "source": [
    "This pattern can be called a programming language paradigm, contrasted with \"imperative,\" \"functional,\" \"object-oriented,\" etc."
   ]
  },
  {
   "cell_type": "code",
   "execution_count": 3,
   "id": "e56f2ae8-7e6f-4c7c-8e0a-c44d0a6c8596",
   "metadata": {
    "slideshow": {
     "slide_type": "slide"
    },
    "tags": []
   },
   "outputs": [],
   "source": [
    "import numpy as np"
   ]
  },
  {
   "cell_type": "markdown",
   "id": "03e8fc51-dea1-442a-a502-9726b06c6638",
   "metadata": {
    "slideshow": {
     "slide_type": "fragment"
    },
    "tags": []
   },
   "source": [
    "<br>\n",
    "\n",
    "**Imperative programming:**"
   ]
  },
  {
   "cell_type": "code",
   "execution_count": 4,
   "id": "290cc0e8-e884-4658-b352-60ac315ef696",
   "metadata": {
    "tags": []
   },
   "outputs": [
    {
     "name": "stdout",
     "output_type": "stream",
     "text": [
      "CPU times: user 18 µs, sys: 10 µs, total: 28 µs\n",
      "Wall time: 29.3 µs\n"
     ]
    },
    {
     "data": {
      "text/plain": [
       "array([ 1,  4,  9, 16, 25, 36, 49, 64, 81])"
      ]
     },
     "execution_count": 4,
     "metadata": {},
     "output_type": "execute_result"
    }
   ],
   "source": [
    "%%time\n",
    "input_data = np.array([1, 2, 3, 4, 5, 6, 7, 8, 9])\n",
    "output_data = np.array([0, 0, 0, 0, 0, 0, 0, 0, 0])\n",
    "for i in range(len(input_data)):                                  # you say what happens to each element\n",
    "    output_data[i] = input_data[i]**2                             # in an exactly specified order (for loop)\n",
    "output_data"
   ]
  },
  {
   "cell_type": "markdown",
   "id": "9d00fc83-5890-402f-bea2-c4b4356c0021",
   "metadata": {
    "slideshow": {
     "slide_type": "fragment"
    },
    "tags": []
   },
   "source": [
    "<br>\n",
    "\n",
    "**Functional programming:**"
   ]
  },
  {
   "cell_type": "code",
   "execution_count": 3,
   "id": "6dcc52e7-85b7-494b-892c-b11a78f991c6",
   "metadata": {
    "tags": []
   },
   "outputs": [
    {
     "data": {
      "text/plain": [
       "array([ 1,  4,  9, 16, 25, 36, 49, 64, 81])"
      ]
     },
     "execution_count": 3,
     "metadata": {},
     "output_type": "execute_result"
    }
   ],
   "source": [
    "input_data = np.array([1, 2, 3, 4, 5, 6, 7, 8, 9])\n",
    "output_data = np.fromiter(map(lambda x: x**2, input_data), int)   # you provide a function to be applied to\n",
    "output_data                                                       # each element; may run in any order"
   ]
  },
  {
   "cell_type": "markdown",
   "id": "4b16b8a0-357a-4f61-9b45-016540762820",
   "metadata": {
    "slideshow": {
     "slide_type": "fragment"
    },
    "tags": []
   },
   "source": [
    "<br>\n",
    "\n",
    "**Array-oriented programming:**"
   ]
  },
  {
   "cell_type": "code",
   "execution_count": 5,
   "id": "8c4e911d-9151-4360-9a37-45e0826b3362",
   "metadata": {
    "tags": []
   },
   "outputs": [
    {
     "name": "stdout",
     "output_type": "stream",
     "text": [
      "CPU times: user 0 ns, sys: 72 µs, total: 72 µs\n",
      "Wall time: 320 µs\n"
     ]
    },
    {
     "data": {
      "text/plain": [
       "array([ 1,  4,  9, 16, 25, 36, 49, 64, 81])"
      ]
     },
     "execution_count": 5,
     "metadata": {},
     "output_type": "execute_result"
    }
   ],
   "source": [
    "%%time\n",
    "input_data = np.array([1, 2, 3, 4, 5, 6, 7, 8, 9])\n",
    "output_data = input_data**2                                       # implicit indexes, no reference to individual\n",
    "output_data                                                       # elements; function is hard-coded in C"
   ]
  },
  {
   "cell_type": "markdown",
   "id": "97b9ab20-a7d5-4b3a-8509-3912a17a8a84",
   "metadata": {
    "slideshow": {
     "slide_type": "slide"
    },
    "tags": []
   },
   "source": [
    "Most array-oriented programming languages have been interactive, intended for data analysis or simulation.\n",
    "\n",
    "(This is a list of _all_ array-oriented languages that I know about.)\n",
    "\n",
    "<br>"
   ]
  },
  {
   "cell_type": "markdown",
   "id": "a967ecee-a454-410b-ad3e-9cb890c8d72a",
   "metadata": {},
   "source": [
    "<center>\n",
    "<img src=\"img/apl-timeline.svg\" width=\"100%\">\n",
    "</center>"
   ]
  },
  {
   "cell_type": "markdown",
   "id": "27dcc4e7-7c64-48a5-9d0e-31bd505cfe83",
   "metadata": {
    "slideshow": {
     "slide_type": "slide"
    },
    "tags": []
   },
   "source": [
    "They have also tended to be concise (for quick typing, reduced screen clutter).\n",
    "\n",
    "<br>\n",
    "\n",
    "The original, APL, was way too concise! (Needed a special keyboard for all the math symbols.)\n",
    "\n",
    "<br>\n",
    "\n",
    "<center>\n",
    "<div style=\"display: inline-block\">\n",
    "\n",
    "| APL | <br> | Numpy |\n",
    "|:---:|:----:|:-----:|\n",
    "| <tt>ι4</tt> | <br> | <tt>np.arange(4)</tt> |\n",
    "| <tt>(3+ι4)</tt> | <br> | <tt>np.arange(4) + 3</tt> |\n",
    "| <tt>+/(3+ι4)</tt> | <br> | <tt>(np.arange(4) + 3).sum()</tt> |\n",
    "| <tt>m ← +/(3+ι4)</tt> | <br> | <tt>m = (np.arange(4) + 3).sum()</tt> |\n",
    "\n",
    "</div>\n",
    "\n",
    "<img src=\"img/apl-keyboard.jpg\" width=\"35%\" style=\"display: inline-block; margin-left: 5%\">\n",
    "\n",
    "</center>"
   ]
  },
  {
   "cell_type": "markdown",
   "id": "0c056493-cbf1-4643-91c1-22a7f9e42d2c",
   "metadata": {
    "slideshow": {
     "slide_type": "slide"
    },
    "tags": []
   },
   "source": [
    "Ordinary development/debugging interaction pattern: step through instructions on each _value_ in a debugger (breakpoints, etc.).\n",
    "\n",
    "<br>\n",
    "\n",
    "Data analysis interaction pattern: stop after key _operations_ and look at _distributions_ of all values.\n",
    "\n",
    "<br>"
   ]
  },
  {
   "cell_type": "markdown",
   "id": "3899e265-ccbc-4569-9b3b-b56d03213a0f",
   "metadata": {
    "slideshow": {
     "slide_type": "fragment"
    },
    "tags": []
   },
   "source": [
    "<br>\n",
    "\n",
    "Example: suppose you have a million data points."
   ]
  },
  {
   "cell_type": "code",
   "execution_count": 6,
   "id": "7df98470-1a1c-4bcb-b915-73085635a9d5",
   "metadata": {
    "tags": []
   },
   "outputs": [],
   "source": [
    "import matplotlib.pyplot as plt\n",
    "import hist"
   ]
  },
  {
   "cell_type": "markdown",
   "id": "4a8cd2b1-1bbd-418e-b4ad-9f29be60a190",
   "metadata": {},
   "source": [
    "<br>"
   ]
  },
  {
   "cell_type": "code",
   "execution_count": 7,
   "id": "b4ce0b4e-5ab9-4e52-861c-d75b66aa912f",
   "metadata": {
    "tags": []
   },
   "outputs": [
    {
     "data": {
      "text/plain": [
       "array([-0.26221554, -1.4188783 , -1.5109553 , ..., -0.31220267,\n",
       "       -1.32222738, -1.0613871 ])"
      ]
     },
     "execution_count": 7,
     "metadata": {},
     "output_type": "execute_result"
    }
   ],
   "source": [
    "dataset = np.random.normal(0, 1, 1000000)\n",
    "dataset"
   ]
  },
  {
   "cell_type": "markdown",
   "id": "5d9a45d8-8d5d-4792-b4e6-3b550a544032",
   "metadata": {
    "slideshow": {
     "slide_type": "fragment"
    },
    "tags": []
   },
   "source": [
    "<br>\n",
    "\n",
    "(Seeing 6 numerical values doesn't tell us about the other 999994.)"
   ]
  },
  {
   "cell_type": "markdown",
   "id": "21ea6a42-f822-4199-83c8-5d348292f44e",
   "metadata": {
    "slideshow": {
     "slide_type": "slide"
    },
    "tags": []
   },
   "source": [
    "\"What does the distribution look like?\"\n",
    "\n",
    "<br>"
   ]
  },
  {
   "cell_type": "code",
   "execution_count": 8,
   "id": "a15819b0-72ad-4a23-bc2c-a7fe1a86dc01",
   "metadata": {
    "tags": []
   },
   "outputs": [
    {
     "data": {
      "text/html": [
       "<html>\n",
       "<div style=\"display:flex; align-items:center;\">\n",
       "<div style=\"width:290px;\">\n",
       "<svg xmlns=\"http://www.w3.org/2000/svg\" viewBox=\"-10 -105 270 120\">\n",
       "<line x1=\"-5\" y1=\"0\" x2=\"255\" y2=\"0\" style=\"fill:none;stroke-width:2;stroke:currentColor\"/>\n",
       "<text text-anchor=\"middle\" x=\"0\" y=\"15\" style=\"fill:currentColor;\">\n",
       "-5\n",
       "</text>\n",
       "<text text-anchor=\"middle\" x=\"250\" y=\"15\" style=\"fill:currentColor;\">\n",
       "5\n",
       "</text>\n",
       "<text text-anchor=\"middle\" x=\"125.0\" y=\"15\" style=\"fill:currentColor;\">\n",
       " \n",
       "</text>\n",
       "<polyline points=\"  0,0   0,-0 2.5,-0 2.5,-0   5,-0   5,-0.00501 7.5,-0.00501 7.5,-0.0025  10,-0.0025  10,-0 12.5,-0 12.5,-0.00751  15,-0.00751  15,-0.00501 17.5,-0.00501 17.5,-0.03  20,-0.03  20,-0.02 22.5,-0.02 22.5,-0.0275  25,-0.0275  25,-0.035 27.5,-0.035 27.5,-0.0726  30,-0.0726  30,-0.0726 32.5,-0.0726 32.5,-0.103  35,-0.103  35,-0.168 37.5,-0.168 37.5,-0.23  40,-0.23  40,-0.333 42.5,-0.333 42.5,-0.538  45,-0.538  45,-0.711 47.5,-0.711 47.5,-0.911  50,-0.911  50,-1.19 52.5,-1.19 52.5,-1.72  55,-1.72  55,-2.24 57.5,-2.24 57.5,-3.1  60,-3.1  60,-3.93 62.5,-3.93 62.5,-5.06  65,-5.06  65,-6.35 67.5,-6.35 67.5,-8.15  70,-8.15  70,-9.83 72.5,-9.83 72.5,-12.3  75,-12.3  75,-15.3 77.5,-15.3 77.5,-18.2  80,-18.2  80,-21.8 82.5,-21.8 82.5,-25.1  85,-25.1  85,-30.4 87.5,-30.4 87.5,-35.3  90,-35.3  90,-40.5 92.5,-40.5 92.5,-45.6  95,-45.6  95,-51.7 97.5,-51.7 97.5,-57.3 100,-57.3 100,-63.6 102.5,-63.6 102.5,-69.2 105,-69.2 105,-75 107.5,-75 107.5,-81.2 110,-81.2 110,-86.4 112.5,-86.4 112.5,-90.1 115,-90.1 115,-93.6 117.5,-93.6 117.5,-96.5 120,-96.5 120,-98.9 122.5,-98.9 122.5,-100 125,-100 125,-99.5 127.5,-99.5 127.5,-97.6 130,-97.6 130,-96.6 132.5,-96.6 132.5,-94.5 135,-94.5 135,-90.9 137.5,-90.9 137.5,-85.9 140,-85.9 140,-81.4 142.5,-81.4 142.5,-75.2 145,-75.2 145,-68.8 147.5,-68.8 147.5,-62.9 150,-62.9 150,-57.3 152.5,-57.3 152.5,-51.5 155,-51.5 155,-45.7 157.5,-45.7 157.5,-40.1 160,-40.1 160,-35.2 162.5,-35.2 162.5,-30.3 165,-30.3 165,-25.7 167.5,-25.7 167.5,-21.4 170,-21.4 170,-17.9 172.5,-17.9 172.5,-15.1 175,-15.1 175,-12.2 177.5,-12.2 177.5,-9.84 180,-9.84 180,-8.18 182.5,-8.18 182.5,-6.29 185,-6.29 185,-4.86 187.5,-4.86 187.5,-3.95 190,-3.95 190,-2.98 192.5,-2.98 192.5,-2.39 195,-2.39 195,-1.76 197.5,-1.76 197.5,-1.2 200,-1.2 200,-1.04 202.5,-1.04 202.5,-0.754 205,-0.754 205,-0.493 207.5,-0.493 207.5,-0.356 210,-0.356 210,-0.245 212.5,-0.245 212.5,-0.183 215,-0.183 215,-0.103 217.5,-0.103 217.5,-0.0901 220,-0.0901 220,-0.0526 222.5,-0.0526 222.5,-0.0401 225,-0.0401 225,-0.0225 227.5,-0.0225 227.5,-0.0275 230,-0.0275 230,-0.0125 232.5,-0.0125 232.5,-0.0025 235,-0.0025 235,-0.00751 237.5,-0.00751 237.5,-0 240,-0 240,-0 242.5,-0 242.5,-0.0025 245,-0.0025 245,-0 247.5,-0 247.5,-0 250,-0 250,0\" style=\"fill:none; stroke:currentColor;\"/>\n",
       "</svg>\n",
       "</div>\n",
       "<div style=\"flex=grow:1;\">\n",
       "Regular(100, -5, 5, name=' ')<br/>\n",
       "<hr style=\"margin-top:.2em; margin-bottom:.2em;\"/>\n",
       "Double() Σ=1000000.0\n",
       "\n",
       "</div>\n",
       "</div>\n",
       "</html>"
      ],
      "text/plain": [
       "Hist(Regular(100, -5, 5, name=' '), storage=Double()) # Sum: 1000000.0"
      ]
     },
     "execution_count": 8,
     "metadata": {},
     "output_type": "execute_result"
    }
   ],
   "source": [
    "hist.Hist.new.Regular(100, -5, 5, name=\" \").Double().fill(dataset)"
   ]
  },
  {
   "cell_type": "markdown",
   "id": "05445129-8ffc-4e03-88b4-ccdb1a420155",
   "metadata": {
    "slideshow": {
     "slide_type": "fragment"
    },
    "tags": []
   },
   "source": [
    "<br>\n",
    "\n",
    "Of course, it's Gaussian/normal-distributed. (That's what we had asked for with `np.random.normal`.)"
   ]
  },
  {
   "cell_type": "markdown",
   "id": "6e1c928a-ab49-4883-86de-75419439f305",
   "metadata": {
    "slideshow": {
     "slide_type": "slide"
    },
    "tags": []
   },
   "source": [
    "\"What does its square look like?\""
   ]
  },
  {
   "cell_type": "code",
   "execution_count": 9,
   "id": "c8777421-f435-40ca-be55-c64fbf33f22d",
   "metadata": {
    "tags": []
   },
   "outputs": [],
   "source": [
    "dataset2 = dataset**2"
   ]
  },
  {
   "cell_type": "markdown",
   "id": "e0af9a80-ff4e-4945-a68a-535707b06feb",
   "metadata": {},
   "source": [
    "<br>"
   ]
  },
  {
   "cell_type": "code",
   "execution_count": 10,
   "id": "b6b7462b-fa23-4ad6-8cb4-c3e60b120a31",
   "metadata": {
    "tags": []
   },
   "outputs": [
    {
     "data": {
      "text/html": [
       "<html>\n",
       "<div style=\"display:flex; align-items:center;\">\n",
       "<div style=\"width:290px;\">\n",
       "<svg xmlns=\"http://www.w3.org/2000/svg\" viewBox=\"-10 -105 270 120\">\n",
       "<line x1=\"-5\" y1=\"0\" x2=\"255\" y2=\"0\" style=\"fill:none;stroke-width:2;stroke:currentColor\"/>\n",
       "<text text-anchor=\"middle\" x=\"0\" y=\"15\" style=\"fill:currentColor;\">\n",
       "-3\n",
       "</text>\n",
       "<text text-anchor=\"middle\" x=\"250\" y=\"15\" style=\"fill:currentColor;\">\n",
       "13\n",
       "</text>\n",
       "<text text-anchor=\"middle\" x=\"125.0\" y=\"15\" style=\"fill:currentColor;\">\n",
       " \n",
       "</text>\n",
       "<polyline points=\"  0,0   0,-0 2.5,-0 2.5,-0   5,-0   5,-0 7.5,-0 7.5,-0  10,-0  10,-0 12.5,-0 12.5,-0  15,-0  15,-0 17.5,-0 17.5,-0  20,-0  20,-0 22.5,-0 22.5,-0  25,-0  25,-0 27.5,-0 27.5,-0  30,-0  30,-0 32.5,-0 32.5,-0  35,-0  35,-0 37.5,-0 37.5,-0  40,-0  40,-0 42.5,-0 42.5,-0  45,-0  45,-84.7 47.5,-84.7 47.5,-100  50,-100  50,-57 52.5,-57 52.5,-41.7  55,-41.7  55,-32.7 57.5,-32.7 57.5,-26.5  60,-26.5  60,-22.4 62.5,-22.4 62.5,-19.2  65,-19.2  65,-16.4 67.5,-16.4 67.5,-14.3  70,-14.3  70,-12.6 72.5,-12.6 72.5,-11.1  75,-11.1  75,-9.7 77.5,-9.7 77.5,-8.71  80,-8.71  80,-7.76 82.5,-7.76 82.5,-6.97  85,-6.97  85,-6.07 87.5,-6.07 87.5,-5.43  90,-5.43  90,-4.87 92.5,-4.87 92.5,-4.37  95,-4.37  95,-3.95 97.5,-3.95 97.5,-3.56 100,-3.56 100,-3.2 102.5,-3.2 102.5,-2.93 105,-2.93 105,-2.68 107.5,-2.68 107.5,-2.43 110,-2.43 110,-2.14 112.5,-2.14 112.5,-1.94 115,-1.94 115,-1.7 117.5,-1.7 117.5,-1.57 120,-1.57 120,-1.5 122.5,-1.5 122.5,-1.38 125,-1.38 125,-1.16 127.5,-1.16 127.5,-1.14 130,-1.14 130,-0.986 132.5,-0.986 132.5,-0.889 135,-0.889 135,-0.842 137.5,-0.842 137.5,-0.741 140,-0.741 140,-0.658 142.5,-0.658 142.5,-0.631 145,-0.631 145,-0.579 147.5,-0.579 147.5,-0.539 150,-0.539 150,-0.445 152.5,-0.445 152.5,-0.432 155,-0.432 155,-0.4 157.5,-0.4 157.5,-0.367 160,-0.367 160,-0.344 162.5,-0.344 162.5,-0.278 165,-0.278 165,-0.269 167.5,-0.269 167.5,-0.261 170,-0.261 170,-0.233 172.5,-0.233 172.5,-0.215 175,-0.215 175,-0.184 177.5,-0.184 177.5,-0.156 180,-0.156 180,-0.147 182.5,-0.147 182.5,-0.138 185,-0.138 185,-0.119 187.5,-0.119 187.5,-0.115 190,-0.115 190,-0.109 192.5,-0.109 192.5,-0.117 195,-0.117 195,-0.0942 197.5,-0.0942 197.5,-0.0845 200,-0.0845 200,-0.091 202.5,-0.091 202.5,-0.0744 205,-0.0744 205,-0.0573 207.5,-0.0573 207.5,-0.0551 210,-0.0551 210,-0.0573 212.5,-0.0573 212.5,-0.0546 215,-0.0546 215,-0.0487 217.5,-0.0487 217.5,-0.038 220,-0.038 220,-0.031 222.5,-0.031 222.5,-0.0359 225,-0.0359 225,-0.0353 227.5,-0.0353 227.5,-0.0278 230,-0.0278 230,-0.0241 232.5,-0.0241 232.5,-0.0198 235,-0.0198 235,-0.0209 237.5,-0.0209 237.5,-0.023 240,-0.023 240,-0.0171 242.5,-0.0171 242.5,-0.0209 245,-0.0209 245,-0.0139 247.5,-0.0139 247.5,-0.0134 250,-0.0134 250,0\" style=\"fill:none; stroke:currentColor;\"/>\n",
       "</svg>\n",
       "</div>\n",
       "<div style=\"flex=grow:1;\">\n",
       "Regular(100, -3, 13, name=' ')<br/>\n",
       "<hr style=\"margin-top:.2em; margin-bottom:.2em;\"/>\n",
       "Double() Σ=999712.0 <em>(1000000.0 with flow)</em>\n",
       "\n",
       "</div>\n",
       "</div>\n",
       "</html>"
      ],
      "text/plain": [
       "Hist(Regular(100, -3, 13, name=' '), storage=Double()) # Sum: 999712.0 (1000000.0 with flow)"
      ]
     },
     "execution_count": 10,
     "metadata": {},
     "output_type": "execute_result"
    }
   ],
   "source": [
    "hist.Hist.new.Regular(100, -3, 13, name=\" \").Double().fill(dataset2)"
   ]
  },
  {
   "cell_type": "markdown",
   "id": "a2f0dbf8-e743-4a65-9b6a-e5c2be4c05fc",
   "metadata": {
    "slideshow": {
     "slide_type": "fragment"
    },
    "tags": []
   },
   "source": [
    "<br>\n",
    "\n",
    "\"Of course. It's always positive, peaks at 0, and falls off to 9, rather than 3.\""
   ]
  },
  {
   "cell_type": "markdown",
   "id": "b818351a-2182-4b95-8c86-0a23d5493ef2",
   "metadata": {
    "slideshow": {
     "slide_type": "slide"
    },
    "tags": []
   },
   "source": [
    "\"What does this crazy combination look like?\""
   ]
  },
  {
   "cell_type": "code",
   "execution_count": 11,
   "id": "14579bc5-71b4-462d-b4ea-b7d2f3453a7f",
   "metadata": {
    "tags": []
   },
   "outputs": [],
   "source": [
    "dataset3 = np.sin(1/dataset2)"
   ]
  },
  {
   "cell_type": "markdown",
   "id": "771816ec-2f2b-4d6f-a337-c85cc6e838a8",
   "metadata": {},
   "source": [
    "<br>"
   ]
  },
  {
   "cell_type": "code",
   "execution_count": 12,
   "id": "bf45f5ff-2172-404f-9b73-feb79895b6cf",
   "metadata": {
    "tags": []
   },
   "outputs": [
    {
     "data": {
      "text/html": [
       "<html>\n",
       "<div style=\"display:flex; align-items:center;\">\n",
       "<div style=\"width:290px;\">\n",
       "<svg xmlns=\"http://www.w3.org/2000/svg\" viewBox=\"-10 -105 270 120\">\n",
       "<line x1=\"-5\" y1=\"0\" x2=\"255\" y2=\"0\" style=\"fill:none;stroke-width:2;stroke:currentColor\"/>\n",
       "<text text-anchor=\"middle\" x=\"0\" y=\"15\" style=\"fill:currentColor;\">\n",
       "-1.2\n",
       "</text>\n",
       "<text text-anchor=\"middle\" x=\"250\" y=\"15\" style=\"fill:currentColor;\">\n",
       "1.2\n",
       "</text>\n",
       "<text text-anchor=\"middle\" x=\"125.0\" y=\"15\" style=\"fill:currentColor;\">\n",
       " \n",
       "</text>\n",
       "<polyline points=\"  0,0   0,-0 2.5,-0 2.5,-0   5,-0   5,-0 7.5,-0 7.5,-0  10,-0  10,-0 12.5,-0 12.5,-0  15,-0  15,-0 17.5,-0 17.5,-0  20,-0  20,-38.8 22.5,-38.8 22.5,-22.9  25,-22.9  25,-16.8 27.5,-16.8 27.5,-13.7  30,-13.7  30,-12 32.5,-12 32.5,-11  35,-11  35,-10.3 37.5,-10.3 37.5,-9.53  40,-9.53  40,-8.91 42.5,-8.91 42.5,-8.6  45,-8.6  45,-8.17 47.5,-8.17 47.5,-7.84  50,-7.84  50,-7.62 52.5,-7.62 52.5,-7.18  55,-7.18  55,-7.04 57.5,-7.04 57.5,-7  60,-7  60,-6.67 62.5,-6.67 62.5,-6.63  65,-6.63  65,-6.51 67.5,-6.51 67.5,-6.5  70,-6.5  70,-6.53 72.5,-6.53 72.5,-6.19  75,-6.19  75,-6.12 77.5,-6.12 77.5,-6.16  80,-6.16  80,-6.07 82.5,-6.07 82.5,-6.12  85,-6.12  85,-6.03 87.5,-6.03 87.5,-5.88  90,-5.88  90,-5.85 92.5,-5.85 92.5,-5.81  95,-5.81  95,-5.83 97.5,-5.83 97.5,-5.92 100,-5.92 100,-5.8 102.5,-5.8 102.5,-5.67 105,-5.67 105,-5.72 107.5,-5.72 107.5,-5.76 110,-5.76 110,-5.74 112.5,-5.74 112.5,-5.72 115,-5.72 115,-5.69 117.5,-5.69 117.5,-5.73 120,-5.73 120,-5.58 122.5,-5.58 122.5,-5.85 125,-5.85 125,-5.81 127.5,-5.81 127.5,-5.69 130,-5.69 130,-5.99 132.5,-5.99 132.5,-7.27 135,-7.27 135,-9.46 137.5,-9.46 137.5,-12.4 140,-12.4 140,-14.9 142.5,-14.9 142.5,-17.1 145,-17.1 145,-18.7 147.5,-18.7 147.5,-19.9 150,-19.9 150,-21.5 152.5,-21.5 152.5,-21.8 155,-21.8 155,-22.1 157.5,-22.1 157.5,-22.6 160,-22.6 160,-22.8 162.5,-22.8 162.5,-22.8 165,-22.8 165,-22.9 167.5,-22.9 167.5,-23.3 170,-23.3 170,-23 172.5,-23 172.5,-22.9 175,-22.9 175,-22.7 177.5,-22.7 177.5,-23.1 180,-23.1 180,-22.8 182.5,-22.8 182.5,-22.8 185,-22.8 185,-22.7 187.5,-22.7 187.5,-22.8 190,-22.8 190,-22.8 192.5,-22.8 192.5,-22.8 195,-22.8 195,-23.3 197.5,-23.3 197.5,-23.6 200,-23.6 200,-24.2 202.5,-24.2 202.5,-24.2 205,-24.2 205,-25.1 207.5,-25.1 207.5,-25.9 210,-25.9 210,-27.1 212.5,-27.1 212.5,-28.1 215,-28.1 215,-30.4 217.5,-30.4 217.5,-33.3 220,-33.3 220,-36.8 222.5,-36.8 222.5,-43.9 225,-43.9 225,-59.3 227.5,-59.3 227.5,-100 230,-100 230,-0 232.5,-0 232.5,-0 235,-0 235,-0 237.5,-0 237.5,-0 240,-0 240,-0 242.5,-0 242.5,-0 245,-0 245,-0 247.5,-0 247.5,-0 250,-0 250,0\" style=\"fill:none; stroke:currentColor;\"/>\n",
       "</svg>\n",
       "</div>\n",
       "<div style=\"flex=grow:1;\">\n",
       "Regular(100, -1.2, 1.2, name=' ')<br/>\n",
       "<hr style=\"margin-top:.2em; margin-bottom:.2em;\"/>\n",
       "Double() Σ=1000000.0\n",
       "\n",
       "</div>\n",
       "</div>\n",
       "</html>"
      ],
      "text/plain": [
       "Hist(Regular(100, -1.2, 1.2, name=' '), storage=Double()) # Sum: 1000000.0"
      ]
     },
     "execution_count": 12,
     "metadata": {},
     "output_type": "execute_result"
    }
   ],
   "source": [
    "hist.Hist.new.Regular(100, -1.2, 1.2, name=\" \").Double().fill(dataset3)"
   ]
  },
  {
   "cell_type": "markdown",
   "id": "2c4d8829-6833-4ea5-af58-d24e0e8ad535",
   "metadata": {
    "slideshow": {
     "slide_type": "fragment"
    },
    "tags": []
   },
   "source": [
    "<br>\n",
    "\n",
    "I couldn't have guessed that shape: having the computer do it revealed something non-trivial."
   ]
  },
  {
   "cell_type": "markdown",
   "id": "8f1c872f-a453-43fa-af49-2759e4e3df0b",
   "metadata": {
    "slideshow": {
     "slide_type": "slide"
    },
    "tags": []
   },
   "source": [
    "History of paradigm-related words in CHEP titles & abstracts (Computing in HEP conferences from 1985 through present).\n",
    "\n",
    "\"Arrays\" (originally, Fortran arrays) are making a comeback.\n",
    "\n",
    "<br>"
   ]
  },
  {
   "cell_type": "markdown",
   "id": "bdee882c-d47c-4710-984e-d417e51876d2",
   "metadata": {},
   "source": [
    "<center>\n",
    "<img src=\"img/chep-papers-paradigm.svg\" width=\"75%\">\n",
    "</center>"
   ]
  },
  {
   "cell_type": "markdown",
   "id": "a551e583-1933-417a-a7bb-e0d57b0715e3",
   "metadata": {
    "slideshow": {
     "slide_type": "slide"
    },
    "tags": []
   },
   "source": [
    "## Awkward Arrays"
   ]
  },
  {
   "cell_type": "markdown",
   "id": "42c1d98b-4d28-4fc6-836d-c15ba688c1ce",
   "metadata": {},
   "source": [
    "<br>\n",
    "\n",
    "In exercise-1, we saw that particle physics analyses rely heavily on combinatorics.\n",
    "\n",
    "<br>\n",
    "\n",
    "In exercise-2, we saw that NumPy arrays and operations don't provide enough structure (in the data or operations)."
   ]
  },
  {
   "cell_type": "markdown",
   "id": "afc75aad-420c-4be9-8d7d-e4ffa2dfe5cc",
   "metadata": {
    "slideshow": {
     "slide_type": "fragment"
    },
    "tags": []
   },
   "source": [
    "<br><br><br>\n",
    "\n",
    "The Awkward Array library was created to fill that gap."
   ]
  },
  {
   "cell_type": "markdown",
   "id": "e3ef9a78-dfc5-45b4-a009-43a1a6dac097",
   "metadata": {
    "slideshow": {
     "slide_type": "slide"
    },
    "tags": []
   },
   "source": [
    "Load Higgs data as an Awkward Array."
   ]
  },
  {
   "cell_type": "code",
   "execution_count": 6,
   "id": "a8a2e59b-ba3f-444b-9bb3-746b9d7ed6b0",
   "metadata": {
    "tags": []
   },
   "outputs": [],
   "source": [
    "import awkward as ak"
   ]
  },
  {
   "cell_type": "markdown",
   "id": "22010e24-a4f2-4732-9d83-ea4660f34988",
   "metadata": {},
   "source": [
    "<br>"
   ]
  },
  {
   "cell_type": "code",
   "execution_count": 7,
   "id": "cf839c7f-8330-44bd-8246-3646a00eee93",
   "metadata": {
    "tags": []
   },
   "outputs": [
    {
     "data": {
      "text/html": [
       "<pre>[{run: 1, luminosityBlock: 156, event: 46501, PV: {...}, electron: [], ...},\n",
       " {run: 1, luminosityBlock: 156, event: 46502, PV: {...}, electron: [...], ...},\n",
       " {run: 1, luminosityBlock: 156, event: 46503, PV: {...}, electron: [...], ...},\n",
       " {run: 1, luminosityBlock: 156, event: 46504, PV: {...}, electron: ..., ...},\n",
       " {run: 1, luminosityBlock: 156, event: 46505, PV: {...}, electron: [...], ...},\n",
       " {run: 1, luminosityBlock: 156, event: 46506, PV: {...}, electron: ..., ...},\n",
       " {run: 1, luminosityBlock: 156, event: 46507, PV: {...}, electron: ..., ...},\n",
       " {run: 1, luminosityBlock: 156, event: 46508, PV: {...}, electron: ..., ...},\n",
       " {run: 1, luminosityBlock: 156, event: 46509, PV: {...}, electron: [...], ...},\n",
       " {run: 1, luminosityBlock: 156, event: 46510, PV: {...}, electron: [], ...},\n",
       " ...,\n",
       " {run: 1, luminosityBlock: 996, event: 298792, PV: {...}, electron: [...], ...},\n",
       " {run: 1, luminosityBlock: 996, event: 298793, PV: {...}, electron: ..., ...},\n",
       " {run: 1, luminosityBlock: 996, event: 298794, PV: {...}, electron: [], ...},\n",
       " {run: 1, luminosityBlock: 996, event: 298795, PV: {...}, electron: [...], ...},\n",
       " {run: 1, luminosityBlock: 996, event: 298796, PV: {...}, electron: [], ...},\n",
       " {run: 1, luminosityBlock: 996, event: 298797, PV: {...}, electron: ..., ...},\n",
       " {run: 1, luminosityBlock: 996, event: 298798, PV: {...}, electron: [], ...},\n",
       " {run: 1, luminosityBlock: 996, event: 298799, PV: {...}, electron: [...], ...},\n",
       " {run: 1, luminosityBlock: 996, event: 298800, PV: {...}, electron: [...], ...}]\n",
       "--------------------------------------------------------------------------------\n",
       "type: 299973 * {\n",
       "    run: int32,\n",
       "    luminosityBlock: int64,\n",
       "    event: uint64,\n",
       "    PV: Vector3D[\n",
       "        x: float32,\n",
       "        y: float32,\n",
       "        z: float32\n",
       "    ],\n",
       "    electron: var * Momentum4D[\n",
       "        pt: float32,\n",
       "        eta: float32,\n",
       "        phi: float32,\n",
       "        mass: float32,\n",
       "        charge: int32,\n",
       "        pfRelIso03_all: float32,\n",
       "        dxy: float32,\n",
       "        dxyErr: float32,\n",
       "        dz: float32,\n",
       "        dzErr: float32\n",
       "    ],\n",
       "    muon: var * Momentum4D[\n",
       "        pt: float32,\n",
       "        eta: float32,\n",
       "        phi: float32,\n",
       "        mass: float32,\n",
       "        charge: int32,\n",
       "        pfRelIso03_all: float32,\n",
       "        pfRelIso04_all: float32,\n",
       "        dxy: float32,\n",
       "        dxyErr: float32,\n",
       "        dz: float32,\n",
       "        dzErr: float32\n",
       "    ],\n",
       "    MET: Momentum2D[\n",
       "        pt: float32,\n",
       "        phi: float32\n",
       "    ]\n",
       "}</pre>"
      ],
      "text/plain": [
       "<Array [{run: 1, ...}, ..., {run: 1, ...}] type='299973 * {run: int32, lumi...'>"
      ]
     },
     "execution_count": 7,
     "metadata": {},
     "output_type": "execute_result"
    }
   ],
   "source": [
    "events = ak.from_parquet(\"data/SMHiggsToZZTo4L.parquet\")\n",
    "events"
   ]
  },
  {
   "cell_type": "markdown",
   "id": "6062c7fa-43f5-4a37-9c32-189364bb3c83",
   "metadata": {
    "slideshow": {
     "slide_type": "slide"
    },
    "tags": []
   },
   "source": [
    "View the first event as Python lists and dicts (like JSON)."
   ]
  },
  {
   "cell_type": "code",
   "execution_count": null,
   "id": "30661cff-00f8-4556-8a6e-b25642f13170",
   "metadata": {
    "tags": []
   },
   "outputs": [],
   "source": [
    "events[0].to_list()"
   ]
  },
  {
   "cell_type": "markdown",
   "id": "025e8586-7cb8-41a8-af7b-dff38ab78174",
   "metadata": {
    "slideshow": {
     "slide_type": "slide"
    },
    "tags": []
   },
   "source": [
    "Get one numeric field (also known as \"column\")."
   ]
  },
  {
   "cell_type": "code",
   "execution_count": null,
   "id": "68a0c07c-e7f3-4e98-a368-4c8899c833e2",
   "metadata": {
    "tags": []
   },
   "outputs": [],
   "source": [
    "events.electron.pt"
   ]
  },
  {
   "cell_type": "markdown",
   "id": "e7006a4c-e4c1-496e-abeb-642136d227bd",
   "metadata": {
    "slideshow": {
     "slide_type": "slide"
    },
    "tags": []
   },
   "source": [
    "Compute something ($p_z = p_T \\sinh\\eta$)."
   ]
  },
  {
   "cell_type": "code",
   "execution_count": null,
   "id": "b97c4bcf-58da-4e0a-a47d-c1c4ae1c9da8",
   "metadata": {
    "tags": []
   },
   "outputs": [],
   "source": [
    "events.electron.pt * np.sinh(events.electron.eta)"
   ]
  },
  {
   "cell_type": "markdown",
   "id": "1a970ef8-9da8-4aba-bcef-0551c84e3082",
   "metadata": {
    "slideshow": {
     "slide_type": "slide"
    },
    "tags": []
   },
   "source": [
    "To plot it, we need numbers without structure, so [ak.flatten](https://awkward-array.org/doc/main/reference/generated/ak.flatten.html) it."
   ]
  },
  {
   "cell_type": "code",
   "execution_count": null,
   "id": "c24df813-578a-4f81-8934-46d657c11024",
   "metadata": {
    "tags": []
   },
   "outputs": [],
   "source": [
    "hist.Hist.new.Regular(100, 0, 100, name=\" \").Double().fill(\n",
    "    ak.flatten(events.electron.pt)\n",
    ").plot();"
   ]
  },
  {
   "cell_type": "markdown",
   "id": "cad23444-c3cd-44ec-97aa-5574839fb1a3",
   "metadata": {
    "slideshow": {
     "slide_type": "slide"
    },
    "tags": []
   },
   "source": [
    "Each event has a different number of electrons and muons ([ak.num](https://awkward-array.org/doc/main/reference/generated/ak.num.html) to check)."
   ]
  },
  {
   "cell_type": "code",
   "execution_count": null,
   "id": "bf7a2d4a-2386-4f6b-bde0-c563c162b5f0",
   "metadata": {
    "tags": []
   },
   "outputs": [],
   "source": [
    "ak.num(events.electron), ak.num(events.muon)"
   ]
  },
  {
   "cell_type": "markdown",
   "id": "b92ddf40-e68f-4c2c-b11c-eef3db16bc4e",
   "metadata": {
    "slideshow": {
     "slide_type": "fragment"
    },
    "tags": []
   },
   "source": [
    "<br>\n",
    "\n",
    "So what happens if we try to compute something with the electrons' $p_T$ and the muons' $\\eta$?"
   ]
  },
  {
   "cell_type": "code",
   "execution_count": null,
   "id": "6efa2427-2732-45af-928e-0d649b7f92c2",
   "metadata": {
    "tags": [
     "raises-exception"
    ]
   },
   "outputs": [],
   "source": [
    "events.electron.pt * np.sinh(events.muon.eta)"
   ]
  },
  {
   "cell_type": "markdown",
   "id": "2180e4af-f85a-4f97-913e-47c0793e8ad8",
   "metadata": {
    "slideshow": {
     "slide_type": "slide"
    },
    "tags": []
   },
   "source": [
    "This is data structure-aware, array-oriented programming."
   ]
  },
  {
   "cell_type": "markdown",
   "id": "c0077e5e-136b-4916-b90e-5f62e74161f3",
   "metadata": {
    "slideshow": {
     "slide_type": "slide"
    },
    "tags": []
   },
   "source": [
    "Before moving on, I should point out that we can get these data from ROOT files:"
   ]
  },
  {
   "cell_type": "code",
   "execution_count": null,
   "id": "e7e4d6c7-c38c-429b-a491-4d26f645da15",
   "metadata": {
    "tags": []
   },
   "outputs": [],
   "source": [
    "import uproot"
   ]
  },
  {
   "cell_type": "markdown",
   "id": "d569b377-e02a-48fe-8c95-a43068b8017b",
   "metadata": {},
   "source": [
    "<br>"
   ]
  },
  {
   "cell_type": "code",
   "execution_count": null,
   "id": "91fc47b8-aa69-4685-89e7-c8637d3b9f77",
   "metadata": {
    "tags": []
   },
   "outputs": [],
   "source": [
    "file = uproot.open(\"data/SMHiggsToZZTo4L.root\")\n",
    "file"
   ]
  },
  {
   "cell_type": "markdown",
   "id": "aaa94bdd-b9f0-4476-ad56-955b96d6852b",
   "metadata": {},
   "source": [
    "<br>"
   ]
  },
  {
   "cell_type": "code",
   "execution_count": null,
   "id": "1ed18345-0074-48e9-861b-217cc7140500",
   "metadata": {
    "tags": []
   },
   "outputs": [],
   "source": [
    "tree = file[\"Events\"]\n",
    "tree"
   ]
  },
  {
   "cell_type": "markdown",
   "id": "00190a1e-a590-4d2d-9256-031c9d067a94",
   "metadata": {
    "slideshow": {
     "slide_type": "fragment"
    },
    "tags": []
   },
   "source": [
    "<br>\n",
    "\n",
    "Uproot has several methods to read arrays (NumPy/Awkward/Pandas), but [uproot.TTree.arrays](https://uproot.readthedocs.io/en/latest/uproot.behaviors.TTree.TTree.html#arrays) is a general one."
   ]
  },
  {
   "cell_type": "code",
   "execution_count": null,
   "id": "97b05e9a-2a1e-4d2a-a7bc-b6c93c822bcf",
   "metadata": {
    "tags": []
   },
   "outputs": [],
   "source": [
    "tree.arrays(filter_name=\"Electron_*\")"
   ]
  },
  {
   "cell_type": "markdown",
   "id": "6c92a9c5-3755-4109-b586-5afb7f678d7b",
   "metadata": {
    "slideshow": {
     "slide_type": "slide"
    },
    "tags": []
   },
   "source": [
    "## Basic operations of Awkward Array"
   ]
  },
  {
   "cell_type": "markdown",
   "id": "ad83e40f-021c-4d77-98a8-48f7fba49347",
   "metadata": {
    "slideshow": {
     "slide_type": "slide"
    },
    "tags": []
   },
   "source": [
    "Illustrated with a small array."
   ]
  },
  {
   "cell_type": "code",
   "execution_count": null,
   "id": "b19ac077-3a78-43e1-881e-2dcb67f2514d",
   "metadata": {
    "tags": []
   },
   "outputs": [],
   "source": [
    "array = ak.from_iter([[{\"x\": 1.1, \"y\": [1]}, {\"x\": 2.2, \"y\": [1, 2]}], [], [{\"x\": 3.3, \"y\": [1, 2, 3]}]])\n",
    "array"
   ]
  },
  {
   "cell_type": "markdown",
   "id": "1973759c-9179-4997-98eb-95791b1ed58e",
   "metadata": {
    "slideshow": {
     "slide_type": "fragment"
    },
    "tags": []
   },
   "source": [
    "<br>\n",
    "\n",
    "We've seen some selections (single item, by field name), but here they are for the small array:"
   ]
  },
  {
   "cell_type": "code",
   "execution_count": null,
   "id": "05fe2268-76c6-4726-bf4c-388d9cbcbfa5",
   "metadata": {
    "tags": []
   },
   "outputs": [],
   "source": [
    "array[0]"
   ]
  },
  {
   "cell_type": "markdown",
   "id": "bc57fac2-ee63-451c-9cad-962bc69dc017",
   "metadata": {},
   "source": [
    "<br>"
   ]
  },
  {
   "cell_type": "code",
   "execution_count": null,
   "id": "d5d92112-2d38-46bd-a1bb-dc6d3c5d7eee",
   "metadata": {
    "tags": []
   },
   "outputs": [],
   "source": [
    "array[0, \"y\", -1]"
   ]
  },
  {
   "cell_type": "markdown",
   "id": "e5b51a9b-b90e-4535-84a9-841fe467fb2b",
   "metadata": {
    "slideshow": {
     "slide_type": "slide"
    },
    "tags": []
   },
   "source": [
    "We've seen mapped operations (NumPy ufuncs):"
   ]
  },
  {
   "cell_type": "code",
   "execution_count": null,
   "id": "d086c9a3-2404-45c3-b478-924d4c0ccf3f",
   "metadata": {
    "tags": []
   },
   "outputs": [],
   "source": [
    "np.square(array[\"x\"])"
   ]
  },
  {
   "cell_type": "markdown",
   "id": "151373d0-4e2a-47fe-b98f-3660cc720f8a",
   "metadata": {
    "tags": []
   },
   "source": [
    "<br>"
   ]
  },
  {
   "cell_type": "code",
   "execution_count": null,
   "id": "276d8b92-11b7-4d3d-86b6-b03b07f48de3",
   "metadata": {
    "tags": []
   },
   "outputs": [],
   "source": [
    "np.sqrt(array[\"y\"])"
   ]
  },
  {
   "cell_type": "markdown",
   "id": "cb9d3dfb-1b45-4e52-8be7-ff70a8420769",
   "metadata": {
    "slideshow": {
     "slide_type": "slide"
    },
    "tags": []
   },
   "source": [
    "Reducers ([ak.sum](https://awkward-array.org/doc/main/reference/generated/ak.sum.html), [ak.min](https://awkward-array.org/doc/main/reference/generated/ak.min.html), [ak.max](https://awkward-array.org/doc/main/reference/generated/ak.max.html), [ak.any](https://awkward-array.org/doc/main/reference/generated/ak.any.html), [ak.all](https://awkward-array.org/doc/main/reference/generated/ak.all.html), etc.) apply to lists of variable length, including zero length."
   ]
  },
  {
   "cell_type": "code",
   "execution_count": null,
   "id": "26756259-9918-4686-aa19-ed51a429b4e6",
   "metadata": {
    "tags": []
   },
   "outputs": [],
   "source": [
    "ak.sum(array[\"x\"])"
   ]
  },
  {
   "cell_type": "markdown",
   "id": "c3c5409e-f9ae-44d0-a22a-48051e83c304",
   "metadata": {},
   "source": [
    "<br>"
   ]
  },
  {
   "cell_type": "code",
   "execution_count": null,
   "id": "3a0227eb-795e-43cb-b119-38a618705331",
   "metadata": {
    "tags": []
   },
   "outputs": [],
   "source": [
    "ak.sum(array[\"y\"], axis=-1)"
   ]
  },
  {
   "cell_type": "markdown",
   "id": "03589116-afa7-4e02-8286-01f048fd8b8f",
   "metadata": {
    "slideshow": {
     "slide_type": "slide"
    },
    "tags": []
   },
   "source": [
    "The `axis` parameter has the same meaning as in NumPy, but extended to allow for non-rectilinear data."
   ]
  },
  {
   "cell_type": "code",
   "execution_count": null,
   "id": "78023b6a-060d-44de-92f4-4337d9c456c8",
   "metadata": {
    "tags": []
   },
   "outputs": [],
   "source": [
    "array2 = ak.from_iter([[   1,    2,    4],\n",
    "                       [                ],\n",
    "                       [None,    8      ],\n",
    "                       [  16            ]])"
   ]
  },
  {
   "cell_type": "markdown",
   "id": "c113adef-66b9-4b84-903f-96dd52f7cff2",
   "metadata": {},
   "source": [
    "<br>"
   ]
  },
  {
   "cell_type": "code",
   "execution_count": null,
   "id": "9e962fdc-5f5a-45a2-9334-57da441cd605",
   "metadata": {
    "tags": []
   },
   "outputs": [],
   "source": [
    "ak.sum(array2, axis=0)"
   ]
  },
  {
   "cell_type": "markdown",
   "id": "a1712f5a-0a1b-4ca8-9cde-e3b385e6ace9",
   "metadata": {},
   "source": [
    "<br>"
   ]
  },
  {
   "cell_type": "code",
   "execution_count": null,
   "id": "e482352d-2b68-4c09-b881-6dd95c65a221",
   "metadata": {
    "tags": []
   },
   "outputs": [],
   "source": [
    "ak.sum(array2, axis=1)"
   ]
  },
  {
   "cell_type": "markdown",
   "id": "67e6dbf9-e66e-4775-82d1-60894fe58b80",
   "metadata": {
    "slideshow": {
     "slide_type": "slide"
    },
    "tags": []
   },
   "source": [
    "Slicing with boolean or integer arrays."
   ]
  },
  {
   "cell_type": "code",
   "execution_count": null,
   "id": "7f9df890-c9c9-4d55-ac25-7323ad60b43d",
   "metadata": {
    "tags": []
   },
   "outputs": [],
   "source": [
    "array"
   ]
  },
  {
   "cell_type": "markdown",
   "id": "4e73d27d-be2f-4f0e-b561-f48e5125e164",
   "metadata": {},
   "source": [
    "<br>"
   ]
  },
  {
   "cell_type": "code",
   "execution_count": null,
   "id": "9bcc9eae-9fd2-415e-9698-db889db47f36",
   "metadata": {
    "tags": []
   },
   "outputs": [],
   "source": [
    "array[[False, False, True]]"
   ]
  },
  {
   "cell_type": "markdown",
   "id": "d6af9b2a-b2ef-4afb-8d3f-194b86e116de",
   "metadata": {},
   "source": [
    "<br>"
   ]
  },
  {
   "cell_type": "code",
   "execution_count": null,
   "id": "39259442-153d-4247-bc84-c6e101b46dd8",
   "metadata": {
    "tags": []
   },
   "outputs": [],
   "source": [
    "array[[1, 1, 1, 2]]"
   ]
  },
  {
   "cell_type": "markdown",
   "id": "2cd9f17b-0236-446c-b317-92931f87e58e",
   "metadata": {
    "slideshow": {
     "slide_type": "slide"
    },
    "tags": []
   },
   "source": [
    "Slicing with arrays of _lists_ of booleans or integers."
   ]
  },
  {
   "cell_type": "code",
   "execution_count": null,
   "id": "7a14187b-dfbc-4493-a2db-5015534a19d0",
   "metadata": {
    "tags": []
   },
   "outputs": [],
   "source": [
    "array.y"
   ]
  },
  {
   "cell_type": "markdown",
   "id": "11d0fbf7-d9c4-4c73-8ef8-462aee9da210",
   "metadata": {},
   "source": [
    "<br>"
   ]
  },
  {
   "cell_type": "code",
   "execution_count": null,
   "id": "97da14d2-91d7-429a-bd15-77aec8c968ab",
   "metadata": {
    "tags": []
   },
   "outputs": [],
   "source": [
    "array.y[[[[True], [False, True]], [], [[False, True, False]]]]"
   ]
  },
  {
   "cell_type": "markdown",
   "id": "e0f1482b-d45b-4dd2-bff1-b011ff264107",
   "metadata": {},
   "source": [
    "<br>"
   ]
  },
  {
   "cell_type": "code",
   "execution_count": null,
   "id": "c2322909-57d3-497c-9126-73b89d050da7",
   "metadata": {
    "tags": []
   },
   "outputs": [],
   "source": [
    "array.y[[[[], [-1, -1, -1]], [], [[0, 1, 1, 1, 1, 1, 2]]]]"
   ]
  },
  {
   "cell_type": "markdown",
   "id": "6cbb32f7-a29e-488a-ba49-91da99c0da27",
   "metadata": {
    "slideshow": {
     "slide_type": "slide"
    },
    "tags": []
   },
   "source": [
    "**Application:** Filtering events with an array of booleans."
   ]
  },
  {
   "cell_type": "code",
   "execution_count": null,
   "id": "837028eb-b6e2-4e4c-9ce2-25dcc9a322d1",
   "metadata": {
    "tags": []
   },
   "outputs": [],
   "source": [
    "events.MET.pt, events.MET.pt > 20"
   ]
  },
  {
   "cell_type": "markdown",
   "id": "a7d64da3-105b-492b-b845-5f6792f87b59",
   "metadata": {},
   "source": [
    "<br>"
   ]
  },
  {
   "cell_type": "code",
   "execution_count": null,
   "id": "90b15e78-2d2d-493e-b000-99bfbac8a2e5",
   "metadata": {
    "tags": []
   },
   "outputs": [],
   "source": [
    "len(events), len(events[events.MET.pt > 20])"
   ]
  },
  {
   "cell_type": "markdown",
   "id": "5540b1a3-c45c-48b8-92d9-8469da16abd3",
   "metadata": {
    "slideshow": {
     "slide_type": "fragment"
    },
    "tags": []
   },
   "source": [
    "<br>\n",
    "\n",
    "**Application:** Filtering particles with an array of lists of booleans."
   ]
  },
  {
   "cell_type": "code",
   "execution_count": null,
   "id": "de479efd-67a9-405a-949b-8bc581911fe5",
   "metadata": {
    "tags": []
   },
   "outputs": [],
   "source": [
    "events.electron.pt, events.electron.pt > 30"
   ]
  },
  {
   "cell_type": "markdown",
   "id": "e23b75d4-34cb-42e7-aed1-3cee1d7d7011",
   "metadata": {},
   "source": [
    "<br>"
   ]
  },
  {
   "cell_type": "code",
   "execution_count": null,
   "id": "d57a84d2-7420-47fb-937c-54fbd963a215",
   "metadata": {
    "tags": []
   },
   "outputs": [],
   "source": [
    "ak.num(events.electron), ak.num(events.electron[events.electron.pt > 30])"
   ]
  },
  {
   "cell_type": "markdown",
   "id": "be848f09-620d-46a0-8b3d-b99ff2cf174b",
   "metadata": {
    "slideshow": {
     "slide_type": "slide"
    },
    "tags": []
   },
   "source": [
    "**Quizlet:** Using the reducer [ak.any](https://awkward-array.org/doc/main/reference/generated/ak.any.html), how would we select _events_ in which any electron has $p_T > 30$ GeV/c$^2$?"
   ]
  },
  {
   "cell_type": "code",
   "execution_count": null,
   "id": "56994092-b588-43bb-98fa-913b61a001d3",
   "metadata": {
    "tags": []
   },
   "outputs": [],
   "source": [
    "events.electron[events.electron.pt > 30]"
   ]
  },
  {
   "cell_type": "code",
   "execution_count": null,
   "id": "e07cea8c-f45a-4fa5-8f0f-4c50438a2b8e",
   "metadata": {},
   "outputs": [],
   "source": []
  },
  {
   "cell_type": "markdown",
   "id": "fd1c4818-492e-4e06-836b-0eed95c8561b",
   "metadata": {
    "slideshow": {
     "slide_type": "fragment"
    },
    "tags": []
   },
   "source": [
    "**Bonus:** How would you do it with [ak.min](https://awkward-array.org/doc/main/reference/generated/ak.min.html)?"
   ]
  },
  {
   "cell_type": "markdown",
   "id": "30c383eb-4f13-4f71-a1a3-5dd6f966750d",
   "metadata": {
    "slideshow": {
     "slide_type": "slide"
    },
    "tags": []
   },
   "source": [
    "Awkward Array has two combinatorial primitives:"
   ]
  },
  {
   "cell_type": "markdown",
   "id": "e9a0460c-7857-4478-8549-06a4c3c64f3f",
   "metadata": {
    "tags": []
   },
   "source": [
    "<table style=\"width: 50%\">\n",
    "    <tr style=\"background: white\"><td style=\"font-size: 1.75em; font-weight: bold; text-align: center\"><a href=\"https://awkward-array.org/doc/main/reference/generated/ak.cartesian.html\">ak.cartesian</a></td><td style=\"font-size: 1.75em; font-weight: bold; text-align: center\"><a href=\"https://awkward-array.org/doc/main/reference/generated/ak.combinations.html\">ak.combinations</a></td></tr>\n",
    "    <tr style=\"background: white\"><td><img src=\"img/cartoon-cartesian.svg\" width=\"100%\"></td><td><img src=\"img/cartoon-combinations.svg\" width=\"100%\"></td></tr>\n",
    "</table>"
   ]
  },
  {
   "cell_type": "markdown",
   "id": "750d99a1-2982-411b-868f-92561e8a958d",
   "metadata": {},
   "source": [
    "[ak.cartesian](https://awkward-array.org/doc/main/reference/generated/ak.cartesian.html) takes a [Cartesian product](https://en.wikipedia.org/wiki/Cartesian_product) of lists from $N$ different arrays, producing an array of lists of $N$-tuples.\n",
    "\n",
    "[ak.combinations](https://awkward-array.org/doc/main/reference/generated/ak.combinations.html) takes $N$ [samples without replacement](http://prob140.org/sp18/textbook/notebooks-md/5_04_Sampling_Without_Replacement.html) of lists from a single array, producing an array of lists of $N$-tuples."
   ]
  },
  {
   "cell_type": "code",
   "execution_count": null,
   "id": "ad5ebb21-903a-48e1-9a39-7470899e2707",
   "metadata": {
    "slideshow": {
     "slide_type": "slide"
    },
    "tags": []
   },
   "outputs": [],
   "source": [
    "numbers = ak.Array([[1, 2, 3], [], [4]])\n",
    "letters = ak.Array([[\"a\", \"b\"], [\"c\"], [\"d\", \"e\"]])"
   ]
  },
  {
   "cell_type": "markdown",
   "id": "be2b98f5-0789-4ffb-9de2-9fe9f2f5e4c6",
   "metadata": {},
   "source": [
    "<br>"
   ]
  },
  {
   "cell_type": "code",
   "execution_count": null,
   "id": "bc34ead4-dac5-443e-b310-b70d5cc3f576",
   "metadata": {
    "tags": []
   },
   "outputs": [],
   "source": [
    "ak.cartesian([numbers, letters])"
   ]
  },
  {
   "cell_type": "markdown",
   "id": "7f53e5c4-e926-41ee-b238-2c546ebb495c",
   "metadata": {},
   "source": [
    "<br>"
   ]
  },
  {
   "cell_type": "code",
   "execution_count": null,
   "id": "5acee077-bc03-42b5-b1ff-e7ada2c316fc",
   "metadata": {
    "slideshow": {
     "slide_type": "fragment"
    },
    "tags": []
   },
   "outputs": [],
   "source": [
    "values = ak.Array([[1.1, 2.2, 3.3, 4.4], [], [5.5, 6.6]])"
   ]
  },
  {
   "cell_type": "markdown",
   "id": "ca610acd-931e-4eef-b234-7d09ffafa5e8",
   "metadata": {},
   "source": [
    "<br>"
   ]
  },
  {
   "cell_type": "code",
   "execution_count": null,
   "id": "f951369c-504c-460a-9b14-88cd4c5f580c",
   "metadata": {
    "tags": []
   },
   "outputs": [],
   "source": [
    "ak.combinations(values, 2)"
   ]
  },
  {
   "cell_type": "markdown",
   "id": "eaf6f185-59d6-4fd9-a6e1-0e5c8da05eec",
   "metadata": {
    "slideshow": {
     "slide_type": "slide"
    },
    "tags": []
   },
   "source": [
    "Often, it's useful to separate the separate the left-hand sides and right-hand sides of these pairs with [ak.unzip](https://awkward-array.org/doc/main/reference/generated/ak.unzip.html), so they can be used in mathematical expressions.\n",
    "\n",
    "<br>"
   ]
  },
  {
   "cell_type": "code",
   "execution_count": null,
   "id": "3af21260-9664-4273-9366-b180248a4d52",
   "metadata": {
    "tags": []
   },
   "outputs": [],
   "source": [
    "electron_muon_pairs = ak.cartesian([events.electron, events.muon])\n",
    "# electron_muon_pairs.type.show()"
   ]
  },
  {
   "cell_type": "markdown",
   "id": "538d443d-189c-4ddc-a6c1-76252ce69028",
   "metadata": {},
   "source": [
    "<br>"
   ]
  },
  {
   "cell_type": "code",
   "execution_count": null,
   "id": "64aec3d8-6f83-4ad1-94e8-baecdf1cd00a",
   "metadata": {
    "tags": []
   },
   "outputs": [],
   "source": [
    "electron_in_pair, muon_in_pair = ak.unzip(electron_muon_pairs)\n",
    "# electron_in_pair.type.show()"
   ]
  },
  {
   "cell_type": "markdown",
   "id": "6c03762b-2d91-44ab-814a-84917cb55d2f",
   "metadata": {},
   "source": [
    "<br>"
   ]
  },
  {
   "cell_type": "code",
   "execution_count": null,
   "id": "17f939bd-c112-4313-9760-edb3a3f473c1",
   "metadata": {
    "slideshow": {
     "slide_type": "fragment"
    },
    "tags": []
   },
   "outputs": [],
   "source": [
    "electron_in_pair.pt, muon_in_pair.pt"
   ]
  },
  {
   "cell_type": "markdown",
   "id": "6c881058-c738-4df3-b08a-18b9a59d2390",
   "metadata": {},
   "source": [
    "<br>"
   ]
  },
  {
   "cell_type": "code",
   "execution_count": null,
   "id": "663f0f1a-685b-498d-ba2a-bbd90aaf1142",
   "metadata": {
    "slideshow": {
     "slide_type": "fragment"
    },
    "tags": []
   },
   "outputs": [],
   "source": [
    "ak.num(electron_in_pair), ak.num(muon_in_pair)"
   ]
  },
  {
   "cell_type": "markdown",
   "id": "fa9b7961-984b-4330-9359-31b80b6173e7",
   "metadata": {
    "slideshow": {
     "slide_type": "slide"
    },
    "tags": []
   },
   "source": [
    "The Vector library [can be applied to Awkward Arrays](https://vector.readthedocs.io/en/latest/usage/intro.html#Awkward-Arrays-of-vectors), and the easiest way to do that is by calling `register_awkward` after importing it.\n",
    "\n",
    "<br>"
   ]
  },
  {
   "cell_type": "code",
   "execution_count": null,
   "id": "b51b4149-09da-4f1c-b412-8c3d7399fea0",
   "metadata": {
    "tags": []
   },
   "outputs": [],
   "source": [
    "import vector\n",
    "vector.register_awkward()"
   ]
  },
  {
   "cell_type": "markdown",
   "id": "f8729873-26e4-4fd8-907c-2e0a1b971b9b",
   "metadata": {},
   "source": [
    "<br>\n",
    "\n",
    "Now all Awkward data structures named \"`Momentum4D`\" can compute `px`, `py`, `pz`, etc. from `pt`, `phi`, `eta`, etc."
   ]
  },
  {
   "cell_type": "code",
   "execution_count": null,
   "id": "1510a0b1-6af7-4b9e-8c52-a46b797f5771",
   "metadata": {
    "tags": []
   },
   "outputs": [],
   "source": [
    "events.electron.px, events.electron.py, events.electron.pz"
   ]
  },
  {
   "cell_type": "markdown",
   "id": "07cb0c32-08d9-41d4-965e-c9b6bab2fc78",
   "metadata": {
    "slideshow": {
     "slide_type": "slide"
    },
    "tags": []
   },
   "source": [
    "Other useful functions, like $\\Delta R = \\sqrt{\\Delta\\phi^2 + \\Delta\\eta^2}$, can be applied to combinations of particles."
   ]
  },
  {
   "cell_type": "code",
   "execution_count": null,
   "id": "823f9955-e376-412e-94ba-6eb07bbd2c6e",
   "metadata": {
    "tags": []
   },
   "outputs": [],
   "source": [
    "electron_in_pair, muon_in_pair = ak.unzip(ak.cartesian([events.electron, events.muon]))"
   ]
  },
  {
   "cell_type": "markdown",
   "id": "3e9dd29b-57c9-4ca9-8f9b-992304deb25a",
   "metadata": {},
   "source": [
    "<br>"
   ]
  },
  {
   "cell_type": "code",
   "execution_count": null,
   "id": "285f7f5f-8a94-4d5d-b273-35e1dd2bb24a",
   "metadata": {
    "tags": []
   },
   "outputs": [],
   "source": [
    "electron_in_pair.deltaR(muon_in_pair)"
   ]
  },
  {
   "cell_type": "code",
   "execution_count": null,
   "id": "88ab29c7-6dd9-4b9e-a98c-da9e6d2790c2",
   "metadata": {
    "slideshow": {
     "slide_type": "slide"
    },
    "tags": []
   },
   "outputs": [],
   "source": [
    "first_electron_in_pair, second_electron_in_pair = ak.unzip(ak.combinations(events.electron, 2))"
   ]
  },
  {
   "cell_type": "markdown",
   "id": "6bae19fe-6506-4d68-b8fd-8a14539fdcdb",
   "metadata": {},
   "source": [
    "<br>"
   ]
  },
  {
   "cell_type": "code",
   "execution_count": null,
   "id": "5998a553-9593-497a-8dfd-58f108509f9b",
   "metadata": {
    "tags": []
   },
   "outputs": [],
   "source": [
    "first_electron_in_pair.deltaR(second_electron_in_pair)"
   ]
  },
  {
   "cell_type": "markdown",
   "id": "8e6fa96d-cea4-4a0e-bb50-0f47ff33f417",
   "metadata": {
    "slideshow": {
     "slide_type": "slide"
    },
    "tags": []
   },
   "source": [
    "<br>\n",
    "\n",
    "**Quizlet:** What's this?"
   ]
  },
  {
   "cell_type": "code",
   "execution_count": null,
   "id": "6e7854fe-18ae-4fd5-a69c-fcb57d5b5818",
   "metadata": {
    "tags": []
   },
   "outputs": [],
   "source": [
    "(first_electron_in_pair + second_electron_in_pair).mass"
   ]
  },
  {
   "cell_type": "markdown",
   "id": "b0feed59-fe9d-4676-a8ce-60985d66ad95",
   "metadata": {
    "slideshow": {
     "slide_type": "slide"
    },
    "tags": []
   },
   "source": [
    "The next exercise contains solutions because it's not an easy problem, especially if you're new to array programming on structures.\n",
    "\n",
    "<br>\n",
    "\n"
   ]
  },
  {
   "cell_type": "code",
   "execution_count": null,
   "id": "28fa7aa6-59c0-4273-8f2d-13bc439a3799",
   "metadata": {},
   "outputs": [],
   "source": []
  }
 ],
 "metadata": {
  "kernelspec": {
   "display_name": "Python 3 (ipykernel)",
   "language": "python",
   "name": "python3"
  },
  "language_info": {
   "codemirror_mode": {
    "name": "ipython",
    "version": 3
   },
   "file_extension": ".py",
   "mimetype": "text/x-python",
   "name": "python",
   "nbconvert_exporter": "python",
   "pygments_lexer": "ipython3",
   "version": "3.9.18"
  }
 },
 "nbformat": 4,
 "nbformat_minor": 5
}
