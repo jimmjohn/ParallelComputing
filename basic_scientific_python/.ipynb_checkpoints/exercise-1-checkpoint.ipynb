{
 "cells": [
  {
   "cell_type": "markdown",
   "id": "6b208ebc-64d2-4509-8975-c770371174d1",
   "metadata": {},
   "source": [
    "# Exercise 1: find all Higgs candidates in one event"
   ]
  },
  {
   "cell_type": "code",
   "execution_count": null,
   "id": "3ad67f41-528b-47c9-8953-6614b8347eb5",
   "metadata": {},
   "outputs": [],
   "source": [
    "import json\n",
    "\n",
    "import numpy as np\n",
    "import vector\n",
    "\n",
    "dataset = json.load(open(\"data/SMHiggsToZZTo4L.json\"))\n",
    "\n",
    "def to_vector(particle):\n",
    "    return vector.obj(\n",
    "        pt=particle[\"pt\"],\n",
    "        eta=particle[\"eta\"],\n",
    "        phi=particle[\"phi\"],\n",
    "        mass=particle[\"mass\"],\n",
    "    )"
   ]
  },
  {
   "cell_type": "markdown",
   "id": "36472a37-8ab7-40a5-b59a-5430fc2968b0",
   "metadata": {
    "tags": []
   },
   "source": [
    "<br><br><br>\n",
    "\n",
    "Let's start by making the `Particle` class a bit more generic, without class inheritance."
   ]
  },
  {
   "cell_type": "code",
   "execution_count": null,
   "id": "37117cce-0401-405d-89dd-f380378e5da4",
   "metadata": {},
   "outputs": [],
   "source": [
    "class Particle:\n",
    "    def __init__(self, E, px, py, pz, charge, flavor):\n",
    "        self.E = E\n",
    "        self.px = px\n",
    "        self.py = py\n",
    "        self.pz = pz\n",
    "        self.charge = charge\n",
    "        self.flavor = flavor\n",
    "\n",
    "    def __repr__(self):\n",
    "        return f\"<{type(self).__name__} E={self.E} px={self.px} py={self.py} pz={self.pz} charge={self.charge} flavor={self.flavor!r}>\"\n",
    "\n",
    "    # the '__add__' method gives meaning to 'particle + particle'\n",
    "    def __add__(self, other):\n",
    "        return Particle(\n",
    "            self.E + other.E,\n",
    "            self.px + other.px,\n",
    "            self.py + other.py,\n",
    "            self.pz + other.pz,\n",
    "            self.charge + other.charge,\n",
    "            \"none\"\n",
    "            if self.charge + other.charge == 0\n",
    "            else f\"{self.flavor}-{other.flavor}\",\n",
    "        )\n",
    "\n",
    "    # '@property' means we can call this method without parentheses, as though it were an attribute\n",
    "    @property\n",
    "    def mass(self):\n",
    "        return vector.obj(E=self.E, px=self.px, py=self.py, pz=self.pz).mass"
   ]
  },
  {
   "cell_type": "code",
   "execution_count": null,
   "id": "d024205b-c0bb-4a03-ac83-a3124927e113",
   "metadata": {
    "tags": []
   },
   "outputs": [],
   "source": [
    "# Lepton is a general word for electrons, muons, and tau particles; the three types are called \"flavors\".\n",
    "leptons = []\n",
    "\n",
    "event = dataset[96]  # a nice event with 3 electrons and 3 muons\n",
    "\n",
    "for particle in event[\"electron\"]:\n",
    "    v = to_vector(particle)\n",
    "    leptons.append(Particle(v.E, v.px, v.py, v.pz, particle[\"charge\"], \"electron\"))\n",
    "\n",
    "for particle in event[\"muon\"]:\n",
    "    v = to_vector(particle)\n",
    "    leptons.append(Particle(v.E, v.px, v.py, v.pz, particle[\"charge\"], \"muon\"))\n",
    "\n",
    "leptons"
   ]
  },
  {
   "cell_type": "markdown",
   "id": "4fef6a48-e44c-4e91-a562-c517de856055",
   "metadata": {
    "tags": []
   },
   "source": [
    "The `__add__` function lets us combine two particles to get what their parent `Particle` would be _if_ those particles come from the same decay."
   ]
  },
  {
   "cell_type": "code",
   "execution_count": null,
   "id": "7f38656c-1048-45f7-9b25-c95379dad8db",
   "metadata": {
    "tags": []
   },
   "outputs": [],
   "source": [
    "z_boson = leptons[0] + leptons[2]\n",
    "z_boson"
   ]
  },
  {
   "cell_type": "code",
   "execution_count": null,
   "id": "22bd672f-f23d-44bd-8bb7-2b1a0adda68b",
   "metadata": {
    "tags": []
   },
   "outputs": [],
   "source": [
    "z_boson.mass"
   ]
  },
  {
   "cell_type": "markdown",
   "id": "0339b603-95aa-45ce-923b-a262c5e07deb",
   "metadata": {
    "tags": []
   },
   "source": [
    "We don't know, with certainty, which particles are from the same decay and which particles are from different decays, so these are only \"candidates\".\n",
    "\n",
    "In the following, we use `enumerate`:\n",
    "\n",
    "```python\n",
    "list(enumerate([\"a\", \"b\", \"c\"])) == [(0, \"a\"), (1, \"b\"), (2, \"c\")]\n",
    "```\n",
    "\n",
    "and `i < j` to ensure that if we include lepton pair $(i, j)$, we don't also include $(j, i)$."
   ]
  },
  {
   "cell_type": "code",
   "execution_count": null,
   "id": "61abd5cb-479b-4c90-a0ff-c0d9f25031ad",
   "metadata": {
    "tags": []
   },
   "outputs": [],
   "source": [
    "z_candidates_step0 = []\n",
    "for i, lepton_i in enumerate(leptons):\n",
    "    for j, lepton_j in enumerate(leptons):\n",
    "        if i < j:\n",
    "            z_candidates_step0.append({\"index\": [i, j], \"Z boson\": lepton_i + lepton_j})"
   ]
  },
  {
   "cell_type": "markdown",
   "id": "33394558-9604-4a40-83c9-5ca386b7a41e",
   "metadata": {
    "tags": []
   },
   "source": [
    "There are 15 unique lepton pairs in this event."
   ]
  },
  {
   "cell_type": "code",
   "execution_count": null,
   "id": "17410344-da7d-48ef-8d73-c759f2fa80d5",
   "metadata": {
    "tags": []
   },
   "outputs": [],
   "source": [
    "len(z_candidates_step0)"
   ]
  },
  {
   "cell_type": "markdown",
   "id": "5b789749-fbd4-4ec4-8b3b-1f6321e12a79",
   "metadata": {
    "tags": []
   },
   "source": [
    "<br><br><br>\n",
    "\n",
    "<img src=\"img/higgs-to-four-leptons-diagram.png\" width=\"400\">\n",
    "\n",
    "**Exercise part 1:** Z bosons have zero charge and no flavor. Reduce the set of candidates by excluding ones with the wrong properties.\n",
    "\n",
    "<br><br><br>"
   ]
  },
  {
   "cell_type": "code",
   "execution_count": null,
   "id": "a4a4c421-4a8d-4ca8-baed-42286daf9681",
   "metadata": {
    "tags": []
   },
   "outputs": [],
   "source": [
    "z_candidates_step1 = []\n",
    "for candidate in z_candidates_step0:\n",
    "    i, j = candidate[\"index\"]\n",
    "    z_boson = candidate[\"Z boson\"]\n",
    "    if ...:\n",
    "        z_candidates_step1.append(candidate)"
   ]
  },
  {
   "cell_type": "markdown",
   "id": "16a05ac4-b65a-40a2-a592-c29a17b729f7",
   "metadata": {
    "tags": []
   },
   "source": [
    "The number of Z boson candidates you have left should be 8."
   ]
  },
  {
   "cell_type": "code",
   "execution_count": null,
   "id": "c909e9f4-4cb8-4cc5-997a-cd35373875a1",
   "metadata": {
    "tags": []
   },
   "outputs": [],
   "source": [
    "len(z_candidates_step1)"
   ]
  },
  {
   "cell_type": "markdown",
   "id": "980b9c8f-9905-4522-aa21-5d400ec4c974",
   "metadata": {
    "tags": []
   },
   "source": [
    "Print the masses of these Z boson candidates. They should be\n",
    "\n",
    "| Z mass (GeV/$c^2$) |\n",
    "|-----------------:|\n",
    "| 94.65200565609616 |\n",
    "| 62.03397488944119 |\n",
    "|  3.41705043610203 |\n",
    "|  3.08773290949845 |\n",
    "| 45.69023328291948 |\n",
    "|  3.66225837801406 |\n",
    "| 26.45024522236556 |\n",
    "|  3.27373703909123 |"
   ]
  },
  {
   "cell_type": "code",
   "execution_count": null,
   "id": "2cc527cd-f6bb-42a9-87ce-d5a1b550ddea",
   "metadata": {
    "tags": []
   },
   "outputs": [],
   "source": [
    "for candidate in z_candidates_step1:\n",
    "    i, j = candidate[\"index\"]\n",
    "    z_boson = candidate[\"Z boson\"]\n",
    "    print(z_boson.mass)"
   ]
  },
  {
   "cell_type": "markdown",
   "id": "994a0002-d12c-4b16-aae9-50c7c3515718",
   "metadata": {
    "tags": []
   },
   "source": [
    "<br><br><br>\n",
    "\n",
    "**Exercise part 2:** The Higgs boson decays into two Z bosons. The only constraint here is that the two Z bosons can't be \"made of\" the same leptons.\n",
    "\n",
    "<br><br><br>"
   ]
  },
  {
   "cell_type": "code",
   "execution_count": null,
   "id": "f45d9e6e-974a-41a5-a53e-62159d9fb3cc",
   "metadata": {
    "tags": []
   },
   "outputs": [],
   "source": [
    "higgs_candidates_step1 = []\n",
    "\n",
    "for z_index1, z_candidate1 in enumerate(z_candidates_step1):\n",
    "    for z_index2, z_candidate2 in enumerate(z_candidates_step1):\n",
    "        if z_index1 < z_index2:\n",
    "            lepton_i1, lepton_j1 = z_candidate1[\"index\"]\n",
    "            lepton_i2, lepton_j2 = z_candidate2[\"index\"]\n",
    "            z_boson1 = z_candidate1[\"Z boson\"]\n",
    "            z_boson2 = z_candidate2[\"Z boson\"]\n",
    "\n",
    "            if ...:\n",
    "                higgs_candidates_step1.append(\n",
    "                    {\n",
    "                        \"index\": [lepton_i1, lepton_j1, lepton_i2, lepton_j2],\n",
    "                        \"H boson\": z_boson1 + z_boson2,\n",
    "                        \"Z bosons\": [z_boson1, z_boson2],\n",
    "                    }\n",
    "                )"
   ]
  },
  {
   "cell_type": "markdown",
   "id": "0bfe2851-0d2b-45a3-90d3-1a6b5b6cc6a1",
   "metadata": {
    "tags": []
   },
   "source": [
    "The number of Higgs candidates should be 12."
   ]
  },
  {
   "cell_type": "code",
   "execution_count": null,
   "id": "6c601393-4a42-4500-a33d-6237577b7951",
   "metadata": {
    "tags": []
   },
   "outputs": [],
   "source": [
    "len(higgs_candidates_step1)"
   ]
  },
  {
   "cell_type": "markdown",
   "id": "4b034d08-2116-4c6f-b2f7-8db73204a2e4",
   "metadata": {
    "tags": []
   },
   "source": [
    "That's still too many. Each of these events were simulated with exactly one Higgs boson.\n",
    "\n",
    "To see what the matter might be, print out the indexes and the masses of these candidates. It should be\n",
    "\n",
    "| index | H mass (GeV/$c^2$) |\n",
    "|:-----:|------------------:|\n",
    "| [0, 2, 1, 3] | 118.2598039063236 |\n",
    "| [0, 2, 3, 4] | 129.0346159691587 |\n",
    "| [0, 2, 3, 5] | 118.8311777089632 |\n",
    "| [0, 3, 1, 2] | 118.2598039063236 |\n",
    "| [0, 3, 2, 4] | 129.0346159691587 |\n",
    "| [0, 3, 2, 5] | 118.8311777089631 |\n",
    "| [1, 2, 3, 4] |  56.1098916972126 |\n",
    "| [1, 2, 3, 5] |  12.7507340718563 |\n",
    "| [1, 3, 2, 4] |  56.1098916972126 |\n",
    "| [1, 3, 2, 5] |  12.7507340718557 |\n",
    "| [2, 4, 3, 5] |  56.3856286987971 |\n",
    "| [2, 5, 3, 4] |  56.3856286987971 |"
   ]
  },
  {
   "cell_type": "code",
   "execution_count": null,
   "id": "de0cfb40-b192-4285-824b-a74c8e6402c1",
   "metadata": {
    "tags": []
   },
   "outputs": [],
   "source": [
    "for higgs_candidate in higgs_candidates_step1:\n",
    "    print(higgs_candidate[\"index\"], higgs_candidate[\"H boson\"].mass)"
   ]
  },
  {
   "cell_type": "markdown",
   "id": "a101ec73-3b93-4d86-a916-01d9ad6b2bef",
   "metadata": {
    "tags": []
   },
   "source": [
    "Even though each candidate avoids double-counting within itself, the same combination of four indexes can be found among the candidates. We want only one of each.\n",
    "\n",
    "Let's collect these Higgs candidates by unique sets of indexes. The `sorted` function sorts a list, and `tuple` makes it possible to use them as keys in a dict."
   ]
  },
  {
   "cell_type": "code",
   "execution_count": null,
   "id": "64df6ad1-0780-42d8-8c89-9203653b5410",
   "metadata": {
    "tags": []
   },
   "outputs": [],
   "source": [
    "higgs_candidates_step2 = {}\n",
    "\n",
    "for higgs_candidate in higgs_candidates_step1:\n",
    "    combination = tuple(sorted(higgs_candidate[\"index\"]))\n",
    "\n",
    "    if combination not in higgs_candidates_step2:\n",
    "        higgs_candidates_step2[combination] = []\n",
    "\n",
    "    higgs_candidates_step2[combination].append(higgs_candidate)"
   ]
  },
  {
   "cell_type": "markdown",
   "id": "ff51a376-dc5f-485f-896c-a201bf1669e8",
   "metadata": {
    "tags": []
   },
   "source": [
    "This `higgs_candidates_step2` has deep structure:\n",
    "\n",
    "  * Keys are sets combinations of lepton indexes, without regard for their original order.\n",
    "  * Values are a list of decay trees.\n",
    "    - Each element of that list has a candidate Higgs mass and two candidate Z masses."
   ]
  },
  {
   "cell_type": "code",
   "execution_count": null,
   "id": "76e3d7bb-c5c7-4936-8d4a-1de14ae8dd58",
   "metadata": {
    "tags": []
   },
   "outputs": [],
   "source": [
    "for combination in higgs_candidates_step2:\n",
    "    print(combination)\n",
    "    for higgs_candidate in higgs_candidates_step2[combination]:\n",
    "        z_boson1, z_boson2 = higgs_candidate[\"Z bosons\"]\n",
    "        print(\n",
    "            \"    Higgs:\",\n",
    "            higgs_candidate[\"H boson\"].mass,\n",
    "            \"Z:\",\n",
    "            z_boson1.mass,\n",
    "            z_boson2.mass,\n",
    "        )"
   ]
  },
  {
   "cell_type": "markdown",
   "id": "6efeaa34-9c3f-400b-a92b-e6988701bcf8",
   "metadata": {
    "tags": []
   },
   "source": [
    "<br><br><br>\n",
    "\n",
    "One of the selections that the 2012 Higgs discovery analysis applied was:\n",
    "\n",
    "  * 12 GeV/$c^2$ < smallest Z mass < 120 GeV/$c^2$\n",
    "  * 40 GeV/$c^2$ < largest Z mass < 120 GeV/$c^2$\n",
    "\n",
    "because this is expected of real Higgs decays.\n",
    "\n",
    "**Exercise part 3:** Apply the Z mass constraint to these Higgs candidates.\n",
    "\n",
    "<br><br><br>"
   ]
  },
  {
   "cell_type": "code",
   "execution_count": null,
   "id": "33483ba8-ed82-4a49-a6d4-2ee32e00e904",
   "metadata": {
    "tags": []
   },
   "outputs": [],
   "source": [
    "higgs_candidates_step3 = {}\n",
    "\n",
    "for combination in higgs_candidates_step2:\n",
    "    higgs_candidates_step3[combination] = []\n",
    "\n",
    "    for higgs_candidate in higgs_candidates_step2[combination]:\n",
    "        z_boson1, z_boson2 = higgs_candidate[\"Z bosons\"]\n",
    "        z_masses = ...\n",
    "\n",
    "        if ...:\n",
    "            higgs_candidates_step3[combination].append(higgs_candidate)"
   ]
  },
  {
   "cell_type": "markdown",
   "id": "e57a4d49-7b25-4b08-b90e-3d5a51007cc2",
   "metadata": {
    "tags": []
   },
   "source": [
    "In the end,"
   ]
  },
  {
   "cell_type": "code",
   "execution_count": null,
   "id": "2726ac67-f716-4113-bcbb-c93fe4054c89",
   "metadata": {
    "tags": []
   },
   "outputs": [],
   "source": [
    "for combination in higgs_candidates_step3:\n",
    "    print(combination)\n",
    "    for higgs_candidate in higgs_candidates_step3[combination]:\n",
    "        z_boson1, z_boson2 = higgs_candidate[\"Z bosons\"]\n",
    "        print(\n",
    "            \"    Higgs:\",\n",
    "            higgs_candidate[\"H boson\"].mass,\n",
    "            \"Z:\",\n",
    "            z_boson1.mass,\n",
    "            z_boson2.mass,\n",
    "        )"
   ]
  },
  {
   "cell_type": "markdown",
   "id": "6db7aee2-b7fa-48a7-b114-692790ab3978",
   "metadata": {
    "tags": []
   },
   "source": [
    "should be\n",
    "\n",
    "```\n",
    "(0, 1, 2, 3)\n",
    "(0, 2, 3, 4)\n",
    "    Higgs: 129.03461596915875 Z: 94.65200565609616 26.45024522236556\n",
    "    Higgs: 129.03461596915875 Z: 62.03397488944119 45.69023328291948\n",
    "(0, 2, 3, 5)\n",
    "(1, 2, 3, 4)\n",
    "(1, 2, 3, 5)\n",
    "(2, 3, 4, 5)\n",
    "```\n",
    "\n",
    "In other words, there's only one combination of 4 leptons for this event, but that one Higgs might be divided up among Z bosons in two different ways."
   ]
  },
  {
   "cell_type": "markdown",
   "id": "6378ee33-be9c-4b6e-b0da-1e67f37caa4e",
   "metadata": {
    "tags": []
   },
   "source": [
    "<br><br><br>\n",
    "\n",
    "This aspect of particle physics—the fact that observed particles can be associated with a decay tree in multiple ways—is known as \"combinatorics.\"\n",
    "\n",
    "<br>\n",
    "\n",
    "Complex, nested data structures and combinatorics are essential aspects of particle physics analysis.\n",
    "\n",
    "<br>\n",
    "\n",
    "Go to [lesson-2.ipynb](lesson-2.ipynb) when we're all done reviewing this exercise."
   ]
  }
 ],
 "metadata": {
  "kernelspec": {
   "display_name": "Python 3 (ipykernel)",
   "language": "python",
   "name": "python3"
  },
  "language_info": {
   "codemirror_mode": {
    "name": "ipython",
    "version": 3
   },
   "file_extension": ".py",
   "mimetype": "text/x-python",
   "name": "python",
   "nbconvert_exporter": "python",
   "pygments_lexer": "ipython3",
   "version": "3.10.10"
  }
 },
 "nbformat": 4,
 "nbformat_minor": 5
}
