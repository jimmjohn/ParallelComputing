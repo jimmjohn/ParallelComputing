{
 "cells": [
  {
   "cell_type": "markdown",
   "id": "843b6c39-4cd8-4249-b51c-f77bea855ae4",
   "metadata": {},
   "source": [
    "# Exercise 3 (solved): Higgs analysis with Awkward Arrays"
   ]
  },
  {
   "cell_type": "code",
   "execution_count": null,
   "id": "3d3e9d3e-58d0-4117-a5f8-e9e416eaa051",
   "metadata": {
    "tags": []
   },
   "outputs": [],
   "source": [
    "import matplotlib.pyplot as plt\n",
    "import numpy as np\n",
    "\n",
    "import awkward as ak\n",
    "import hist\n",
    "import vector\n",
    "vector.register_awkward()"
   ]
  },
  {
   "cell_type": "code",
   "execution_count": null,
   "id": "bb869bad-eab3-4573-8801-47f88d459987",
   "metadata": {
    "tags": []
   },
   "outputs": [],
   "source": [
    "events = ak.from_parquet(\"data/SMHiggsToZZTo4L.parquet\")"
   ]
  },
  {
   "cell_type": "markdown",
   "id": "7eeeb297-1e03-40c6-8cb0-74fc202265a5",
   "metadata": {},
   "source": [
    "<br><br><br>"
   ]
  },
  {
   "cell_type": "markdown",
   "id": "3e7a716f-d487-44a5-af9f-a2676b306039",
   "metadata": {},
   "source": [
    "## Exclusive and inclusive analysis"
   ]
  },
  {
   "cell_type": "markdown",
   "id": "11dce04e-548e-444d-a299-224b56a76979",
   "metadata": {},
   "source": [
    "In [exercise-2.ipynb](exercise-2.ipynb), you did an \"exclusive\" study of Higgs → ZZ → eeμμ. That is to say, the collision events weren't allowed to have anything else in them, such as another Z boson decaying into electrons or muons, a heavy-flavor quark decaying into electrons or muons, or stray particles misreconstructed as though they were electrons or muons. It's giving up on good events, but it's also excluding an unknown fraction of events if we don't have a way to estimate of how often these other phenomena occur in the same event.\n",
    "\n",
    "<br>\n",
    "\n",
    "With Awkward Array's combinatorial functions, we now have a way to do \"inclusive\" analyses."
   ]
  },
  {
   "cell_type": "code",
   "execution_count": null,
   "id": "42da537e-7002-475c-9b0c-97f97405b2b5",
   "metadata": {
    "tags": []
   },
   "outputs": [],
   "source": [
    "electron_pairs = ak.combinations(events.electron, 2)\n",
    "muon_pairs = ak.combinations(events.muon, 2)"
   ]
  },
  {
   "cell_type": "code",
   "execution_count": null,
   "id": "a69cef19-ac8a-4b3b-9a7e-fb56931c1bb7",
   "metadata": {
    "tags": []
   },
   "outputs": [],
   "source": [
    "two_electrons_and_two_muons = ak.cartesian([electron_pairs, muon_pairs])"
   ]
  },
  {
   "cell_type": "markdown",
   "id": "694ecbc5-6c10-4207-8321-a4c194b1f3c7",
   "metadata": {},
   "source": [
    "<br>\n",
    "\n",
    "The structure of `two_electrons_and_two_muons` is\n",
    "\n",
    "```\n",
    "array of lists of ((electron1, electron2), (muon1, muon2))\n",
    "```"
   ]
  },
  {
   "cell_type": "code",
   "execution_count": null,
   "id": "2b70949c-b661-404f-bf3f-8a90c8dfeb4e",
   "metadata": {
    "tags": []
   },
   "outputs": [],
   "source": [
    "two_electrons_and_two_muons.type.show()"
   ]
  },
  {
   "cell_type": "markdown",
   "id": "8de630c7-ebed-4fe2-a376-4a189e0ba023",
   "metadata": {},
   "source": [
    "<br>\n",
    "\n",
    "How many `two_electrons_and_two_muons` (pairs of pairs) does each event have?"
   ]
  },
  {
   "cell_type": "code",
   "execution_count": null,
   "id": "6e12f266-8f0b-4e94-bb5b-f0bb52525eed",
   "metadata": {
    "tags": []
   },
   "outputs": [],
   "source": [
    "ak.num(two_electrons_and_two_muons)"
   ]
  },
  {
   "cell_type": "markdown",
   "id": "f8b983fb-921b-4a96-9fb2-fc73bb298e72",
   "metadata": {},
   "source": [
    "<br>\n",
    "\n",
    "How many events have at least one of these combinations? (You could use the [ak.count_nonzero](https://awkward-array.org/doc/main/reference/generated/ak.count_nonzero.html) reducer or the [ak.sum](https://awkward-array.org/doc/main/reference/generated/ak.sum.html) reducer.)"
   ]
  },
  {
   "cell_type": "code",
   "execution_count": null,
   "id": "415c870c-7a68-4c55-879e-e95e9c8d563c",
   "metadata": {
    "tags": []
   },
   "outputs": [],
   "source": [
    "inclusive_candidates = ak.count_nonzero(ak.num(two_electrons_and_two_muons) > 0)\n",
    "inclusive_candidates"
   ]
  },
  {
   "cell_type": "markdown",
   "id": "fd5dc8cf-4df4-4cd2-8914-7ae0162dafc0",
   "metadata": {},
   "source": [
    "<br>\n",
    "\n",
    "How many events have exactly two electrons and exactly two muons?"
   ]
  },
  {
   "cell_type": "code",
   "execution_count": null,
   "id": "01e5d9c3-9790-4c64-baeb-d16ac3f966ed",
   "metadata": {
    "tags": []
   },
   "outputs": [],
   "source": [
    "exclusive_candidates = ak.count_nonzero((ak.num(events.electron) == 2) & (ak.num(events.muon) == 2))\n",
    "exclusive_candidates"
   ]
  },
  {
   "cell_type": "markdown",
   "id": "7838ea34-4e74-4f2d-bd2d-2e56d61144f8",
   "metadata": {},
   "source": [
    "<br>\n",
    "\n",
    "More of the inclusive candidates than the exclusive candidates are not real Higgs → ZZ → eeμμ events (that's what quality cuts are for), but some of the"
   ]
  },
  {
   "cell_type": "code",
   "execution_count": null,
   "id": "604af4e7-27b4-405a-bf11-13030b4691a5",
   "metadata": {
    "tags": []
   },
   "outputs": [],
   "source": [
    "inclusive_candidates / exclusive_candidates"
   ]
  },
  {
   "cell_type": "markdown",
   "id": "02f1e18c-7b07-4dac-88e2-c633c4cb21b6",
   "metadata": {},
   "source": [
    "times more candidates in the inclusive sample are real events.\n",
    "\n",
    "Not knowing how many would prevent us from being able to measure absolute rates.\n",
    "\n",
    "<br><br><br>"
   ]
  },
  {
   "cell_type": "markdown",
   "id": "b259d62e-d63d-4516-aaf3-0e9c8131c506",
   "metadata": {},
   "source": [
    "## Four electron (or four muon) final state"
   ]
  },
  {
   "cell_type": "markdown",
   "id": "17342a04-37ea-4bfc-b510-025734fb72bc",
   "metadata": {
    "tags": []
   },
   "source": [
    "### First method"
   ]
  },
  {
   "cell_type": "markdown",
   "id": "004f9b99-1a86-4ddf-9184-2d93cc704b1e",
   "metadata": {},
   "source": [
    "We can't construct candidates for Higgs → ZZ → eeee (or μμμμ) as we did with eeμμ because"
   ]
  },
  {
   "cell_type": "code",
   "execution_count": null,
   "id": "a80dd4a8-9883-4296-a1e0-890a7c28329f",
   "metadata": {
    "tags": []
   },
   "outputs": [],
   "source": [
    "electron_pairs1 = ak.combinations(events.electron, 2)\n",
    "electron_pairs2 = ak.combinations(events.electron, 2)\n",
    "pairs_of_electron_pairs = ak.cartesian([electron_pairs1, electron_pairs2])"
   ]
  },
  {
   "cell_type": "markdown",
   "id": "d17c3ccb-95f6-43cb-b66a-b52b52218a6a",
   "metadata": {},
   "source": [
    "`pairs_of_electron_pairs` has slots for four electrons, but they're filled with electrons that may or may not be distinct."
   ]
  },
  {
   "cell_type": "markdown",
   "id": "8b9150a2-b3da-479a-830b-66b8752cac89",
   "metadata": {},
   "source": [
    "<br>\n",
    "\n",
    "Here's a more transparent example:"
   ]
  },
  {
   "cell_type": "code",
   "execution_count": null,
   "id": "fcd16251-d074-4158-aba4-e6527684c46e",
   "metadata": {
    "tags": []
   },
   "outputs": [],
   "source": [
    "array = ak.Array([[1, 2, 3, 4, 5]])"
   ]
  },
  {
   "cell_type": "code",
   "execution_count": null,
   "id": "1754e3ce-9d47-4a5d-aa7a-1c46d57acf12",
   "metadata": {
    "tags": []
   },
   "outputs": [],
   "source": [
    "pairs1 = ak.combinations(array, 2)\n",
    "pairs2 = ak.combinations(array, 2)\n",
    "pairs_of_pairs = ak.cartesian([pairs1, pairs2])"
   ]
  },
  {
   "cell_type": "code",
   "execution_count": null,
   "id": "1d2fa56d-56d8-49e1-a1ef-cb5d23f05c8e",
   "metadata": {
    "tags": []
   },
   "outputs": [],
   "source": [
    "pairs_of_pairs.to_list()"
   ]
  },
  {
   "cell_type": "markdown",
   "id": "813cc8d8-6780-433e-b28a-f323b7a4b0ec",
   "metadata": {},
   "source": [
    "<br>\n",
    "\n",
    "It is never the case that an electron from the decay of one Z boson is also from the decay of the other Z boson."
   ]
  },
  {
   "cell_type": "markdown",
   "id": "69b8a3c6-33a2-4bfb-a861-7a51049b4e9b",
   "metadata": {},
   "source": [
    "<br>\n",
    "\n",
    "Instead, we could use charge (+ or ‒) as we had previously used flavor (electron or muon). To do this, we'd have to put e⁺ into a different collection (array) from e⁻."
   ]
  },
  {
   "cell_type": "code",
   "execution_count": null,
   "id": "4ec74dbf-5bb8-4adc-ad11-2b5f909047a8",
   "metadata": {
    "tags": []
   },
   "outputs": [],
   "source": [
    "eplus = events.electron[events.electron.charge > 0]\n",
    "eminus = events.electron[events.electron.charge < 0]"
   ]
  },
  {
   "cell_type": "code",
   "execution_count": null,
   "id": "6f7d5e5c-e600-4f46-b799-ea7f935e6bea",
   "metadata": {
    "tags": []
   },
   "outputs": [],
   "source": [
    "eplusplus = ak.combinations(eplus, 2)\n",
    "eminusminus = ak.combinations(eminus, 2)\n",
    "epairs_of_pairs = ak.cartesian([eplusplus, eminusminus])"
   ]
  },
  {
   "cell_type": "markdown",
   "id": "4bb0bd68-1bf5-474d-9997-9f45ac6e5ca2",
   "metadata": {},
   "source": [
    "<br>\n",
    "\n",
    "These combinations were built entirely from distinct objects, so none of the particles within a candidate are duplicates.\n",
    "\n",
    "Demonstrating with a more transparent example:"
   ]
  },
  {
   "cell_type": "code",
   "execution_count": null,
   "id": "0b758e0a-24c1-4d53-9c25-318d4a123394",
   "metadata": {
    "tags": []
   },
   "outputs": [],
   "source": [
    "array = ak.Array([[1, 2, 3, 4, 5]])"
   ]
  },
  {
   "cell_type": "code",
   "execution_count": null,
   "id": "95020752-3406-408f-a2a5-ffc638f4b588",
   "metadata": {
    "tags": []
   },
   "outputs": [],
   "source": [
    "evens = array[array % 2 == 0]\n",
    "odds = array[array % 2 == 1]\n",
    "evens, odds"
   ]
  },
  {
   "cell_type": "code",
   "execution_count": null,
   "id": "ffcd85b4-3ee0-4414-91e4-d5b6db7d0360",
   "metadata": {
    "tags": []
   },
   "outputs": [],
   "source": [
    "pairs1 = ak.combinations(evens, 2)\n",
    "pairs2 = ak.combinations(odds, 2)\n",
    "pairs_of_pairs = ak.cartesian([pairs1, pairs2])"
   ]
  },
  {
   "cell_type": "code",
   "execution_count": null,
   "id": "144eb881-f5aa-4126-ac4d-c93ec1af8e82",
   "metadata": {
    "tags": []
   },
   "outputs": [],
   "source": [
    "pairs_of_pairs.to_list()"
   ]
  },
  {
   "cell_type": "markdown",
   "id": "98143751-ba8a-4c1c-99de-e7bb7b728e70",
   "metadata": {},
   "source": [
    "<br>\n",
    "\n",
    "Instead of using [ak.unzip](https://awkward-array.org/doc/main/reference/generated/ak.unzip.html), we can look at each of the slots individually. Tuples are records with fields named `\"0\"`, `\"1\"`, etc., so we can see that the first two slots always contain e⁺ and the last two slots always contain e⁻."
   ]
  },
  {
   "cell_type": "code",
   "execution_count": null,
   "id": "f593e4de-712e-4e0e-9883-dda7a494af57",
   "metadata": {
    "tags": []
   },
   "outputs": [],
   "source": [
    "assert ak.all(epairs_of_pairs[\"0\", \"0\"].charge == 1)  # be sure to use quotation marks\n",
    "assert ak.all(epairs_of_pairs[\"0\", \"1\"].charge == 1)\n",
    "assert ak.all(epairs_of_pairs[\"1\", \"0\"].charge == -1)\n",
    "assert ak.all(epairs_of_pairs[\"1\", \"1\"].charge == -1)"
   ]
  },
  {
   "cell_type": "markdown",
   "id": "2fb00189-4d7c-4fd9-ae6a-80286d274912",
   "metadata": {},
   "source": [
    "<br>\n",
    "\n",
    "The nested pairs are not the decay products of the two individual Z bosons, since each pair contains like-sign electrons.\n",
    "\n",
    "In each candidate, there are two possible ways to assign electrons to Z bosons (two _interpretations_):\n",
    "\n",
    "  1. $Z_1$'s electrons are in fields `\"0\", \"0\"` and `\"1\", \"0\"`, which would mean that $Z_2$'s electrons are in fields `\"0\", \"1\"` and `\"1\", \"1\"`.\n",
    "  2. $Z_1$'s electrons are in fields `\"0\", \"0\"` and `\"1\", \"1\"`, which would mean that $Z_2$'s electrons are in fields `\"0\", \"1\"` and `\"1\", \"0\"`."
   ]
  },
  {
   "cell_type": "code",
   "execution_count": null,
   "id": "89e077ed-47c3-4753-bffb-e38fc743a8b7",
   "metadata": {
    "tags": []
   },
   "outputs": [],
   "source": [
    "interpretation1_z1 = epairs_of_pairs[\"0\", \"0\"] + epairs_of_pairs[\"1\", \"0\"]\n",
    "interpretation1_z2 = epairs_of_pairs[\"0\", \"1\"] + epairs_of_pairs[\"1\", \"1\"]\n",
    "\n",
    "interpretation2_z1 = epairs_of_pairs[\"0\", \"0\"] + epairs_of_pairs[\"1\", \"1\"]\n",
    "interpretation2_z2 = epairs_of_pairs[\"0\", \"1\"] + epairs_of_pairs[\"1\", \"0\"]"
   ]
  },
  {
   "attachments": {
    "0c1588af-636e-44ac-9796-20544da0d829.png": {
     "image/png": "[encoded data removed]"
    }
   },
   "cell_type": "markdown",
   "id": "837410f8-2ad8-44cd-85c3-13a34781023c",
   "metadata": {},
   "source": [
    "<br>\n",
    "\n",
    "For each candidate index `i`, either interpretation 1 is correct or interpretation 2 is correct. Different indexes `i` and `j` can have different interpretations.\n",
    "\n",
    "As a reminder from [exercise-2.ipynb](exercise-2.ipynb), the masses of Z → ee and Z → μμ looked like\n",
    "\n",
    "![image.png](attachment:0c1588af-636e-44ac-9796-20544da0d829.png)\n",
    "\n",
    "Since we didn't have any ambiguity about which particle to associate with each Z boson, the only thing to be determined was whether the Z → ee was close to being \"on-shell\" (mass close to 91 GeV/c$^2$) or the Z → μμ was close to being \"on-shell.\"\n",
    "\n",
    "<br>\n",
    "\n",
    "The masses of the two e⁺e⁻ pairs in interpretation 1 are:"
   ]
  },
  {
   "cell_type": "code",
   "execution_count": null,
   "id": "0bb6ad10-9450-4118-952f-84bca686697d",
   "metadata": {
    "tags": []
   },
   "outputs": [],
   "source": [
    "hist.Hist.new.Regular(60, 0, 120, name=\"zmass_1\").Regular(60, 0, 120, name=\"zmass_2\").Double().fill(\n",
    "    zmass_1=ak.flatten(interpretation1_z1.mass),\n",
    "    zmass_2=ak.flatten(interpretation1_z2.mass),\n",
    ").plot2d_full();"
   ]
  },
  {
   "cell_type": "markdown",
   "id": "434a3cff-a180-43d5-8ce6-b1766efc2ed0",
   "metadata": {},
   "source": [
    "<br>\n",
    "\n",
    "And the masses of the two e⁺e⁻ pairs in interpretation 2 are:"
   ]
  },
  {
   "cell_type": "code",
   "execution_count": null,
   "id": "f4195b5c-15c3-4cdb-940d-ad7d464830e3",
   "metadata": {
    "tags": []
   },
   "outputs": [],
   "source": [
    "hist.Hist.new.Regular(60, 0, 120, name=\"zmass_1\").Regular(60, 0, 120, name=\"zmass_2\").Double().fill(\n",
    "    zmass_1=ak.flatten(interpretation2_z1.mass),\n",
    "    zmass_2=ak.flatten(interpretation2_z2.mass),\n",
    ").plot2d_full();"
   ]
  },
  {
   "cell_type": "markdown",
   "id": "d28c7fb1-7cc2-4bb2-a43d-ecf0858d5493",
   "metadata": {},
   "source": [
    "<br>\n",
    "\n",
    "The \"fog\" of low-mass e⁺e⁻ pairs in each interpretation are from wrong-combinations. Put together two particles that don't come from the same decay and their mass will be a broad distribution of values.\n",
    "\n",
    "The plots above also indicate how we can disambiguate interpretations, candidate-by-candidate. A good interpretation with have at least one Z boson close to its on-shell mass of 91 GeV/c$^2$.\n",
    "\n",
    "In each interpretation, we can find the lowest and highest e⁺e⁻ pair mass."
   ]
  },
  {
   "cell_type": "code",
   "execution_count": null,
   "id": "232751f8-c9c0-412d-ba9f-439f222c5c74",
   "metadata": {
    "tags": []
   },
   "outputs": [],
   "source": [
    "interpretation1_zsmall = ak.where(interpretation1_z1.mass < interpretation1_z2.mass, interpretation1_z1, interpretation1_z2)\n",
    "interpretation1_zbig   = ak.where(interpretation1_z1.mass > interpretation1_z2.mass, interpretation1_z1, interpretation1_z2)\n",
    "\n",
    "interpretation2_zsmall = ak.where(interpretation2_z1.mass < interpretation2_z2.mass, interpretation2_z1, interpretation2_z2)\n",
    "interpretation2_zbig   = ak.where(interpretation2_z1.mass > interpretation2_z2.mass, interpretation2_z1, interpretation2_z2)"
   ]
  },
  {
   "cell_type": "markdown",
   "id": "4f7bd0aa-8d6b-4ede-aa0d-a48f766633ff",
   "metadata": {},
   "source": [
    "<br>\n",
    "\n",
    "The masses of the lowest and highest e⁺e⁻ pair mass in interpretation 1 are:"
   ]
  },
  {
   "cell_type": "code",
   "execution_count": null,
   "id": "1bcad392-f7b2-4ea5-b36f-456d95173c6c",
   "metadata": {
    "tags": []
   },
   "outputs": [],
   "source": [
    "hist.Hist.new.Regular(60, 0, 120, name=\"zmass_small\").Regular(60, 0, 120, name=\"zmass_big\").Double().fill(\n",
    "    zmass_small=ak.flatten(interpretation1_zsmall.mass),\n",
    "    zmass_big=ak.flatten(interpretation1_zbig.mass),\n",
    ").plot2d_full();"
   ]
  },
  {
   "cell_type": "markdown",
   "id": "a8f56a4b-2145-450d-bc69-493f474c3427",
   "metadata": {},
   "source": [
    "<br>\n",
    "\n",
    "The masses of the lowest and highest e⁺e⁻ pair mass in interpretation 2 are:"
   ]
  },
  {
   "cell_type": "code",
   "execution_count": null,
   "id": "925ca415-3b60-41cf-aada-8ae99495801b",
   "metadata": {
    "tags": []
   },
   "outputs": [],
   "source": [
    "hist.Hist.new.Regular(60, 0, 120, name=\"zmass_small\").Regular(60, 0, 120, name=\"zmass_big\").Double().fill(\n",
    "    zmass_small=ak.flatten(interpretation2_zsmall.mass),\n",
    "    zmass_big=ak.flatten(interpretation2_zbig.mass),\n",
    ").plot2d_full();"
   ]
  },
  {
   "cell_type": "markdown",
   "id": "1c665e3f-f14a-40c1-9a5a-4f49712db338",
   "metadata": {},
   "source": [
    "<br>\n",
    "\n",
    "If one interpretation has a highest e⁺e⁻ pair mass close to the on-shell Z mass and the other doesn't, then it is the most likely interpretation. Just as we used [ak.where](https://awkward-array.org/doc/main/reference/generated/ak.where.html) to select between pair masses to find the lowest and highest per interpretation, we can select between interpretations on a candidate-by-candidate basis."
   ]
  },
  {
   "cell_type": "code",
   "execution_count": null,
   "id": "01f4a0be-e07d-4fe6-895c-c6745c04de22",
   "metadata": {
    "tags": []
   },
   "outputs": [],
   "source": [
    "interpretation1_is_best = interpretation1_zbig.mass > interpretation2_zbig.mass"
   ]
  },
  {
   "cell_type": "code",
   "execution_count": null,
   "id": "9bd50219-4b09-4f54-9651-1cb5d5174011",
   "metadata": {
    "tags": []
   },
   "outputs": [],
   "source": [
    "best_interpretation_zbig = ak.where(interpretation1_is_best, interpretation1_zbig, interpretation2_zbig)\n",
    "best_interpretation_zsmall = ak.where(interpretation1_is_best, interpretation1_zsmall, interpretation2_zsmall)"
   ]
  },
  {
   "cell_type": "markdown",
   "id": "e6cef820-8167-40e9-81b5-87421b253c8b",
   "metadata": {},
   "source": [
    "We are left with only one plot of the two Z bosons, in the best interpretation per candidate."
   ]
  },
  {
   "cell_type": "code",
   "execution_count": null,
   "id": "8a5fda0e-24d9-4a6c-93b5-06233a08801a",
   "metadata": {
    "tags": []
   },
   "outputs": [],
   "source": [
    "hist.Hist.new.Regular(60, 0, 120, name=\"zmass_small\").Regular(60, 0, 120, name=\"zmass_big\").Double().fill(\n",
    "    zmass_small=ak.flatten(best_interpretation_zsmall.mass),\n",
    "    zmass_big=ak.flatten(best_interpretation_zbig.mass),\n",
    ").plot2d_full();"
   ]
  },
  {
   "cell_type": "markdown",
   "id": "e1fce566-f947-4d99-abc3-090456993948",
   "metadata": {},
   "source": [
    "<br><br><br>\n",
    "\n",
    "Since the above used \"biggest mass\" instead of \"closest to on-shell Z mass,\" it biases Z candidates to the high end of the Z boson mass distribution. However, it could be reimplemented using"
   ]
  },
  {
   "cell_type": "code",
   "execution_count": null,
   "id": "6a6689b5-7061-4906-a010-6998533b7901",
   "metadata": {
    "tags": []
   },
   "outputs": [],
   "source": [
    "from hepunits import GeV\n",
    "from particle import Particle"
   ]
  },
  {
   "cell_type": "code",
   "execution_count": null,
   "id": "8846806c-8d33-4860-bc9e-cc5a4f64e7d7",
   "metadata": {
    "tags": []
   },
   "outputs": [],
   "source": [
    "z_onshell = Particle.from_name(\"Z0\").mass / GeV\n",
    "z_onshell"
   ]
  },
  {
   "cell_type": "code",
   "execution_count": null,
   "id": "31918dd7-2f74-4c30-9e40-5a53a7dfc471",
   "metadata": {
    "tags": []
   },
   "outputs": [],
   "source": [
    "abs(interpretation1_z1.mass - z_onshell) < abs(interpretation1_z2.mass - z_onshell);"
   ]
  },
  {
   "cell_type": "markdown",
   "id": "cb5b1302-bf14-4788-a6b9-0b13a6490242",
   "metadata": {},
   "source": [
    "instead of"
   ]
  },
  {
   "cell_type": "code",
   "execution_count": null,
   "id": "23a9a33b-10eb-42f2-b42a-3837d7dc3728",
   "metadata": {
    "tags": []
   },
   "outputs": [],
   "source": [
    "interpretation1_z1.mass < interpretation1_z2.mass;"
   ]
  },
  {
   "cell_type": "markdown",
   "id": "3ac43564-3105-49f3-a329-d8f07932f852",
   "metadata": {},
   "source": [
    "<br><br><br>"
   ]
  },
  {
   "cell_type": "markdown",
   "id": "78e68209-ab68-47e9-bc87-465505216647",
   "metadata": {},
   "source": [
    "### Second method"
   ]
  },
  {
   "cell_type": "markdown",
   "id": "3714e4fa-bdf9-4d58-83c6-8d9339877d1b",
   "metadata": {},
   "source": [
    "The first method used charge (+ or ‒) as a way to reduce candidates, just as the ZZ → eeμμ analysis used flavor (electron or muon).\n",
    "\n",
    "A more general method, that doesn't use this discriminator immediately, would be to start with"
   ]
  },
  {
   "cell_type": "code",
   "execution_count": null,
   "id": "94b0cba1-e526-488e-828c-d7f8a17e673b",
   "metadata": {
    "tags": []
   },
   "outputs": [],
   "source": [
    "four_electrons = ak.combinations(events.electron, 4)"
   ]
  },
  {
   "cell_type": "markdown",
   "id": "2557158d-7d89-4a6f-8802-c478b8aaf32e",
   "metadata": {},
   "source": [
    "and construct interpretations of these generic combinations.\n",
    "\n",
    "Unlike the first method, `four_electrons` are not pairs of pairs; they are one level of quadruplets."
   ]
  },
  {
   "cell_type": "code",
   "execution_count": null,
   "id": "5aadf9dc-ce99-4bc5-9008-944f03d461b1",
   "metadata": {
    "tags": []
   },
   "outputs": [],
   "source": [
    "four_electrons.type.show()"
   ]
  },
  {
   "cell_type": "markdown",
   "id": "74506a97-f575-41aa-b175-2547a1a2eb10",
   "metadata": {},
   "source": [
    "These 4-tuples have fields `\"0\"`, `\"1\"`, `\"2\"`, `\"3\"`.\n",
    "\n",
    "Each 4-tuple candidate could have six interpretations:\n",
    "\n",
    "  1. $Z_1$'s electrons are in fields `\"0\"` and `\"1\"`, which would mean that $Z_2$'s electrons are in fields `\"2\"` and `\"3\"`.\n",
    "  2. $Z_1$'s electrons are in fields `\"0\"` and `\"2\"`, which would mean that $Z_2$'s electrons are in fields `\"1\"` and `\"3\"`.\n",
    "  3. $Z_1$'s electrons are in fields `\"0\"` and `\"3\"`, which would mean that $Z_2$'s electrons are in fields `\"1\"` and `\"2\"`.\n",
    "  4. $Z_1$'s electrons are in fields `\"1\"` and `\"2\"`, which would mean that $Z_2$'s electrons are in fields `\"0\"` and `\"3\"`.\n",
    "  5. $Z_1$'s electrons are in fields `\"1\"` and `\"3\"`, which would mean that $Z_2$'s electrons are in fields `\"0\"` and `\"2\"`.\n",
    "  6. $Z_1$'s electrons are in fields `\"2\"` and `\"3\"`, which would mean that $Z_2$'s electrons are in fields `\"0\"` and `\"1\"`.\n",
    "\n",
    "But interpretation 1 is interpretation 6 if we swap labels $Z_1$ and $Z_2$; similarly for interpretations 2 and 5; similarly for interpretations 3 and 4.\n",
    "\n",
    "So there are only three interpretations:\n",
    "\n",
    "  1. $Z_a$'s electrons are in fields `\"0\"` and `\"1\"`, which would mean that $Z_b$'s electrons are in fields `\"2\"` and `\"3\"`.\n",
    "  2. $Z_a$'s electrons are in fields `\"0\"` and `\"2\"`, which would mean that $Z_b$'s electrons are in fields `\"1\"` and `\"3\"`.\n",
    "  3. $Z_a$'s electrons are in fields `\"0\"` and `\"3\"`, which would mean that $Z_b$'s electrons are in fields `\"1\"` and `\"2\"`.\n",
    "\n",
    "We could carry out a similar analysis as in the first method, but with three interpretations instead of two, and at some point, we can filter the candidates by requiring each Z boson to decay to opposite-sign electrons.\n",
    "\n",
    "Left as an exercise to the reader!"
   ]
  },
  {
   "cell_type": "markdown",
   "id": "a6f9e36a-5b68-4b1c-96e2-1e9c35eaf960",
   "metadata": {},
   "source": [
    "<br><br><br>\n",
    "\n",
    "Go to [lesson-4.ipynb](lesson-4.ipynb) when we're all done reviewing this exercise."
   ]
  }
 ],
 "metadata": {
  "kernelspec": {
   "display_name": "Python 3 (ipykernel)",
   "language": "python",
   "name": "python3"
  },
  "language_info": {
   "codemirror_mode": {
    "name": "ipython",
    "version": 3
   },
   "file_extension": ".py",
   "mimetype": "text/x-python",
   "name": "python",
   "nbconvert_exporter": "python",
   "pygments_lexer": "ipython3",
   "version": "3.10.10"
  }
 },
 "nbformat": 4,
 "nbformat_minor": 5
}
