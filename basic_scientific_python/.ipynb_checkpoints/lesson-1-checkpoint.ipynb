{
 "cells": [
  {
   "cell_type": "markdown",
   "id": "07280c7d-fc5c-433a-a5e2-91c1ae0f1551",
   "metadata": {
    "slideshow": {
     "slide_type": "slide"
    },
    "tags": []
   },
   "source": [
    "# Lesson 1: Python"
   ]
  },
  {
   "cell_type": "markdown",
   "id": "cae0a23c-b244-42b3-8e40-d5ba4c8f8214",
   "metadata": {
    "slideshow": {
     "slide_type": "slide"
    },
    "tags": []
   },
   "source": [
    "<br><br><br>\n",
    "\n",
    "Welcome to the HSF-India training event!\n",
    "\n",
    "<br><br><br>"
   ]
  },
  {
   "cell_type": "markdown",
   "id": "5b1d964e-25e1-4fe8-9f19-b74b2dd48296",
   "metadata": {
    "slideshow": {
     "slide_type": "fragment"
    },
    "tags": []
   },
   "source": [
    "<br><br><br>\n",
    "\n",
    "I'm Jim; I'll be presenting the first lessons today and tomorrow on Scientific Python.\n",
    "\n",
    "<br><br><br>"
   ]
  },
  {
   "cell_type": "markdown",
   "id": "cba68344-71fd-4b79-8418-30275c9bef2f",
   "metadata": {
    "slideshow": {
     "slide_type": "slide"
    },
    "tags": []
   },
   "source": [
    "In many ways of measuring it, Python is now the most popular programming language.\n",
    "\n",
    "<br><br><br>"
   ]
  },
  {
   "cell_type": "markdown",
   "id": "4557314f-19a9-4640-b275-852afaf3fb10",
   "metadata": {},
   "source": [
    "<table width=\"75%\">\n",
    "    <tr style=\"background: white;\">\n",
    "        <td width=\"100%\"><img src=\"img/python-rankings-tiobe-2022.png\" width=\"100%\"></td>\n",
    "        <td width=\"100%\"><img src=\"img/python-rankings-pypl-2022.png\" width=\"100%\"></td>\n",
    "    </tr>\n",
    "    <tr style=\"background: white;\">\n",
    "        <td width=\"100%\"><img src=\"img/python-rankings-stackoverflow-2022.png\" width=\"100%\"></td>\n",
    "        <td width=\"100%\"><img src=\"img/python-rankings-githut-2022.png\" width=\"100%\"></td>\n",
    "    </tr>\n",
    "</table>"
   ]
  },
  {
   "cell_type": "markdown",
   "id": "a8d53120-0d82-4a45-b803-8ade760ba9ff",
   "metadata": {
    "slideshow": {
     "slide_type": "slide"
    },
    "tags": []
   },
   "source": [
    "More importantly, it is the most widely used language for data analysis and machine learning.\n",
    "\n",
    "<br>"
   ]
  },
  {
   "cell_type": "markdown",
   "id": "ccac56b6-1875-474d-978e-b8accc0f741e",
   "metadata": {},
   "source": [
    "<center>\n",
    "<img src=\"img/analytics-by-language.svg\" width=\"65%\">\n",
    "</center>"
   ]
  },
  {
   "cell_type": "markdown",
   "id": "2abf9fb7-a9d2-46ea-8166-76c60290d17b",
   "metadata": {
    "slideshow": {
     "slide_type": "slide"
    },
    "tags": []
   },
   "source": [
    "\"Popularity\" means more tools are available, more attention has been drawn to their shortcomings, and you can find more information about how to use them online.\n",
    "\n",
    "<br><br><br>"
   ]
  },
  {
   "cell_type": "markdown",
   "id": "e05f1c19-1941-4e26-aad9-6e025349c742",
   "metadata": {
    "slideshow": {
     "slide_type": "fragment"
    },
    "tags": []
   },
   "source": [
    "It also means that Python skills are transferable skills.\n",
    "\n",
    "<br><br><br>"
   ]
  },
  {
   "cell_type": "markdown",
   "id": "4b0878c0-7ffb-465e-97b3-acd316411902",
   "metadata": {
    "slideshow": {
     "slide_type": "fragment"
    },
    "tags": []
   },
   "source": [
    "This first lesson is a tour (possibly review) of Python syntax, using physics data analysis as examples."
   ]
  },
  {
   "cell_type": "markdown",
   "id": "cbbda232-d870-4a0c-8779-48279473a7d9",
   "metadata": {
    "slideshow": {
     "slide_type": "slide"
    },
    "tags": []
   },
   "source": [
    "## Before we begin: navigation in Jupyter"
   ]
  },
  {
   "cell_type": "markdown",
   "id": "b9bc8f1b-fc10-4db5-b321-7b7a9dec82c5",
   "metadata": {
    "slideshow": {
     "slide_type": "fragment"
    },
    "tags": []
   },
   "source": [
    "<br><br>\n",
    "\n",
    "You don't need to use this \"slide mode\" that I'm using.\n",
    "\n",
    "<br>"
   ]
  },
  {
   "cell_type": "markdown",
   "id": "328b1c82-5c3c-47ed-a06c-3cdb66fd2d6c",
   "metadata": {
    "slideshow": {
     "slide_type": "fragment"
    },
    "tags": []
   },
   "source": [
    "In the ordinary notebook view,\n",
    "\n",
    " 1. Click on a code cell to edit it.\n",
    " 2. Control-enter to run it.\n",
    " 3. Shift-enter to run it and move on to the next cell.\n",
    "\n",
    "But be sure to evaluate all code cells so that you're not missing any data.\n",
    "\n",
    "<br><br>"
   ]
  },
  {
   "cell_type": "markdown",
   "id": "7816cd37-250f-4b5f-85e6-52dd730d410c",
   "metadata": {
    "slideshow": {
     "slide_type": "fragment"
    },
    "tags": []
   },
   "source": [
    "If you need to refresh your notebook's state, use the **Kernel → Restart Kernel and Run up to Selected Cell** menu item."
   ]
  },
  {
   "cell_type": "markdown",
   "id": "71ebeb21-52d4-4055-8db4-dbb05237b925",
   "metadata": {
    "slideshow": {
     "slide_type": "slide"
    },
    "tags": []
   },
   "source": [
    "## Tour of Python syntax"
   ]
  },
  {
   "cell_type": "markdown",
   "id": "32e9c93b-2150-476e-9c0a-71fa8501d4b8",
   "metadata": {
    "slideshow": {
     "slide_type": "slide"
    },
    "tags": []
   },
   "source": [
    "### Using Python as a desk calculator"
   ]
  },
  {
   "cell_type": "markdown",
   "id": "addde403-6b19-48d5-9c4e-4ee725d5e988",
   "metadata": {
    "tags": []
   },
   "source": [
    "<br>"
   ]
  },
  {
   "cell_type": "code",
   "execution_count": null,
   "id": "876ded45-d1b3-4351-b561-fe2d806de75f",
   "metadata": {
    "slideshow": {
     "slide_type": "fragment"
    },
    "tags": []
   },
   "outputs": [],
   "source": [
    "2 + 2"
   ]
  },
  {
   "cell_type": "markdown",
   "id": "d65208ec-8f36-4c7d-a0e7-54f9e7382ac1",
   "metadata": {
    "slideshow": {
     "slide_type": "fragment"
    },
    "tags": []
   },
   "source": [
    "<br><br>\n",
    "\n",
    "Defining variables"
   ]
  },
  {
   "cell_type": "code",
   "execution_count": null,
   "id": "d8e54b6a-5700-43a4-89fb-0ae1783b1341",
   "metadata": {
    "tags": []
   },
   "outputs": [],
   "source": [
    "E = 68.1289790\n",
    "px = -17.945541\n",
    "py = 13.1652603\n",
    "pz = 64.3908386"
   ]
  },
  {
   "cell_type": "markdown",
   "id": "e7684a6d-c704-48e2-ade9-3b8b2d58f23e",
   "metadata": {
    "slideshow": {
     "slide_type": "fragment"
    },
    "tags": []
   },
   "source": [
    "<br><br>\n",
    "\n",
    "Now we can use `E`, `px`, `py`, `pz`:"
   ]
  },
  {
   "cell_type": "code",
   "execution_count": null,
   "id": "632ffc80-9fdc-404c-bee7-5bc533e3e343",
   "metadata": {
    "tags": []
   },
   "outputs": [],
   "source": [
    "px"
   ]
  },
  {
   "cell_type": "markdown",
   "id": "25d46f7a-54fd-42d1-9e7d-c66464cbacee",
   "metadata": {
    "slideshow": {
     "slide_type": "slide"
    },
    "tags": []
   },
   "source": [
    "<br><br><br>\n",
    "\n",
    "Calculate ${p_x}^2 + {p_y}^2$:"
   ]
  },
  {
   "cell_type": "code",
   "execution_count": null,
   "id": "68fef62a-f2c3-458e-83ef-75c8831c7980",
   "metadata": {
    "tags": []
   },
   "outputs": [],
   "source": [
    "px**2 + py**2"
   ]
  },
  {
   "cell_type": "markdown",
   "id": "a5f6a379-9b2a-4e56-8371-564ddae06cd6",
   "metadata": {
    "slideshow": {
     "slide_type": "fragment"
    },
    "tags": []
   },
   "source": [
    "<br><br><br>\n",
    "\n",
    "Now $\\displaystyle \\sqrt{{p_x}^2 + {p_y}^2 + {p_z}^2}$:"
   ]
  },
  {
   "cell_type": "code",
   "execution_count": null,
   "id": "c76ea7f5-d813-44c9-ba91-5e332cb27da0",
   "metadata": {
    "tags": []
   },
   "outputs": [],
   "source": [
    "(px**2 + py**2 + pz**2)**(1/2)"
   ]
  },
  {
   "cell_type": "markdown",
   "id": "086d7d54-52d1-49cd-a1d0-998a8fffda98",
   "metadata": {
    "slideshow": {
     "slide_type": "slide"
    },
    "tags": []
   },
   "source": [
    "We'll be using these equations a lot:"
   ]
  },
  {
   "cell_type": "markdown",
   "id": "c4f0e003-333b-455d-b6e4-d5265a4d249d",
   "metadata": {},
   "source": [
    "<br><br>\n",
    "\n",
    "$$p = \\sqrt{{p_x}^2 + {p_y}^2 + {p_z}^2}$$"
   ]
  },
  {
   "cell_type": "markdown",
   "id": "29b88c4a-8ee7-4a9f-a695-bf90c10cac2b",
   "metadata": {},
   "source": [
    "<br>\n",
    "\n",
    "$$m = \\sqrt{E^2 - p^2}$$"
   ]
  },
  {
   "cell_type": "markdown",
   "id": "c92537f0-ea9e-464c-bebc-c92aa6ef7c1b",
   "metadata": {
    "slideshow": {
     "slide_type": "fragment"
    },
    "tags": []
   },
   "source": [
    "<br><br>\n",
    "\n",
    "**Quizlet:** Fix the mistake!"
   ]
  },
  {
   "cell_type": "code",
   "execution_count": null,
   "id": "11628019-a8e5-4dca-a55c-77c9fdc01ba9",
   "metadata": {
    "tags": []
   },
   "outputs": [],
   "source": [
    "m = (E**2 - px**2 + py**2 + pz**2)**(1/2)\n",
    "m"
   ]
  },
  {
   "cell_type": "markdown",
   "id": "daedb9b8-bcd3-4a6c-a367-2c410624178e",
   "metadata": {
    "slideshow": {
     "slide_type": "slide"
    },
    "tags": []
   },
   "source": [
    "### Functions"
   ]
  },
  {
   "cell_type": "markdown",
   "id": "0972535e-8497-491a-b0a0-a0ac89543aef",
   "metadata": {
    "slideshow": {
     "slide_type": "fragment"
    },
    "tags": []
   },
   "source": [
    "<br>\n",
    "\n",
    "Define functions using `def`, an argument list, a colon (`:`), and an indented body of statements, usually ending with `return`."
   ]
  },
  {
   "cell_type": "code",
   "execution_count": null,
   "id": "e5ce6744-dc02-42c0-acff-9f3fa03f4572",
   "metadata": {
    "tags": []
   },
   "outputs": [],
   "source": [
    "def euclidean(x, y, z):\n",
    "    return (x**2 + y**2 + z**2)**(1/2)\n",
    "\n",
    "def minkowski(time, space):\n",
    "    return (time**2 - space**2)**(1/2)"
   ]
  },
  {
   "cell_type": "markdown",
   "id": "ab053c54-221e-4679-91bb-cd93a8635103",
   "metadata": {
    "slideshow": {
     "slide_type": "fragment"
    },
    "tags": []
   },
   "source": [
    "<br>\n",
    "\n",
    "We can call them with arguments identified by position or by name."
   ]
  },
  {
   "cell_type": "code",
   "execution_count": null,
   "id": "2da4c4bc-4254-4d42-a601-97a515bdbc8d",
   "metadata": {
    "tags": []
   },
   "outputs": [],
   "source": [
    "euclidean(px, py, pz)"
   ]
  },
  {
   "cell_type": "markdown",
   "id": "9e76dc3e-57a3-485d-a8c5-f6471944cf10",
   "metadata": {
    "slideshow": {
     "slide_type": "fragment"
    },
    "tags": []
   },
   "source": [
    "<br>"
   ]
  },
  {
   "cell_type": "code",
   "execution_count": null,
   "id": "011318f3-bda8-47c4-ade2-a6d7dc3b8135",
   "metadata": {
    "tags": []
   },
   "outputs": [],
   "source": [
    "euclidean(z=pz, y=py, x=px)"
   ]
  },
  {
   "cell_type": "markdown",
   "id": "c9481a11-e4d0-4f8d-b335-60eb2cdf69c1",
   "metadata": {
    "slideshow": {
     "slide_type": "fragment"
    },
    "tags": []
   },
   "source": [
    "<br>\n",
    "\n",
    "Function arguments can be nested."
   ]
  },
  {
   "cell_type": "code",
   "execution_count": null,
   "id": "7d5c5ddb-facc-47b6-bcdb-3bdbc91ab2be",
   "metadata": {
    "tags": []
   },
   "outputs": [],
   "source": [
    "minkowski(E, euclidean(px, py, pz))"
   ]
  },
  {
   "cell_type": "markdown",
   "id": "a89218cd-be4f-4a5d-8210-98462fd65ca7",
   "metadata": {
    "slideshow": {
     "slide_type": "slide"
    },
    "tags": []
   },
   "source": [
    "Nested indenting only needs to be deeper and pop back to the previous level, but a standard of 2 or 4 spaces are often used."
   ]
  },
  {
   "cell_type": "markdown",
   "id": "efc7fb5a-795d-451d-9de8-09aa4f784b84",
   "metadata": {
    "slideshow": {
     "slide_type": "fragment"
    },
    "tags": []
   },
   "source": [
    "<br>\n",
    "\n",
    "Beware: **tab** is not **space**! (Though both are invisible.)\n",
    "\n",
    "<br>"
   ]
  },
  {
   "cell_type": "code",
   "execution_count": null,
   "id": "47d731ca-6f69-40d8-bcc9-708e78afe8fa",
   "metadata": {
    "slideshow": {
     "slide_type": "fragment"
    },
    "tags": []
   },
   "outputs": [],
   "source": [
    "def mass(E, px, py, pz):\n",
    "    def euclidean(x, y, z):\n",
    "        return (x**2 + y**2 + z**2) ** (1 / 2)\n",
    "\n",
    "    def minkowski(time, space):\n",
    "        return (time**2 - space**2) ** (1 / 2)\n",
    "\n",
    "    return minkowski(E, euclidean(px, py, pz))\n",
    "\n",
    "\n",
    "mass(E, px, py, pz)"
   ]
  },
  {
   "cell_type": "markdown",
   "id": "9d44a683-2e47-4038-86df-b85b5e2a2137",
   "metadata": {
    "slideshow": {
     "slide_type": "slide"
    },
    "tags": []
   },
   "source": [
    "Note: functions can be assigned as variables, too. In Python, everything is an object.\n",
    "\n",
    "<br>"
   ]
  },
  {
   "cell_type": "code",
   "execution_count": null,
   "id": "9c90dc4a-9a2e-4f80-b48b-cd0a73439d33",
   "metadata": {
    "slideshow": {
     "slide_type": "fragment"
    },
    "tags": []
   },
   "outputs": [],
   "source": [
    "mag3d = euclidean"
   ]
  },
  {
   "cell_type": "markdown",
   "id": "abc4ef2d-6623-42d4-ba94-2faa3635ff3b",
   "metadata": {},
   "source": [
    "<br>"
   ]
  },
  {
   "cell_type": "code",
   "execution_count": null,
   "id": "ad33ff84-58ed-45a2-ac3f-538c1e3ecdec",
   "metadata": {
    "slideshow": {
     "slide_type": "fragment"
    },
    "tags": []
   },
   "outputs": [],
   "source": [
    "mag3d(px, py, pz)"
   ]
  },
  {
   "cell_type": "markdown",
   "id": "f358e58f-2d8b-4637-ae9a-80b63c80dc19",
   "metadata": {
    "slideshow": {
     "slide_type": "slide"
    },
    "tags": []
   },
   "source": [
    "### Importing functionality into Python"
   ]
  },
  {
   "cell_type": "markdown",
   "id": "4524125a-4108-4c56-9906-685cbbc43d21",
   "metadata": {
    "slideshow": {
     "slide_type": "fragment"
    },
    "tags": []
   },
   "source": [
    "<br>\n",
    "\n",
    "The `import` statement loads libraries, which may be from Python's standard library or something installed with `pip` or `conda`.\n",
    "\n",
    "<br>"
   ]
  },
  {
   "cell_type": "code",
   "execution_count": null,
   "id": "872b32c4-554b-43a3-91c3-c274afc1f49f",
   "metadata": {
    "tags": []
   },
   "outputs": [],
   "source": [
    "import math"
   ]
  },
  {
   "cell_type": "markdown",
   "id": "01139bef-1a9b-4123-ab3d-2c6f24df7508",
   "metadata": {
    "slideshow": {
     "slide_type": "fragment"
    },
    "tags": []
   },
   "source": [
    "<br>\n",
    "\n",
    "This introduced a new variable into the environment."
   ]
  },
  {
   "cell_type": "code",
   "execution_count": null,
   "id": "05ff827e-dfb2-4df5-a0db-63cc8c0543c5",
   "metadata": {
    "tags": []
   },
   "outputs": [],
   "source": [
    "math"
   ]
  },
  {
   "cell_type": "markdown",
   "id": "dd97553c-e364-4483-8b1a-e3640b6e3aa8",
   "metadata": {
    "slideshow": {
     "slide_type": "fragment"
    },
    "tags": []
   },
   "source": [
    "<br>\n",
    "\n",
    "Objects inside the module can be accessed with a dot (`.`)."
   ]
  },
  {
   "cell_type": "code",
   "execution_count": null,
   "id": "4941a765-4a36-4996-9b42-e9baad2702e0",
   "metadata": {
    "tags": []
   },
   "outputs": [],
   "source": [
    "math.sqrt(E**2 - px**2 - py**2 - pz**2)"
   ]
  },
  {
   "cell_type": "markdown",
   "id": "91af2e91-636a-4d13-84e3-0bd14600f9f3",
   "metadata": {
    "slideshow": {
     "slide_type": "slide"
    },
    "tags": []
   },
   "source": [
    "The dot-syntax prevents functions with the same names in different libraries from conflicting.\n",
    "\n",
    "<br>"
   ]
  },
  {
   "cell_type": "code",
   "execution_count": null,
   "id": "b2a34af9-e7e0-4958-82d8-585ada72b6f1",
   "metadata": {
    "slideshow": {
     "slide_type": "fragment"
    },
    "tags": []
   },
   "outputs": [],
   "source": [
    "import numpy"
   ]
  },
  {
   "cell_type": "markdown",
   "id": "142000be-744b-4048-89b0-d8d96b6cf42e",
   "metadata": {},
   "source": [
    "<br>"
   ]
  },
  {
   "cell_type": "code",
   "execution_count": null,
   "id": "971d2d20-5508-4768-8816-19d26df432fb",
   "metadata": {
    "slideshow": {
     "slide_type": "fragment"
    },
    "tags": []
   },
   "outputs": [],
   "source": [
    "numpy.sqrt"
   ]
  },
  {
   "cell_type": "markdown",
   "id": "d04f5bd9-b9e7-453d-b229-7f16a07c1d23",
   "metadata": {
    "tags": []
   },
   "source": [
    "<br>"
   ]
  },
  {
   "cell_type": "code",
   "execution_count": null,
   "id": "d777106e-0885-4f57-b463-c95c48b335bc",
   "metadata": {
    "slideshow": {
     "slide_type": "fragment"
    },
    "tags": []
   },
   "outputs": [],
   "source": [
    "math.sqrt"
   ]
  },
  {
   "cell_type": "markdown",
   "id": "3d2bbc3f-6f9a-4f9e-a28b-5c4936a74be2",
   "metadata": {},
   "source": [
    "<br>"
   ]
  },
  {
   "cell_type": "code",
   "execution_count": null,
   "id": "20b0bb8b-fc22-45ec-8904-5eb1403a57ef",
   "metadata": {
    "slideshow": {
     "slide_type": "fragment"
    },
    "tags": []
   },
   "outputs": [],
   "source": [
    "numpy.sqrt is math.sqrt"
   ]
  },
  {
   "cell_type": "markdown",
   "id": "e0e3168c-ef1a-4009-8b2a-60695d10b6d8",
   "metadata": {
    "slideshow": {
     "slide_type": "slide"
    },
    "tags": []
   },
   "source": [
    "Some libraries have conventional \"short names.\""
   ]
  },
  {
   "cell_type": "code",
   "execution_count": null,
   "id": "11ddc537-6a89-4b23-99c6-ece4ce69a6c7",
   "metadata": {
    "tags": []
   },
   "outputs": [],
   "source": [
    "import numpy as np"
   ]
  },
  {
   "cell_type": "markdown",
   "id": "7b98a224-b29e-42f3-9061-4f9e9520ca64",
   "metadata": {},
   "source": [
    "<br>"
   ]
  },
  {
   "cell_type": "code",
   "execution_count": null,
   "id": "4a9cfb3a-f8bb-4ba3-b661-ce913eee7251",
   "metadata": {
    "slideshow": {
     "slide_type": "fragment"
    },
    "tags": []
   },
   "outputs": [],
   "source": [
    "np.sqrt(E**2 - px**2 - py**2 - pz**2)"
   ]
  },
  {
   "cell_type": "markdown",
   "id": "077cf38e-ae48-49d9-8157-cbb2d6c1d9c7",
   "metadata": {
    "slideshow": {
     "slide_type": "slide"
    },
    "tags": []
   },
   "source": [
    "Sometimes, you might prefer to extract only one object from a library.\n",
    "\n",
    "<br>"
   ]
  },
  {
   "cell_type": "code",
   "execution_count": null,
   "id": "113a2da1-13a4-4417-87bb-390088ad4b87",
   "metadata": {
    "tags": []
   },
   "outputs": [],
   "source": [
    "from hepunits import GeV\n",
    "from particle import Particle"
   ]
  },
  {
   "cell_type": "markdown",
   "id": "efd18507-0087-4ec3-a95d-42d017b1fc5e",
   "metadata": {},
   "source": [
    "<br>"
   ]
  },
  {
   "cell_type": "code",
   "execution_count": null,
   "id": "45062720-354d-4f33-b82d-d47909170584",
   "metadata": {
    "slideshow": {
     "slide_type": "fragment"
    },
    "tags": []
   },
   "outputs": [],
   "source": [
    "muon = Particle.from_name(\"mu+\")\n",
    "muon"
   ]
  },
  {
   "cell_type": "markdown",
   "id": "a3671f9c-119d-43ad-bedc-1fc7e0b1f85c",
   "metadata": {},
   "source": [
    "<br>"
   ]
  },
  {
   "cell_type": "code",
   "execution_count": null,
   "id": "44363d17-f30b-4a3c-a625-e724ad483355",
   "metadata": {
    "slideshow": {
     "slide_type": "fragment"
    },
    "tags": []
   },
   "outputs": [],
   "source": [
    "muon.mass / GeV"
   ]
  },
  {
   "cell_type": "code",
   "execution_count": null,
   "id": "1a50b458-7ed8-48d1-9cc2-457817a4ab9a",
   "metadata": {
    "slideshow": {
     "slide_type": "slide"
    },
    "tags": []
   },
   "outputs": [],
   "source": [
    "?muon"
   ]
  },
  {
   "cell_type": "markdown",
   "id": "819528fd-4c43-4766-9d58-d3db9e278571",
   "metadata": {
    "slideshow": {
     "slide_type": "slide"
    },
    "tags": []
   },
   "source": [
    "### Data types"
   ]
  },
  {
   "cell_type": "markdown",
   "id": "7e110079-8373-479a-bc60-31ef47a3c25f",
   "metadata": {
    "slideshow": {
     "slide_type": "fragment"
    },
    "tags": []
   },
   "source": [
    "<br>\n",
    "\n",
    "Python has data types, but unlike C++, type correctness is checked just before computation, not in a separate compilation phase.\n",
    "\n",
    "<br>"
   ]
  },
  {
   "cell_type": "code",
   "execution_count": null,
   "id": "0ce4edda-e60e-4ef0-b574-547721bb544c",
   "metadata": {
    "slideshow": {
     "slide_type": "fragment"
    },
    "tags": [
     "raises-exception"
    ]
   },
   "outputs": [],
   "source": [
    "1 + \"2\""
   ]
  },
  {
   "cell_type": "markdown",
   "id": "910ae059-7729-46b9-82d5-4eb46ad5c5cd",
   "metadata": {
    "slideshow": {
     "slide_type": "fragment"
    },
    "tags": []
   },
   "source": [
    "<br>\n",
    "\n",
    "Check their types:"
   ]
  },
  {
   "cell_type": "code",
   "execution_count": null,
   "id": "dbb38176-9afa-4fac-b17c-9076b6451f51",
   "metadata": {
    "tags": []
   },
   "outputs": [],
   "source": [
    "type(1)"
   ]
  },
  {
   "cell_type": "markdown",
   "id": "cef6133f-00cf-4627-91f7-b530bbf21844",
   "metadata": {},
   "source": [
    "<br>"
   ]
  },
  {
   "cell_type": "code",
   "execution_count": null,
   "id": "526c542d-9772-4a92-81a7-5483105b5bb5",
   "metadata": {
    "tags": []
   },
   "outputs": [],
   "source": [
    "type(\"2\")"
   ]
  },
  {
   "cell_type": "markdown",
   "id": "ae7d0843-cf85-42d5-9b51-d70695a29429",
   "metadata": {
    "slideshow": {
     "slide_type": "slide"
    },
    "tags": []
   },
   "source": [
    "_Therefore_, types are also objects that you can assign to variables and inspect at runtime, unlike C++.\n",
    "\n",
    "<br>"
   ]
  },
  {
   "cell_type": "code",
   "execution_count": null,
   "id": "631df37e-1acd-4465-a3b5-b3ed7efe6d5e",
   "metadata": {
    "slideshow": {
     "slide_type": "fragment"
    },
    "tags": []
   },
   "outputs": [],
   "source": [
    "t1 = type(1)\n",
    "t1"
   ]
  },
  {
   "cell_type": "markdown",
   "id": "c50f0d45-5b91-492e-88d7-0e13b1b279de",
   "metadata": {},
   "source": [
    "<br>"
   ]
  },
  {
   "cell_type": "code",
   "execution_count": null,
   "id": "3f397c80-814c-4d68-9c06-cb21d40c47cc",
   "metadata": {
    "slideshow": {
     "slide_type": "fragment"
    },
    "tags": []
   },
   "outputs": [],
   "source": [
    "t2 = type(\"2\")\n",
    "t2"
   ]
  },
  {
   "cell_type": "markdown",
   "id": "7c30fd8f-f5a8-43a5-8388-4b71329f2c99",
   "metadata": {
    "slideshow": {
     "slide_type": "fragment"
    },
    "tags": []
   },
   "source": [
    "<br>\n",
    "\n",
    "Most type objects are also functions that create or convert data to that type.\n",
    "\n",
    "<br>"
   ]
  },
  {
   "cell_type": "code",
   "execution_count": null,
   "id": "8127d2e2-90d4-4ee5-8fce-5df28984433f",
   "metadata": {
    "slideshow": {
     "slide_type": "fragment"
    },
    "tags": []
   },
   "outputs": [],
   "source": [
    "int(\"2\")"
   ]
  },
  {
   "cell_type": "markdown",
   "id": "7818504e-be09-4133-ade5-e55a230e1aec",
   "metadata": {},
   "source": [
    "<br>"
   ]
  },
  {
   "cell_type": "code",
   "execution_count": null,
   "id": "5632b0ef-575b-471a-94f8-f2aad5ccc2c5",
   "metadata": {
    "slideshow": {
     "slide_type": "fragment"
    },
    "tags": []
   },
   "outputs": [],
   "source": [
    "t1(\"2\")"
   ]
  },
  {
   "cell_type": "markdown",
   "id": "699b17ef-d929-4b46-ac5b-1dbc8642c783",
   "metadata": {
    "slideshow": {
     "slide_type": "slide"
    },
    "tags": []
   },
   "source": [
    "**Quizlet:** before you run the following, what will it do?\n",
    "\n",
    "<br>"
   ]
  },
  {
   "cell_type": "code",
   "execution_count": null,
   "id": "a13e3188-3ae1-41ce-adc5-50acaa29f80d",
   "metadata": {
    "tags": []
   },
   "outputs": [],
   "source": [
    "type(type(1)(\"2\"))"
   ]
  },
  {
   "cell_type": "markdown",
   "id": "bb8ccb4a-5c5a-44d9-9161-b80729e7cc4a",
   "metadata": {},
   "source": [
    "<br>\n",
    "\n",
    "Here is some scratch space:"
   ]
  },
  {
   "cell_type": "code",
   "execution_count": null,
   "id": "56f8790d-3f2f-4916-8259-9bd211110bd3",
   "metadata": {},
   "outputs": [],
   "source": []
  },
  {
   "cell_type": "markdown",
   "id": "6af95473-9a40-45de-a603-e8272bf3e997",
   "metadata": {
    "slideshow": {
     "slide_type": "slide"
    },
    "tags": []
   },
   "source": [
    "### Relationships among types"
   ]
  },
  {
   "cell_type": "markdown",
   "id": "8a632abe-098d-4e28-9d94-b370a90dafc6",
   "metadata": {
    "slideshow": {
     "slide_type": "fragment"
    },
    "tags": []
   },
   "source": [
    "<br>\n",
    "\n",
    "NumPy (`import numpy as np`) has some types that look like standard Python types, but they're not.\n",
    "\n",
    "<br>"
   ]
  },
  {
   "cell_type": "code",
   "execution_count": null,
   "id": "2f756087-2a64-4094-a3b8-8de5ff2e6c40",
   "metadata": {
    "slideshow": {
     "slide_type": "fragment"
    },
    "tags": []
   },
   "outputs": [],
   "source": [
    "np_one = np.int32(1)\n",
    "np_one"
   ]
  },
  {
   "cell_type": "markdown",
   "id": "be44da9b-4fd6-4f26-9c6d-1f548c8213ee",
   "metadata": {},
   "source": [
    "<br>"
   ]
  },
  {
   "cell_type": "code",
   "execution_count": null,
   "id": "df0c7f14-8872-4acc-b9b6-c6bf169f6af8",
   "metadata": {
    "tags": []
   },
   "outputs": [],
   "source": [
    "type(np_one)"
   ]
  },
  {
   "cell_type": "markdown",
   "id": "af52d846-9f61-42c8-9214-d133b6b5684a",
   "metadata": {
    "slideshow": {
     "slide_type": "fragment"
    },
    "tags": []
   },
   "source": [
    "<br>\n",
    "\n",
    "`np.int32` is not `int`."
   ]
  },
  {
   "cell_type": "code",
   "execution_count": null,
   "id": "ef8c9b26-86e5-44f5-ab91-e9f4a3b45737",
   "metadata": {
    "tags": []
   },
   "outputs": [],
   "source": [
    "np.int32 == int"
   ]
  },
  {
   "cell_type": "markdown",
   "id": "e1cb395c-c60e-45d6-8cf1-90142c57f05b",
   "metadata": {
    "slideshow": {
     "slide_type": "fragment"
    },
    "tags": []
   },
   "source": [
    "<br>\n",
    "\n",
    "`np.int32` is also not `np.int64`."
   ]
  },
  {
   "cell_type": "code",
   "execution_count": null,
   "id": "1d48f2c5-f472-4382-a4b8-923f02ede539",
   "metadata": {
    "tags": []
   },
   "outputs": [],
   "source": [
    "type(np.int32(1)) == type(np.int64(1))"
   ]
  },
  {
   "cell_type": "markdown",
   "id": "b48733c2-45a0-42a6-afdd-99dc4c15f906",
   "metadata": {
    "slideshow": {
     "slide_type": "slide"
    },
    "tags": []
   },
   "source": [
    "Use `isinstance` to check the type of something.\n",
    "\n",
    "<br>\n",
    "\n",
    "It doesn't ask, \"Is this type object the same as that other one?\"\n",
    "\n",
    "It asks, \"Is this value an instance of that type?\"\n",
    "\n",
    "<br>"
   ]
  },
  {
   "cell_type": "code",
   "execution_count": null,
   "id": "d73d7ed8-8e41-416c-a6a0-eed283b3c34c",
   "metadata": {
    "tags": []
   },
   "outputs": [],
   "source": [
    "isinstance(np_one, np.int32)"
   ]
  },
  {
   "cell_type": "markdown",
   "id": "c34309ba-261c-43d0-a53f-fef260a50af2",
   "metadata": {
    "slideshow": {
     "slide_type": "fragment"
    },
    "tags": []
   },
   "source": [
    "<br>\n",
    "\n",
    "...because some types are _subtypes_ of others.\n",
    "\n",
    "<br>\n",
    "\n",
    "`np.int32` and `np.int64` are both subtypes of `np.integer`.\n",
    "\n",
    "Any instance of `np.int32` or of `np.int64` is also an instance of `np.integer`."
   ]
  },
  {
   "cell_type": "code",
   "execution_count": null,
   "id": "d56c099f-0bb0-43db-960f-a4edf80ac1d2",
   "metadata": {
    "tags": []
   },
   "outputs": [],
   "source": [
    "isinstance(np.int32(1), np.integer)"
   ]
  },
  {
   "cell_type": "markdown",
   "id": "92509dff-04d7-41af-83d0-4d5b6ef82f2e",
   "metadata": {},
   "source": [
    "<br>"
   ]
  },
  {
   "cell_type": "code",
   "execution_count": null,
   "id": "55956e25-3562-470e-9df6-47a038fec744",
   "metadata": {
    "tags": []
   },
   "outputs": [],
   "source": [
    "isinstance(np.int64(1), np.integer)"
   ]
  },
  {
   "cell_type": "markdown",
   "id": "92a6b8ea-1f79-419a-9293-cd78c1f5d690",
   "metadata": {
    "slideshow": {
     "slide_type": "slide"
    },
    "tags": []
   },
   "source": [
    "In general, there is a tree of subtype relationships (or even a more general graph, as long as there aren't any cycles).\n",
    "\n",
    "<br>"
   ]
  },
  {
   "cell_type": "markdown",
   "id": "c398112d-e673-41aa-8316-6a9ad0384f4c",
   "metadata": {},
   "source": [
    "<center>\n",
    "<img src=\"img/dtype-hierarchy.png\" width=\"65%\">\n",
    "</center>"
   ]
  },
  {
   "cell_type": "markdown",
   "id": "af30cc97-c7d7-469c-be63-a989a28646e3",
   "metadata": {
    "slideshow": {
     "slide_type": "slide"
    },
    "tags": []
   },
   "source": [
    "Using `mro` to list all of a type's supertypes...\n",
    "\n",
    "<br>"
   ]
  },
  {
   "cell_type": "code",
   "execution_count": null,
   "id": "0a2627d9-defa-4389-81b9-4544b8c5b582",
   "metadata": {
    "tags": []
   },
   "outputs": [],
   "source": [
    "np.int32.mro()"
   ]
  },
  {
   "cell_type": "markdown",
   "id": "85996e60-97e3-42ba-be00-fdc5b6b9e8e4",
   "metadata": {
    "slideshow": {
     "slide_type": "fragment"
    },
    "tags": []
   },
   "source": [
    "<br>\n",
    "\n",
    "...we see that it doesn't have any in common with Python's `int`.\n",
    "\n",
    "<br>"
   ]
  },
  {
   "cell_type": "code",
   "execution_count": null,
   "id": "a9de526a-7e65-4d9d-af5c-0984ddd23e39",
   "metadata": {
    "tags": []
   },
   "outputs": [],
   "source": [
    "int.mro()"
   ]
  },
  {
   "cell_type": "markdown",
   "id": "034608f9-121d-446a-a634-9fd299d3e93a",
   "metadata": {
    "slideshow": {
     "slide_type": "fragment"
    },
    "tags": []
   },
   "source": [
    "<br>\n",
    "\n",
    "(Except `object`, but everything in Python is an `object`.)"
   ]
  },
  {
   "cell_type": "markdown",
   "id": "6f18fde8-391c-4728-a869-72f1dbdba059",
   "metadata": {
    "slideshow": {
     "slide_type": "slide"
    },
    "tags": []
   },
   "source": [
    "There are also ways to ask general questions about types, such as \"Is this at all integer-like?\"\n",
    "\n",
    "<br>"
   ]
  },
  {
   "cell_type": "code",
   "execution_count": null,
   "id": "7f182217-83fe-475a-b1f5-e5d898fd58cf",
   "metadata": {
    "slideshow": {
     "slide_type": "fragment"
    },
    "tags": []
   },
   "outputs": [],
   "source": [
    "import numbers"
   ]
  },
  {
   "cell_type": "markdown",
   "id": "355cce38-3348-43c9-b3fd-b2eba036dfe3",
   "metadata": {},
   "source": [
    "<br>"
   ]
  },
  {
   "cell_type": "code",
   "execution_count": null,
   "id": "006cf756-a2f0-4803-b95c-1dc2f3b2fae9",
   "metadata": {
    "tags": []
   },
   "outputs": [],
   "source": [
    "isinstance(np.int32(1), numbers.Integral)"
   ]
  },
  {
   "cell_type": "markdown",
   "id": "bae91cbb-7589-4b34-96eb-60da058c38e3",
   "metadata": {},
   "source": [
    "<br>"
   ]
  },
  {
   "cell_type": "code",
   "execution_count": null,
   "id": "8b04b95c-6296-4b95-9fe0-9cef50e2ec3e",
   "metadata": {
    "tags": []
   },
   "outputs": [],
   "source": [
    "isinstance(1, numbers.Integral)"
   ]
  },
  {
   "cell_type": "markdown",
   "id": "c581efc3-d777-4a99-8851-d52c72a1e402",
   "metadata": {
    "slideshow": {
     "slide_type": "slide"
    },
    "tags": []
   },
   "source": [
    "### Collection types"
   ]
  },
  {
   "cell_type": "markdown",
   "id": "a40526a3-742e-45c3-adb8-e98d94aa77ca",
   "metadata": {
    "slideshow": {
     "slide_type": "fragment"
    },
    "tags": []
   },
   "source": [
    "<br>\n",
    "\n",
    "The two most basic collection types in Python are `list` and `dict`.\n",
    "\n",
    "<br>"
   ]
  },
  {
   "cell_type": "code",
   "execution_count": null,
   "id": "4e26e37d-db87-437a-b96e-314292b3b3b2",
   "metadata": {
    "slideshow": {
     "slide_type": "fragment"
    },
    "tags": []
   },
   "outputs": [],
   "source": [
    "some_list = [0.0, 1.1, 2.2, 3.3, 4.4, 5.5, 6.6, 7.7, 8.8, 9.9]\n",
    "some_list"
   ]
  },
  {
   "cell_type": "code",
   "execution_count": null,
   "id": "6fe10ad8-10a9-426c-9a1b-bd42cfac7fde",
   "metadata": {
    "slideshow": {
     "slide_type": "fragment"
    },
    "tags": []
   },
   "outputs": [],
   "source": [
    "type(some_list)"
   ]
  },
  {
   "cell_type": "code",
   "execution_count": null,
   "id": "2ec5ea83-b2a6-4de0-b491-305ca7867ccb",
   "metadata": {
    "tags": []
   },
   "outputs": [],
   "source": [
    "len(some_list)"
   ]
  },
  {
   "cell_type": "markdown",
   "id": "b4878d8d-2c0d-47ce-9d1d-ae097766ff7c",
   "metadata": {},
   "source": [
    "<br>"
   ]
  },
  {
   "cell_type": "code",
   "execution_count": null,
   "id": "ba7a38b4-8e74-496b-ad68-d48970dff89e",
   "metadata": {
    "slideshow": {
     "slide_type": "fragment"
    },
    "tags": []
   },
   "outputs": [],
   "source": [
    "some_dict = {\"one\": 1.1, \"two\": 2.2, \"three\": 3.3}\n",
    "some_dict"
   ]
  },
  {
   "cell_type": "code",
   "execution_count": null,
   "id": "50d28ee2-4871-404e-b4f2-37a28a9d09d0",
   "metadata": {
    "slideshow": {
     "slide_type": "fragment"
    },
    "tags": []
   },
   "outputs": [],
   "source": [
    "type(some_dict)"
   ]
  },
  {
   "cell_type": "code",
   "execution_count": null,
   "id": "900cd886-5ce1-46f6-8f8d-919ffb3ce67f",
   "metadata": {
    "tags": []
   },
   "outputs": [],
   "source": [
    "len(some_dict)"
   ]
  },
  {
   "cell_type": "markdown",
   "id": "cf637490-19c0-4843-b7d1-0985042cf8ee",
   "metadata": {
    "slideshow": {
     "slide_type": "slide"
    },
    "tags": []
   },
   "source": [
    "You can pull data out of a collection with square brackets: `[` `]`.\n",
    "\n",
    "<br>"
   ]
  },
  {
   "cell_type": "code",
   "execution_count": null,
   "id": "fa502259-b6cf-4306-b592-10c3c326d9b5",
   "metadata": {
    "slideshow": {
     "slide_type": "fragment"
    },
    "tags": []
   },
   "outputs": [],
   "source": [
    "some_list"
   ]
  },
  {
   "cell_type": "markdown",
   "id": "daf34c4f-bc91-4ef0-baa9-495769ab9eab",
   "metadata": {},
   "source": [
    "<br>"
   ]
  },
  {
   "cell_type": "code",
   "execution_count": null,
   "id": "83f64350-a81b-4808-81c0-c6266e32510b",
   "metadata": {
    "tags": []
   },
   "outputs": [],
   "source": [
    "some_list[3]"
   ]
  },
  {
   "cell_type": "markdown",
   "id": "a296582b-a2a5-4d8f-ac59-582ebac2aba6",
   "metadata": {},
   "source": [
    "<br>"
   ]
  },
  {
   "cell_type": "code",
   "execution_count": null,
   "id": "71dfd725-63ad-4f54-8af5-c125b1bfb742",
   "metadata": {
    "slideshow": {
     "slide_type": "fragment"
    },
    "tags": []
   },
   "outputs": [],
   "source": [
    "some_dict"
   ]
  },
  {
   "cell_type": "markdown",
   "id": "47c5cc6f-a6c2-4926-b570-0c27f4e2b2c7",
   "metadata": {},
   "source": [
    "<br>"
   ]
  },
  {
   "cell_type": "code",
   "execution_count": null,
   "id": "37dc6ce2-69f3-43df-8e42-56788ee02884",
   "metadata": {
    "tags": []
   },
   "outputs": [],
   "source": [
    "some_dict[\"two\"]"
   ]
  },
  {
   "cell_type": "markdown",
   "id": "0cedb706-15be-4cb5-bf98-f1b8975dfbaf",
   "metadata": {
    "slideshow": {
     "slide_type": "slide"
    },
    "tags": []
   },
   "source": [
    "You can also change the data in a collection if the square brackets are on the left of an assignment (`=`).\n",
    "\n",
    "<br>"
   ]
  },
  {
   "cell_type": "code",
   "execution_count": null,
   "id": "ef2f9c7c-ca6d-41fb-87ed-eab77e8fef8c",
   "metadata": {
    "slideshow": {
     "slide_type": "fragment"
    },
    "tags": []
   },
   "outputs": [],
   "source": [
    "some_list[3] = 33333"
   ]
  },
  {
   "cell_type": "markdown",
   "id": "2c1471f7-3c43-4717-92d6-0acd8db2c090",
   "metadata": {},
   "source": [
    "<br>"
   ]
  },
  {
   "cell_type": "code",
   "execution_count": null,
   "id": "055d39d3-cbd5-42b6-8e3b-4276d3938e84",
   "metadata": {
    "tags": []
   },
   "outputs": [],
   "source": [
    "some_list"
   ]
  },
  {
   "cell_type": "markdown",
   "id": "938365d5-0b2f-472f-845d-34be45ad13ef",
   "metadata": {},
   "source": [
    "<br>"
   ]
  },
  {
   "cell_type": "code",
   "execution_count": null,
   "id": "1e0a2ff6-2ee1-4eab-8a0f-fdda0e4e118e",
   "metadata": {
    "slideshow": {
     "slide_type": "fragment"
    },
    "tags": []
   },
   "outputs": [],
   "source": [
    "some_dict[\"two\"] = 22222"
   ]
  },
  {
   "cell_type": "markdown",
   "id": "317f3728-1369-4dce-a518-23cae1c0f303",
   "metadata": {},
   "source": [
    "<br>"
   ]
  },
  {
   "cell_type": "code",
   "execution_count": null,
   "id": "af67e3f1-1480-4c5a-9b7c-aa0e249f84be",
   "metadata": {
    "tags": []
   },
   "outputs": [],
   "source": [
    "some_dict"
   ]
  },
  {
   "cell_type": "markdown",
   "id": "e648b909-538a-4fa1-814f-929bbb62a96b",
   "metadata": {
    "slideshow": {
     "slide_type": "slide"
    },
    "tags": []
   },
   "source": [
    "And you can extend them beyond their original length, as well as mix different data types in the same collection.\n",
    "\n",
    "<br>"
   ]
  },
  {
   "cell_type": "code",
   "execution_count": null,
   "id": "f16e91e4-ef26-4656-a94d-dc78f547bcf3",
   "metadata": {
    "slideshow": {
     "slide_type": "fragment"
    },
    "tags": []
   },
   "outputs": [],
   "source": [
    "some_list.append(\"mixed types\")"
   ]
  },
  {
   "cell_type": "markdown",
   "id": "e5c83c57-ce94-4cfb-a020-e603ab2e33c1",
   "metadata": {},
   "source": [
    "<br>"
   ]
  },
  {
   "cell_type": "code",
   "execution_count": null,
   "id": "c296b754-9750-4e0a-a3e3-c2f8412259d9",
   "metadata": {
    "tags": []
   },
   "outputs": [],
   "source": [
    "some_list"
   ]
  },
  {
   "cell_type": "markdown",
   "id": "3987b0c8-0620-47f7-b9fb-ce46067cbf21",
   "metadata": {},
   "source": [
    "<br>"
   ]
  },
  {
   "cell_type": "code",
   "execution_count": null,
   "id": "0c36ce60-457a-457b-8cc4-b8a154556f33",
   "metadata": {
    "slideshow": {
     "slide_type": "fragment"
    },
    "tags": []
   },
   "outputs": [],
   "source": [
    "some_dict[123] = \"mixed types\""
   ]
  },
  {
   "cell_type": "markdown",
   "id": "eb3debae-e746-4d42-9550-e2674f8ad0f2",
   "metadata": {},
   "source": [
    "<br>"
   ]
  },
  {
   "cell_type": "code",
   "execution_count": null,
   "id": "f1acae46-2d36-4132-b6c8-9938baededeb",
   "metadata": {
    "tags": []
   },
   "outputs": [],
   "source": [
    "some_dict"
   ]
  },
  {
   "cell_type": "markdown",
   "id": "e5164a1d-8086-474d-bd6e-e2f42638471c",
   "metadata": {
    "slideshow": {
     "slide_type": "slide"
    },
    "tags": []
   },
   "source": [
    "Ranges within a list can be \"sliced\" with a colon (`:`).\n",
    "\n",
    "<br>"
   ]
  },
  {
   "cell_type": "code",
   "execution_count": null,
   "id": "ce2500e4-c8f8-4699-85a2-a7a06714c788",
   "metadata": {
    "slideshow": {
     "slide_type": "fragment"
    },
    "tags": []
   },
   "outputs": [],
   "source": [
    "some_list"
   ]
  },
  {
   "cell_type": "markdown",
   "id": "9633df52-4326-4418-90a3-5d261bf6c29a",
   "metadata": {
    "tags": []
   },
   "source": [
    "<br>"
   ]
  },
  {
   "cell_type": "code",
   "execution_count": null,
   "id": "024173ae-2c28-4079-87e8-748f4d923aba",
   "metadata": {
    "tags": []
   },
   "outputs": [],
   "source": [
    "some_list[2:8]"
   ]
  },
  {
   "cell_type": "markdown",
   "id": "b0cfe0b1-5973-4699-a8f9-37edcfcfdd76",
   "metadata": {
    "slideshow": {
     "slide_type": "fragment"
    },
    "tags": []
   },
   "source": [
    "<br>\n",
    "\n",
    "**Quizlet:** Before you run it, what will this do?"
   ]
  },
  {
   "cell_type": "code",
   "execution_count": null,
   "id": "107131b6-0590-47fc-8fbc-3f9a3d54f924",
   "metadata": {
    "tags": []
   },
   "outputs": [],
   "source": [
    "some_list[2:8][3]"
   ]
  },
  {
   "cell_type": "markdown",
   "id": "05cf7674-08cb-4bdc-b250-2259c62393f8",
   "metadata": {},
   "source": [
    "<br>"
   ]
  },
  {
   "cell_type": "code",
   "execution_count": null,
   "id": "5b637c29-2112-4814-9abc-9a0fece75873",
   "metadata": {},
   "outputs": [],
   "source": []
  },
  {
   "cell_type": "markdown",
   "id": "622fae33-794c-4a79-9e81-5557e2670041",
   "metadata": {
    "slideshow": {
     "slide_type": "fragment"
    },
    "tags": []
   },
   "source": [
    "<br>\n",
    "\n",
    "(We'll see a lot more about slices in the next lesson.)"
   ]
  },
  {
   "cell_type": "markdown",
   "id": "b2a80b20-13e6-4fd8-8c86-c45b274d53bb",
   "metadata": {
    "slideshow": {
     "slide_type": "slide"
    },
    "tags": []
   },
   "source": [
    "### A little data analysis"
   ]
  },
  {
   "cell_type": "markdown",
   "id": "118633b7-6a4e-4e7f-ad47-9852e94950e2",
   "metadata": {},
   "source": [
    "<br>"
   ]
  },
  {
   "cell_type": "code",
   "execution_count": null,
   "id": "69f26204-410c-4d10-93ac-998ce0b36b31",
   "metadata": {
    "slideshow": {
     "slide_type": "fragment"
    },
    "tags": []
   },
   "outputs": [],
   "source": [
    "particles = [\n",
    "    {\"type\": \"electron\", \"E\": 171.848714, \"px\": 38.4242935, \"py\": -28.779644, \"pz\": 165.006927, \"charge\": 1,},\n",
    "    {\"type\": \"electron\", \"E\": 138.501266, \"px\": -34.431419, \"py\": 24.6730384, \"pz\": 131.864776, \"charge\": -1,},\n",
    "    {\"type\": \"muon\", \"E\": 68.1289790, \"px\": -17.945541, \"py\": 13.1652603, \"pz\": 64.3908386, \"charge\": 1,},\n",
    "    {\"type\": \"muon\", \"E\": 18.8320473, \"px\": -8.1843795, \"py\": -7.6400470, \"pz\": 15.1420097, \"charge\": -1,},\n",
    "]"
   ]
  },
  {
   "cell_type": "markdown",
   "id": "73d073d7-1b98-49e8-b1ca-223827c830aa",
   "metadata": {},
   "source": [
    "<br>"
   ]
  },
  {
   "cell_type": "code",
   "execution_count": null,
   "id": "e67dbce8-934a-48f7-9cf7-c4120d43d54d",
   "metadata": {
    "slideshow": {
     "slide_type": "fragment"
    },
    "tags": []
   },
   "outputs": [],
   "source": [
    "def particle_decay(name, particle1, particle2):\n",
    "    return {\n",
    "        \"type\": name,\n",
    "        \"E\": particle1[\"E\"] + particle2[\"E\"],\n",
    "        \"px\": particle1[\"px\"] + particle2[\"px\"],\n",
    "        \"py\": particle1[\"py\"] + particle2[\"py\"],\n",
    "        \"pz\": particle1[\"pz\"] + particle2[\"pz\"],\n",
    "        \"charge\": particle1[\"charge\"] + particle2[\"charge\"],\n",
    "    }"
   ]
  },
  {
   "cell_type": "markdown",
   "id": "e5e7615b-4749-488a-9b2e-fe5405efdf5c",
   "metadata": {
    "slideshow": {
     "slide_type": "slide"
    },
    "tags": []
   },
   "source": [
    "Starting from the observed electrons and muons, we reconstruct unobserved particles by adding energy and momentum.\n",
    "\n",
    "<br>\n",
    "\n",
    "<center>\n",
    "<img src=\"img/higgs-to-four-leptons-diagram.png\" width=\"50%\">\n",
    "</center>"
   ]
  },
  {
   "cell_type": "code",
   "execution_count": null,
   "id": "8ae9a0f5-762b-4d7d-b9a8-32b324474879",
   "metadata": {
    "slideshow": {
     "slide_type": "slide"
    },
    "tags": []
   },
   "outputs": [],
   "source": [
    "z1 = particle_decay(\"Z boson\", particles[0], particles[1])\n",
    "z1"
   ]
  },
  {
   "cell_type": "markdown",
   "id": "d5d9aa75-45dd-4d48-971b-3388315480c0",
   "metadata": {},
   "source": [
    "<br>"
   ]
  },
  {
   "cell_type": "code",
   "execution_count": null,
   "id": "c48eb8a9-6b0d-42a4-844b-dbf12a4961fd",
   "metadata": {
    "tags": []
   },
   "outputs": [],
   "source": [
    "z2 = particle_decay(\"Z boson\", particles[2], particles[3])\n",
    "z2"
   ]
  },
  {
   "cell_type": "markdown",
   "id": "054b4425-e924-4b48-b343-98ba41793e24",
   "metadata": {},
   "source": [
    "<br>"
   ]
  },
  {
   "cell_type": "code",
   "execution_count": null,
   "id": "cbe5f383-3462-4ea4-80cd-c64f485cafa2",
   "metadata": {
    "tags": []
   },
   "outputs": [],
   "source": [
    "higgs = particle_decay(\"Higgs boson\", z1, z2)\n",
    "higgs"
   ]
  },
  {
   "cell_type": "markdown",
   "id": "79d871bd-2a1f-434e-a371-7f6c6ce71728",
   "metadata": {
    "slideshow": {
     "slide_type": "slide"
    },
    "tags": []
   },
   "source": [
    "**Quizlet:** Define the `particle_mass` function and compute the mass of all `particles`, `z1`, `z2`, and `higgs`.\n",
    "\n",
    "<br>"
   ]
  },
  {
   "cell_type": "code",
   "execution_count": null,
   "id": "3ba60cb7-e362-4b0b-8402-0d25eeb7270f",
   "metadata": {
    "tags": []
   },
   "outputs": [],
   "source": [
    "def particle_mass(particle):\n",
    "    ..."
   ]
  },
  {
   "cell_type": "markdown",
   "id": "83280e68-682a-46dd-b8e1-7cfcb7651cba",
   "metadata": {},
   "source": [
    "<br>\n",
    "\n",
    "|          | mass (GeV/$c^2$) |\n",
    "|:---------|-----------------:|\n",
    "| $e^+$    |   0.0174851 |\n",
    "| $e^-$    |   0.0097893 |\n",
    "| $\\mu^+$  |   0.1056570 |\n",
    "| $\\mu^-$  |   0.1056493 |\n",
    "| $Z_1$    |  90.2856289 |\n",
    "| $Z_2$    |  22.8789293 |\n",
    "| $H$      | 125.2341336 |"
   ]
  },
  {
   "cell_type": "markdown",
   "id": "54b95722-2201-4844-b9b4-f9d04986797d",
   "metadata": {
    "slideshow": {
     "slide_type": "slide"
    },
    "tags": []
   },
   "source": [
    "**Physics digression:** Are the measured masses wrong or is this okay?\n",
    "\n",
    "<br>"
   ]
  },
  {
   "cell_type": "code",
   "execution_count": null,
   "id": "44d6875d-5d70-407a-8680-9386fadd3e2e",
   "metadata": {
    "tags": []
   },
   "outputs": [],
   "source": [
    "Particle.from_name(\"e+\").mass / GeV, particle_mass(particles[0])"
   ]
  },
  {
   "cell_type": "code",
   "execution_count": null,
   "id": "264c9fc0-f220-4c97-9dc7-6043f65d1c81",
   "metadata": {
    "tags": []
   },
   "outputs": [],
   "source": [
    "Particle.from_name(\"e-\").mass / GeV, particle_mass(particles[1])"
   ]
  },
  {
   "cell_type": "code",
   "execution_count": null,
   "id": "5aa96277-abc8-4827-9a69-17b9ab0f7843",
   "metadata": {
    "tags": []
   },
   "outputs": [],
   "source": [
    "Particle.from_name(\"mu+\").mass / GeV, particle_mass(particles[2])"
   ]
  },
  {
   "cell_type": "code",
   "execution_count": null,
   "id": "bae8dd58-577d-4de6-85cd-02e4f73dd66b",
   "metadata": {
    "tags": []
   },
   "outputs": [],
   "source": [
    "Particle.from_name(\"mu-\").mass / GeV, particle_mass(particles[3])"
   ]
  },
  {
   "cell_type": "code",
   "execution_count": null,
   "id": "4ff1bdca-4de8-4b11-b50c-8b108af21d5b",
   "metadata": {
    "tags": []
   },
   "outputs": [],
   "source": [
    "Particle.from_name(\"Z0\").mass / GeV, particle_mass(z1)"
   ]
  },
  {
   "cell_type": "code",
   "execution_count": null,
   "id": "2af16ac4-cec5-454a-ab0d-2a9895701083",
   "metadata": {
    "tags": []
   },
   "outputs": [],
   "source": [
    "Particle.from_name(\"Z0\").mass / GeV, particle_mass(z2)"
   ]
  },
  {
   "cell_type": "code",
   "execution_count": null,
   "id": "d2f5d6ab-aa7d-4f19-8049-00148e5f8d20",
   "metadata": {
    "tags": []
   },
   "outputs": [],
   "source": [
    "Particle.from_name(\"H0\").mass / GeV, particle_mass(higgs)"
   ]
  },
  {
   "cell_type": "markdown",
   "id": "dd6d763a-8f29-4340-a492-e098903c87cc",
   "metadata": {
    "slideshow": {
     "slide_type": "slide"
    },
    "tags": []
   },
   "source": [
    "### `for` loops and `if` branches"
   ]
  },
  {
   "cell_type": "markdown",
   "id": "93b2b8f7-6b01-4917-a65e-1864ea15a5b6",
   "metadata": {
    "slideshow": {
     "slide_type": "fragment"
    },
    "tags": []
   },
   "source": [
    "<br><br><br>\n",
    "\n",
    "Can you believe we got this far without `for` and `if`?\n",
    "\n",
    "<br><br>\n",
    "\n",
    "These are the fundamental building blocks of _imperative_ programming.\n",
    "\n",
    "<br><br><br>"
   ]
  },
  {
   "cell_type": "markdown",
   "id": "0d9db1a3-a151-4c06-9b77-c2295387da32",
   "metadata": {
    "slideshow": {
     "slide_type": "slide"
    },
    "tags": []
   },
   "source": [
    "Python runs a program, one statement at a time, and `for` tells it to repeat an indented block for each value of a collection.\n",
    "\n",
    "<br>"
   ]
  },
  {
   "cell_type": "code",
   "execution_count": null,
   "id": "e48a514e-fbf3-4d7d-a220-343fa0bf22a0",
   "metadata": {
    "tags": []
   },
   "outputs": [],
   "source": [
    "for particle in particles:\n",
    "    print(particle[\"type\"], particle[\"charge\"])"
   ]
  },
  {
   "cell_type": "markdown",
   "id": "b8b46ac0-9cfe-43e6-872b-33c481193ad2",
   "metadata": {
    "slideshow": {
     "slide_type": "slide"
    },
    "tags": []
   },
   "source": [
    "`if` tells it whether it should enter an indented block or not, depending on whether an expression is `True` or `False`.\n",
    "\n",
    "<br>"
   ]
  },
  {
   "cell_type": "code",
   "execution_count": null,
   "id": "07c1fa0c-2af9-4263-b499-b64bad8fc4db",
   "metadata": {
    "tags": []
   },
   "outputs": [],
   "source": [
    "for particle in particles:\n",
    "    if particle[\"type\"] == \"electron\":\n",
    "        print(particle)"
   ]
  },
  {
   "cell_type": "markdown",
   "id": "b22b2ec0-a2fe-41ce-8a56-f6e708a78c75",
   "metadata": {
    "slideshow": {
     "slide_type": "fragment"
    },
    "tags": []
   },
   "source": [
    "<br>\n",
    "\n",
    "It can switch between two indented blocks if an `else` clause is given.\n",
    "\n",
    "<br>"
   ]
  },
  {
   "cell_type": "code",
   "execution_count": null,
   "id": "d671c1bb-99e2-4e8c-a064-dcecb879cd68",
   "metadata": {
    "tags": []
   },
   "outputs": [],
   "source": [
    "for particle in particles:\n",
    "    if particle[\"type\"] == \"electron\":\n",
    "        print(particle)\n",
    "    else:\n",
    "        print(\"not an electron\")"
   ]
  },
  {
   "cell_type": "markdown",
   "id": "6e8b2bec-2808-456c-9e2c-6c81afabbbbb",
   "metadata": {
    "slideshow": {
     "slide_type": "slide"
    },
    "tags": []
   },
   "source": [
    "`if` statements can be nested.\n",
    "\n",
    "<br>"
   ]
  },
  {
   "cell_type": "code",
   "execution_count": null,
   "id": "ef407567-6d6b-4d34-8ab5-d8b635f21196",
   "metadata": {
    "tags": []
   },
   "outputs": [],
   "source": [
    "for particle in particles:\n",
    "    if particle[\"type\"] == \"electron\":\n",
    "        if particle[\"charge\"] > 0:\n",
    "            print(\"e+\")\n",
    "        else:\n",
    "            print(\"e-\")\n",
    "    else:\n",
    "        if particle[\"charge\"] > 0:\n",
    "            print(\"mu+\")\n",
    "        else:\n",
    "            print(\"mu-\")"
   ]
  },
  {
   "cell_type": "markdown",
   "id": "62c5827e-2193-429f-910d-647d8a85c77f",
   "metadata": {
    "slideshow": {
     "slide_type": "slide"
    },
    "tags": []
   },
   "source": [
    "<br>\n",
    "\n",
    "And `elif` works as a contraction of `else if` with less indenting.\n",
    "\n",
    "<br>"
   ]
  },
  {
   "cell_type": "code",
   "execution_count": null,
   "id": "cc3edaeb-c6e8-4cd1-afeb-6e802c60e483",
   "metadata": {
    "tags": []
   },
   "outputs": [],
   "source": [
    "for particle in particles:\n",
    "    if particle[\"type\"] == \"electron\" and particle[\"charge\"] > 0:\n",
    "        print(\"e+\")\n",
    "    elif particle[\"type\"] == \"electron\" and particle[\"charge\"] < 0:\n",
    "        print(\"e-\")\n",
    "    elif particle[\"type\"] == \"muon\" and particle[\"charge\"] > 0:\n",
    "        print(\"mu+\")\n",
    "    elif particle[\"type\"] == \"muon\" and particle[\"charge\"] < 0:\n",
    "        print(\"mu-\")"
   ]
  },
  {
   "cell_type": "markdown",
   "id": "9d44ac52-fc1f-403c-be76-cf0b6119214c",
   "metadata": {
    "slideshow": {
     "slide_type": "slide"
    },
    "tags": []
   },
   "source": [
    "### From datum (singular) to data (plural)"
   ]
  },
  {
   "cell_type": "markdown",
   "id": "9b16cf99-82cc-4b79-a18b-d67930bd7496",
   "metadata": {
    "slideshow": {
     "slide_type": "fragment"
    },
    "tags": []
   },
   "source": [
    "<br><br><br><br><br>\n",
    "\n",
    "_(Switch out of presentation view now.)_\n",
    "\n",
    "<br><br><br><br><br>"
   ]
  },
  {
   "cell_type": "code",
   "execution_count": null,
   "id": "9c35e90a-3086-4f8f-b0c5-6b1fa7aadbd8",
   "metadata": {
    "slideshow": {
     "slide_type": "slide"
    },
    "tags": []
   },
   "outputs": [],
   "source": [
    "import json"
   ]
  },
  {
   "cell_type": "code",
   "execution_count": null,
   "id": "ae4774a2-348f-4800-801a-bbd6f3194d6b",
   "metadata": {
    "tags": []
   },
   "outputs": [],
   "source": [
    "dataset = json.load(open(\"data/SMHiggsToZZTo4L.json\"))"
   ]
  },
  {
   "cell_type": "code",
   "execution_count": null,
   "id": "b4caf2e2-9b1c-46a5-8fcb-532ec5e9f9b5",
   "metadata": {
    "tags": []
   },
   "outputs": [],
   "source": [
    "type(dataset)"
   ]
  },
  {
   "cell_type": "code",
   "execution_count": null,
   "id": "5e551f2e-8902-472e-8e2e-caa40de3c8b4",
   "metadata": {
    "tags": []
   },
   "outputs": [],
   "source": [
    "len(dataset)"
   ]
  },
  {
   "cell_type": "markdown",
   "id": "d1f41c9c-8038-4cff-ba16-354991864e93",
   "metadata": {
    "tags": []
   },
   "source": [
    "Show just the first 3 collision events using a slice, `0:3`."
   ]
  },
  {
   "cell_type": "code",
   "execution_count": null,
   "id": "4504b783-8aee-4fd9-b26a-f482db20cdfc",
   "metadata": {
    "tags": []
   },
   "outputs": [],
   "source": [
    "dataset[0:3]"
   ]
  },
  {
   "cell_type": "markdown",
   "id": "9ef7ecc3-0a74-4428-8c38-9454f8775d76",
   "metadata": {
    "tags": []
   },
   "source": [
    "<br>\n",
    "\n",
    "**Meaning of each field.** (We will only use a few of these.)\n",
    "\n",
    " * **run** (int): unique identifier for a data-taking period of the LHC. This is simulated data, so the run number is 1.\n",
    " * **luminosityBlock** (int): unique identifier for a period of relatively stable conditions within a run.\n",
    " * **event** (int): unique identifier for one crossing of LHC bunches.\n",
    " * **PV** (dict): primary vertex of the collision.\n",
    "   - **x** (float): $x$-position in cm.\n",
    "   - **y** (float): $y$-position in cm.\n",
    "   - **z** (float): $z$-position (along the beamline) in cm.\n",
    " * **electron** (list of dict): list of electrons (may be empty).\n",
    "   - **pt** (float): $p_T$ component of momentum transverse to the beamline in GeV/$c$.\n",
    "   - **eta** (float): $\\eta$ pseudorapidity (roughly, polar angle with respect to the beamline), unitless.\n",
    "   - **phi** (float): $\\phi$ azimuthal angle (in the plane that is perpendicular to the beamline), unitless.\n",
    "   - **mass** (float): measured mass of the particle in GeV/$c^2$.\n",
    "   - **charge** (int): either `+1` or `-1`, unitless.\n",
    "   - **pfRelIso03_all** (float): quantity that specifies how isolated this electron is from the rest of the particles in the event, unitless.\n",
    "   - **dxy** (float): distance of closest approach to the primary vertex in the plane that is perpendicular to the beamline, in cm.\n",
    "   - **dxyErr** (float): uncertainty in the **dxy** measurement.\n",
    "   - **dz** (float): distance of closest approach to the primary vertex in $z$, along the beamline, in cm.\n",
    "   - **dzErr** (float): uncertainty in the **dz** measurement.\n",
    " * **muon** (list of dict): list of muons (may be empty) with the same dict fields as **electron**.\n",
    " * **MET** (dict): missing transverse energy (in the plane perpendicular to the beamline).\n",
    "   - **pt** (float): $p_T$ magnitude, in GeV/$c$.\n",
    "   - **phi** (float): $\\phi$ aximuthal angle, unitless.\n",
    "\n",
    "<br>"
   ]
  },
  {
   "cell_type": "markdown",
   "id": "b8d74efe-fa50-4b1d-86ef-fcb1deaa80cd",
   "metadata": {
    "tags": []
   },
   "source": [
    "<br>\n",
    "\n",
    "**Coordinate transformations:**\n",
    "\n",
    "- $p_x = p_T \\cos\\phi \\cosh\\eta$\n",
    "- $p_y = p_T \\sin\\phi \\cosh\\eta$\n",
    "- $p_z = p_T \\sinh\\eta$\n",
    "- $\\displaystyle E = \\sqrt{{p_x}^2 + {p_y}^2 + {p_z}^2 + m^2}$\n",
    "\n",
    "<br>"
   ]
  },
  {
   "cell_type": "markdown",
   "id": "9f9a7452-7033-4206-8019-ef4aa02a40ff",
   "metadata": {
    "tags": []
   },
   "source": [
    "But there's a library for that."
   ]
  },
  {
   "cell_type": "code",
   "execution_count": null,
   "id": "ac787dcd-d572-4d3e-b8b4-7f3086de15b7",
   "metadata": {
    "tags": []
   },
   "outputs": [],
   "source": [
    "import vector"
   ]
  },
  {
   "cell_type": "code",
   "execution_count": null,
   "id": "0e5327c6-87d1-48ee-ad54-44651a70fa21",
   "metadata": {
    "tags": []
   },
   "outputs": [],
   "source": [
    "def to_vector(particle):\n",
    "    return vector.obj(\n",
    "        pt=particle[\"pt\"],\n",
    "        eta=particle[\"eta\"],\n",
    "        phi=particle[\"phi\"],\n",
    "        mass=particle[\"mass\"],\n",
    "    )"
   ]
  },
  {
   "cell_type": "code",
   "execution_count": null,
   "id": "a7e01d4d-d887-4ac0-b3a0-2259a0234167",
   "metadata": {
    "tags": []
   },
   "outputs": [],
   "source": [
    "for particle in dataset[0][\"muon\"]:\n",
    "    v = to_vector(particle)\n",
    "    print(v.E, v.px, v.py, v.pz)"
   ]
  },
  {
   "cell_type": "markdown",
   "id": "02adfd19-6f56-424b-8a47-24e4000df13d",
   "metadata": {
    "tags": []
   },
   "source": [
    "### Mini-project: let's make an event display"
   ]
  },
  {
   "cell_type": "markdown",
   "id": "0d50d0c5-3136-43cd-a377-fc5f777db703",
   "metadata": {
    "tags": []
   },
   "source": [
    "There are lots, and lots, and lots of libraries for visualizing data in Python.\n",
    "\n",
    "Matplotlib is the oldest and most popular."
   ]
  },
  {
   "cell_type": "code",
   "execution_count": null,
   "id": "3b733c3d-95e3-4a08-ba51-ebc4face8568",
   "metadata": {
    "tags": []
   },
   "outputs": [],
   "source": [
    "import matplotlib.pyplot as plt  # conventional short name for Matplotlib\n",
    "from mpl_toolkits.mplot3d import Axes3D"
   ]
  },
  {
   "cell_type": "code",
   "execution_count": null,
   "id": "a807e60a-6a1e-4932-9bb1-633cd5b6f0d6",
   "metadata": {
    "tags": []
   },
   "outputs": [],
   "source": [
    "%matplotlib widget\n",
    "\n",
    "fig = plt.figure()"
   ]
  },
  {
   "cell_type": "code",
   "execution_count": null,
   "id": "6c034bd6-2a86-42c9-b6a7-c28a58d0f5a6",
   "metadata": {
    "tags": []
   },
   "outputs": [],
   "source": [
    "fig.clf()  # clear figure\n",
    "ax = fig.add_subplot(111, projection=\"3d\")\n",
    "\n",
    "# 25 Gaussian-distributed (x, y, z) triplets\n",
    "for x, y, z in np.random.normal(0, 1, (25, 3)):\n",
    "    # make a black line from (0, 0, 0) to (x, y, z)\n",
    "    ax.plot([0, x], [0, y], [0, z], c=\"black\")"
   ]
  },
  {
   "cell_type": "code",
   "execution_count": null,
   "id": "8cbc9e99-0afa-4fec-af83-0b0b2a235a60",
   "metadata": {
    "tags": []
   },
   "outputs": [],
   "source": [
    "def draw_particle(ax, particle, color):\n",
    "    v = to_vector(particle)\n",
    "    ax.plot([0, v.px], [0, v.py], [0, v.pz], c=color)"
   ]
  },
  {
   "cell_type": "code",
   "execution_count": null,
   "id": "09fc36bd-9ef2-4cec-8780-d291868ca1cd",
   "metadata": {
    "tags": []
   },
   "outputs": [],
   "source": [
    "def draw_event(ax, event):\n",
    "    for particle in event[\"electron\"]:\n",
    "        draw_particle(ax, particle, \"blue\")\n",
    "    for particle in event[\"muon\"]:\n",
    "        draw_particle(ax, particle, \"green\")"
   ]
  },
  {
   "cell_type": "code",
   "execution_count": null,
   "id": "fd902d0d-bf7a-4c65-bfc7-eab549bf0d7c",
   "metadata": {
    "tags": []
   },
   "outputs": [],
   "source": [
    "fig.clf()\n",
    "ax = fig.add_subplot(111, projection=\"3d\")\n",
    "\n",
    "draw_event(ax, dataset[0])"
   ]
  },
  {
   "cell_type": "code",
   "execution_count": null,
   "id": "c8ad8c7c-054a-4ed8-826b-3a6b8710ba01",
   "metadata": {
    "tags": []
   },
   "outputs": [],
   "source": [
    "fig.clf()\n",
    "ax = fig.add_subplot(111, projection=\"3d\")\n",
    "\n",
    "for event in dataset[0:10]:\n",
    "    draw_event(ax, event)"
   ]
  },
  {
   "cell_type": "markdown",
   "id": "b3254afb-1ac1-491b-87d6-fcc66dd32365",
   "metadata": {
    "tags": []
   },
   "source": [
    "Add more to the event display, for context."
   ]
  },
  {
   "cell_type": "code",
   "execution_count": null,
   "id": "5ae2187f-aa90-4d9e-ad9b-1a6d8311a186",
   "metadata": {
    "tags": []
   },
   "outputs": [],
   "source": [
    "def beamline(ax):\n",
    "    ax.plot([0, 0], [0, 0], [-100, 100], c=\"black\", ls=\":\")"
   ]
  },
  {
   "cell_type": "code",
   "execution_count": null,
   "id": "3ea3a948-6194-49f0-9b9b-ee0b6af81296",
   "metadata": {
    "tags": []
   },
   "outputs": [],
   "source": [
    "def cms_outline(ax):\n",
    "    z = np.linspace(-100, 100, 50)\n",
    "    theta = np.linspace(0, 2 * np.pi, 12)\n",
    "    theta_grid, z_grid = np.meshgrid(theta, z)\n",
    "    x_grid = 100 * np.cos(theta_grid)\n",
    "    y_grid = 100 * np.sin(theta_grid)\n",
    "    ax.plot_surface(x_grid, y_grid, z_grid, alpha=0.2, color=\"red\")"
   ]
  },
  {
   "cell_type": "code",
   "execution_count": null,
   "id": "e9b59142-5be6-4397-bbc1-2eb107c5ba4b",
   "metadata": {
    "tags": []
   },
   "outputs": [],
   "source": [
    "fig.clf()\n",
    "ax = fig.add_subplot(111, projection=\"3d\")\n",
    "\n",
    "beamline(ax)\n",
    "cms_outline(ax)\n",
    "draw_event(ax, dataset[6417])  # has lots of electrons and muons\n",
    "\n",
    "ax.set_xlim(-100, 100)\n",
    "ax.set_ylim(-100, 100)\n",
    "ax.set_zlim(-100, 100)\n",
    "ax.set_xlabel(\"x\")\n",
    "ax.set_ylabel(\"y\")\n",
    "ax.set_zlabel(\"z\")"
   ]
  },
  {
   "cell_type": "code",
   "execution_count": null,
   "id": "85176b48-d4c1-4541-a6b2-b10b506e28b7",
   "metadata": {
    "tags": []
   },
   "outputs": [],
   "source": [
    "def draw_position_and_momentum(ax, event, particle, color):\n",
    "    # 1 unit is 1 cm\n",
    "    x0 = event[\"PV\"][\"x\"] - particle[\"dxy\"] * np.cos(particle[\"phi\"])\n",
    "    y0 = event[\"PV\"][\"y\"] - particle[\"dxy\"] * np.sin(particle[\"phi\"])\n",
    "    z0 = event[\"PV\"][\"z\"] - particle[\"dz\"]\n",
    "\n",
    "    # 1 unit is 1 GeV/c\n",
    "    v = to_vector(particle)\n",
    "    ax.plot([x0, x0 + v.px], [y0, y0 + v.py], [z0, z0 + v.pz], c=color)"
   ]
  },
  {
   "cell_type": "code",
   "execution_count": null,
   "id": "5451fc57-3fc1-4c92-89f5-b09b2af78d62",
   "metadata": {
    "tags": []
   },
   "outputs": [],
   "source": [
    "fig.clf()\n",
    "ax = fig.add_subplot(111, projection=\"3d\")\n",
    "\n",
    "beamline(ax)\n",
    "\n",
    "event = dataset[6417]  # has lots of electrons and muons\n",
    "\n",
    "for particle in event[\"electron\"]:\n",
    "    draw_position_and_momentum(ax, event, particle, \"blue\")\n",
    "for particle in event[\"muon\"]:\n",
    "    draw_position_and_momentum(ax, event, particle, \"green\")\n",
    "\n",
    "ax.set_xlim(-100, 100)\n",
    "ax.set_ylim(-100, 100)\n",
    "ax.set_zlim(-100, 100)\n",
    "ax.set_xlabel(\"x\")\n",
    "ax.set_ylabel(\"y\")\n",
    "ax.set_zlabel(\"z\")"
   ]
  },
  {
   "cell_type": "markdown",
   "id": "5b1f70dd-df71-48e4-8917-95beee642866",
   "metadata": {},
   "source": [
    "### Classes and object-oriented programming"
   ]
  },
  {
   "cell_type": "markdown",
   "id": "f375a2dc-5a90-4cef-be68-122d615a068b",
   "metadata": {
    "tags": []
   },
   "source": [
    "So far, we have only been using a few Python types:\n",
    "\n",
    "  * int\n",
    "  * float\n",
    "  * string\n",
    "  * list\n",
    "  * dict\n",
    "  * whatever the libraries provide"
   ]
  },
  {
   "cell_type": "code",
   "execution_count": null,
   "id": "c1e66ab5-6a01-4db6-bb07-df09a773e59f",
   "metadata": {},
   "outputs": [],
   "source": [
    "type(muon)"
   ]
  },
  {
   "cell_type": "code",
   "execution_count": null,
   "id": "b7d432a8-f877-44fc-861c-74e067438a24",
   "metadata": {},
   "outputs": [],
   "source": [
    "type(fig)"
   ]
  },
  {
   "cell_type": "code",
   "execution_count": null,
   "id": "ccd7cfa2-c289-47c2-b1fb-82ddcf38cfb9",
   "metadata": {},
   "outputs": [],
   "source": [
    "type(ax)"
   ]
  },
  {
   "cell_type": "code",
   "execution_count": null,
   "id": "5830550b-b050-4824-8c52-0548916fc58b",
   "metadata": {
    "tags": []
   },
   "outputs": [],
   "source": [
    "type(v)"
   ]
  },
  {
   "cell_type": "markdown",
   "id": "4a3e56df-cbdc-4b14-8fb5-aefdc30dd9fa",
   "metadata": {
    "tags": []
   },
   "source": [
    "<br><br><br><br><br>\n",
    "\n",
    "The electrons, muons, and events in our dataset really want to be classes.\n",
    "\n",
    "<br><br>\n",
    "\n",
    "A class is a new type with **attributes** (variables) and **methods** (functions) that can be accessed by the dot-syntax.\n",
    "\n",
    "<br><br>\n",
    "\n",
    "The biggest difference between a **method** and a **function** is that it always takes `self` (the object) as its first argument.\n",
    "\n",
    "<br><br>\n",
    "\n",
    "Methods with names like `__xyz__` give the object special abilities.\n",
    "\n",
    "<br><br><br><br><br>"
   ]
  },
  {
   "cell_type": "code",
   "execution_count": null,
   "id": "5981befa-eeac-43b3-b9a7-07675f1ec948",
   "metadata": {},
   "outputs": [],
   "source": [
    "class Electron:\n",
    "    def __init__(self, E, px, py, pz):\n",
    "        self.E = E\n",
    "        self.px = px\n",
    "        self.py = py\n",
    "        self.pz = pz\n",
    "\n",
    "    def __repr__(self):\n",
    "        return f\"<Electron E={self.E} px={self.px} py={self.py} pz={self.pz}>\"\n",
    "\n",
    "    def draw(self, ax):\n",
    "        ax.plot([0, self.px], [0, self.py], [0, self.pz], c=\"blue\")"
   ]
  },
  {
   "cell_type": "code",
   "execution_count": null,
   "id": "476a8c8c-b324-4246-8763-3cfaa839d8e2",
   "metadata": {
    "tags": []
   },
   "outputs": [],
   "source": [
    "event = dataset[96]  # a nice event with 3 electrons and 3 muons\n",
    "\n",
    "electron_objects = []\n",
    "for particle in event[\"electron\"]:\n",
    "    v = to_vector(particle)\n",
    "    electron_objects.append(Electron(v.E, v.px, v.py, v.pz))\n",
    "\n",
    "electron_objects"
   ]
  },
  {
   "cell_type": "code",
   "execution_count": null,
   "id": "cea1c396-ab28-45f8-a537-f03aebca93d0",
   "metadata": {},
   "outputs": [],
   "source": [
    "class Muon:\n",
    "    def __init__(self, E, px, py, pz):\n",
    "        self.E = E\n",
    "        self.px = px\n",
    "        self.py = py\n",
    "        self.pz = pz\n",
    "\n",
    "    def __repr__(self):\n",
    "        return f\"<Muon E={self.E} px={self.px} py={self.py} pz={self.pz}>\"\n",
    "\n",
    "    def draw(self, ax):\n",
    "        ax.plot([0, self.px], [0, self.py], [0, self.pz], c=\"green\")"
   ]
  },
  {
   "cell_type": "code",
   "execution_count": null,
   "id": "ca903eec-3065-4c0d-84a2-7daf9ec6c526",
   "metadata": {
    "tags": []
   },
   "outputs": [],
   "source": [
    "event = dataset[96]  # a nice event with 3 electrons and 3 muons\n",
    "\n",
    "muon_objects = []\n",
    "for particle in event[\"muon\"]:\n",
    "    v = to_vector(particle)\n",
    "    muon_objects.append(Muon(v.E, v.px, v.py, v.pz))\n",
    "\n",
    "muon_objects"
   ]
  },
  {
   "cell_type": "code",
   "execution_count": null,
   "id": "dea6931d-4853-4f76-955c-d4a3cc7fd515",
   "metadata": {},
   "outputs": [],
   "source": [
    "fig.clf()\n",
    "ax = fig.add_subplot(111, projection=\"3d\")\n",
    "\n",
    "beamline(ax)\n",
    "cms_outline(ax)\n",
    "\n",
    "for electron in electron_objects:\n",
    "    electron.draw(ax)\n",
    "\n",
    "for muon in muon_objects:\n",
    "    muon.draw(ax)"
   ]
  },
  {
   "cell_type": "markdown",
   "id": "ed10ceeb-57f3-4eaf-85b8-1bcd171c37ba",
   "metadata": {
    "tags": []
   },
   "source": [
    "<br><br><br><br><br>\n",
    "\n",
    "The above works, but there's some redundancy: the implementation of `Muon` is almost the same as that of `Electron`.\n",
    "\n",
    "<br><br>\n",
    "\n",
    "Classes also let us share code among similar types by defining some as _subclasses_ of others.\n",
    "\n",
    "<br><br><br><br><br>"
   ]
  },
  {
   "cell_type": "code",
   "execution_count": null,
   "id": "1487f25f-d658-4878-bf4b-beee1baab3b7",
   "metadata": {},
   "outputs": [],
   "source": [
    "class Particle:\n",
    "    def __init__(self, E, px, py, pz):\n",
    "        self.E = E\n",
    "        self.px = px\n",
    "        self.py = py\n",
    "        self.pz = pz\n",
    "\n",
    "    def __repr__(self):\n",
    "        return (\n",
    "            f\"<{type(self).__name__} E={self.E} px={self.px} py={self.py} pz={self.pz}>\"\n",
    "        )\n",
    "\n",
    "    def draw(self, ax):\n",
    "        raise NotImplementedError(f\"{type(self).__name__} has not been implemented yet\")"
   ]
  },
  {
   "cell_type": "code",
   "execution_count": null,
   "id": "441379c5-3956-4e95-a38c-72c6c1148c5f",
   "metadata": {
    "tags": []
   },
   "outputs": [],
   "source": [
    "class Electron(Particle):\n",
    "    def draw(self, ax):\n",
    "        ax.plot([0, self.px], [0, self.py], [0, self.pz], c=\"blue\")"
   ]
  },
  {
   "cell_type": "code",
   "execution_count": null,
   "id": "584ae6a7-b270-42a1-a712-5ff76d0eb4a1",
   "metadata": {
    "tags": []
   },
   "outputs": [],
   "source": [
    "class Muon(Particle):\n",
    "    def draw(self, ax):\n",
    "        ax.plot([0, self.px], [0, self.py], [0, self.pz], c=\"green\")"
   ]
  },
  {
   "cell_type": "code",
   "execution_count": null,
   "id": "73cadac3-70f6-4985-af19-32063da05f5e",
   "metadata": {},
   "outputs": [],
   "source": [
    "event = dataset[96]  # a nice event with 3 electrons and 3 muons\n",
    "\n",
    "electron_objects = []\n",
    "for particle in event[\"electron\"]:\n",
    "    v = to_vector(particle)\n",
    "    electron_objects.append(Electron(v.E, v.px, v.py, v.pz))\n",
    "\n",
    "muon_objects = []\n",
    "for particle in event[\"muon\"]:\n",
    "    v = to_vector(particle)\n",
    "    muon_objects.append(Muon(v.E, v.px, v.py, v.pz))\n",
    "\n",
    "fig.clf()\n",
    "ax = fig.add_subplot(111, projection=\"3d\")\n",
    "\n",
    "beamline(ax)\n",
    "cms_outline(ax)\n",
    "\n",
    "for electron in electron_objects:\n",
    "    electron.draw(ax)\n",
    "\n",
    "for muon in muon_objects:\n",
    "    muon.draw(ax)"
   ]
  },
  {
   "cell_type": "markdown",
   "id": "b5693f12-4a61-49bd-a6ac-29e50ce5d992",
   "metadata": {
    "tags": []
   },
   "source": [
    "<br><br><br>\n",
    "\n",
    "This is the end of the \"Tour of Python syntax\" section.\n",
    "\n",
    "<br>\n",
    "\n",
    "A few more Python features will be introduced as we go along, but they won't be the main focus anymore.\n",
    "\n",
    "<br>\n",
    "\n",
    "Go to [exercise-1.ipynb](exercise-1.ipynb) now."
   ]
  }
 ],
 "metadata": {
  "kernelspec": {
   "display_name": "Python 3 (ipykernel)",
   "language": "python",
   "name": "python3"
  },
  "language_info": {
   "codemirror_mode": {
    "name": "ipython",
    "version": 3
   },
   "file_extension": ".py",
   "mimetype": "text/x-python",
   "name": "python",
   "nbconvert_exporter": "python",
   "pygments_lexer": "ipython3",
   "version": "3.10.10"
  }
 },
 "nbformat": 4,
 "nbformat_minor": 5
}
