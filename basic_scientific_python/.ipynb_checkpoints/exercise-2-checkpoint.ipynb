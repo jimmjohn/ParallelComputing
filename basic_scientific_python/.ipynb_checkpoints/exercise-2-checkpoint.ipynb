{
 "cells": [
  {
   "cell_type": "markdown",
   "id": "e321a87d-a08d-4ff2-a179-a8c8a323a8d9",
   "metadata": {},
   "source": [
    "# Exercise 2: Higgs-hunting in NumPy arrays"
   ]
  },
  {
   "cell_type": "code",
   "execution_count": null,
   "id": "38868603-ddc3-4823-ae23-f8bf5796a742",
   "metadata": {
    "tags": []
   },
   "outputs": [],
   "source": [
    "import numpy as np\n",
    "import h5py\n",
    "\n",
    "dataset_hdf5 = h5py.File(\"data/SMHiggsToZZTo4L.h5\")"
   ]
  },
  {
   "cell_type": "markdown",
   "id": "d7a9f238-b16c-4b12-80d6-aea77284b56c",
   "metadata": {},
   "source": [
    "<br><br><br>\n",
    "\n",
    "This HDF5 file contains the same Higgs data, but as arrays, rather than JSON.\n",
    "\n",
    "<br>\n",
    "\n",
    "HDF5 is a file format for arrays, arranged as named objects (\"datasets\") in directories (\"groups\")."
   ]
  },
  {
   "cell_type": "code",
   "execution_count": null,
   "id": "8372dd07-edf3-4207-bc9a-ba4735aa2b8c",
   "metadata": {
    "tags": []
   },
   "outputs": [],
   "source": [
    "dataset_hdf5.keys()"
   ]
  },
  {
   "cell_type": "code",
   "execution_count": null,
   "id": "f48fc4dc-c244-4c53-9815-1b152123da7c",
   "metadata": {
    "tags": []
   },
   "outputs": [],
   "source": [
    "list(dataset_hdf5.values())"
   ]
  },
  {
   "cell_type": "markdown",
   "id": "1598f6ec-5fbf-4285-b172-d2617a6a6bce",
   "metadata": {},
   "source": [
    "<br><br><br>\n",
    "\n",
    "In this file,\n",
    "\n",
    "  * the `events` group contains all of the event-level variables (one scalar per event)\n",
    "    * run, luminosityBlock, event, PV_x, PV_y, PV_z, MET_pt, MET_phi\n",
    "  * the `particles` group contains all of the particle-level variables (one scalar per particle)\n",
    "    * the above, duplicated for each particle\n",
    "    * pt, phi, eta, mass, pfRelIso03_all, pfRelIso04_all (-1 if electron), dxy, dxyErr, dz, dzErr\n",
    "    * is_muon is `True` for muons and `False` for electrons\n",
    "  * the `counts` dataset has the number of particles in each event (one count per event)\n",
    "  * the `offsets` dataset has a cumulative sum of `counts`\n",
    "\n",
    "<br><br><br>"
   ]
  },
  {
   "cell_type": "code",
   "execution_count": null,
   "id": "698811c7-351f-4437-8ef1-4d38c0a93c73",
   "metadata": {
    "tags": []
   },
   "outputs": [],
   "source": [
    "pv_x = np.asarray(dataset_hdf5[\"events\"][\"PV_x\"])\n",
    "pv_x"
   ]
  },
  {
   "cell_type": "code",
   "execution_count": null,
   "id": "3a20ced6-d358-4555-8791-7e3f45fc23a1",
   "metadata": {
    "tags": []
   },
   "outputs": [],
   "source": [
    "pv_y = np.asarray(dataset_hdf5[\"events\"][\"PV_y\"])\n",
    "pv_y"
   ]
  },
  {
   "cell_type": "code",
   "execution_count": null,
   "id": "a7fe17e8-dc05-4fa4-a558-0f2764a58dcb",
   "metadata": {
    "tags": []
   },
   "outputs": [],
   "source": [
    "pv_z = np.asarray(dataset_hdf5[\"events\"][\"PV_z\"])\n",
    "pv_z"
   ]
  },
  {
   "cell_type": "markdown",
   "id": "d275c9dd-4c5c-4100-9a3d-e8c755e8aa91",
   "metadata": {},
   "source": [
    "<br><br><br>"
   ]
  },
  {
   "cell_type": "markdown",
   "id": "a3143ca4-1de4-4522-9327-9485433f927f",
   "metadata": {},
   "source": [
    "### Histogramming"
   ]
  },
  {
   "cell_type": "markdown",
   "id": "46b7016c-0e4c-4ddd-8151-70f1ddff4964",
   "metadata": {},
   "source": [
    "NumPy interactions are usually one operation at a time, rather than one data value at a time. We'll need a way to see what happens to _distributions_ in each step, rather than values.\n",
    "\n",
    "<br>\n",
    "\n",
    "The **hist** library provides the same kind of interface for histograms."
   ]
  },
  {
   "cell_type": "code",
   "execution_count": null,
   "id": "5f966525-f29d-4546-83bb-1b6c3cecd55a",
   "metadata": {
    "tags": []
   },
   "outputs": [],
   "source": [
    "import hist"
   ]
  },
  {
   "cell_type": "markdown",
   "id": "3a885c59-a8b7-4856-bfc9-b1d8867de003",
   "metadata": {},
   "source": [
    "<br>\n",
    "\n",
    "See the [docs](https://hist.readthedocs.io/en/latest/user-guide/quickstart.html) for how to book and fill histograms."
   ]
  },
  {
   "cell_type": "code",
   "execution_count": null,
   "id": "38841f77-3672-4d4b-88d5-4d41bd74dcaf",
   "metadata": {
    "tags": []
   },
   "outputs": [],
   "source": [
    "hist.Hist.new.Regular(100, -0.5, 0.5).Double().fill(pv_x)"
   ]
  },
  {
   "cell_type": "code",
   "execution_count": null,
   "id": "40e7a48b-e35c-445c-9670-4a2f73a29cc8",
   "metadata": {
    "tags": []
   },
   "outputs": [],
   "source": [
    "hist.Hist.new.Regular(100, -0.5, 0.5).Double().fill(pv_y)"
   ]
  },
  {
   "cell_type": "code",
   "execution_count": null,
   "id": "81d5e617-64f9-4152-b2c1-1dc429132c05",
   "metadata": {
    "tags": []
   },
   "outputs": [],
   "source": [
    "hist.Hist.new.Regular(100, -0.5, 0.5).Double().fill(pv_z)"
   ]
  },
  {
   "cell_type": "markdown",
   "id": "205b175e-ac90-49f4-a479-acf8fc939193",
   "metadata": {},
   "source": [
    "<br>\n",
    "\n",
    "Fill a 3-dimensional histogram, and we'll work with the already-aggregated data."
   ]
  },
  {
   "cell_type": "code",
   "execution_count": null,
   "id": "763353fa-adec-4ad2-a452-c967a36425bc",
   "metadata": {
    "tags": []
   },
   "outputs": [],
   "source": [
    "pv_hist = (\n",
    "    hist.Hist.new\n",
    "    .Regular(1000, -0.5, 0.5, name=\"x\")\n",
    "    .Regular(1000, -0.5, 0.5, name=\"y\")\n",
    "    .Regular(100, -20.0, 20.0, name=\"z\")\n",
    "    .Double()\n",
    "    .fill(x=pv_x, y=pv_y, z=pv_z)\n",
    ")\n",
    "pv_hist"
   ]
  },
  {
   "cell_type": "markdown",
   "id": "3c71c19d-65e2-4920-8d5d-34c8db047340",
   "metadata": {},
   "source": [
    "<br>\n",
    "\n",
    "hist has a [slicing syntax](https://uhi.readthedocs.io/en/latest/indexing.html) similar to NumPy arrays, with some extensions.\n",
    "\n",
    "Plot $x$ versus $y$ by summing over $z$ (see [plotting docs](https://hist.readthedocs.io/en/latest/user-guide/notebooks/Plots.html)):"
   ]
  },
  {
   "cell_type": "code",
   "execution_count": null,
   "id": "063a09b5-0380-4ce4-92ca-d30aa8450130",
   "metadata": {
    "tags": []
   },
   "outputs": [],
   "source": [
    "pv_hist[:, :, ::sum].plot2d_full()"
   ]
  },
  {
   "cell_type": "markdown",
   "id": "b5e85aff-5aa2-45b1-be6c-7cef901dd827",
   "metadata": {},
   "source": [
    "<br>\n",
    "\n",
    "That's a tight beamspot; let's zoom in."
   ]
  },
  {
   "cell_type": "code",
   "execution_count": null,
   "id": "cb6fdaef-304d-4fcb-8eef-b8a728a64826",
   "metadata": {
    "tags": []
   },
   "outputs": [],
   "source": [
    "from hist import loc\n",
    "\n",
    "pv_hist[loc(0.2):loc(0.3), loc(0.3):loc(0.5), ::sum].plot2d_full();"
   ]
  },
  {
   "cell_type": "markdown",
   "id": "f76fe98a-1196-4340-832b-2c5877b32f40",
   "metadata": {},
   "source": [
    "<br>\n",
    "\n",
    "This cuts around the beamspot in $x$ and $y$ and plots $z$."
   ]
  },
  {
   "cell_type": "code",
   "execution_count": null,
   "id": "c544cc0b-b727-4543-a8eb-dcf44ffb6b23",
   "metadata": {
    "tags": []
   },
   "outputs": [],
   "source": [
    "pv_hist[loc(0.2):loc(0.3):sum, loc(0.3):loc(0.5):sum, :].plot();"
   ]
  },
  {
   "cell_type": "markdown",
   "id": "c8a8aa59-697d-4cc3-a404-7c93d9cdbe79",
   "metadata": {},
   "source": [
    "<br><br><br>\n",
    "\n",
    "Histograms with many bins or many dimensions use a lot of memory, so it helps to clean up when finished."
   ]
  },
  {
   "cell_type": "code",
   "execution_count": null,
   "id": "30caaf00-a057-42a0-8180-d6df38fb81b3",
   "metadata": {
    "tags": []
   },
   "outputs": [],
   "source": [
    "del pv_hist"
   ]
  },
  {
   "cell_type": "markdown",
   "id": "a61753b0-5ec9-4ec9-bff8-ae6f33f7821c",
   "metadata": {},
   "source": [
    "<br><br><br>"
   ]
  },
  {
   "cell_type": "markdown",
   "id": "1f242a64-c92d-45f8-823a-2e4158ab7d6b",
   "metadata": {},
   "source": [
    "### The problem with particles"
   ]
  },
  {
   "cell_type": "markdown",
   "id": "3b0b4627-8005-4f0d-8edd-61939cc88bef",
   "metadata": {},
   "source": [
    "We'd like to investigate the particles in the same way."
   ]
  },
  {
   "cell_type": "code",
   "execution_count": null,
   "id": "59bc8423-2142-4503-b7c4-8a6aee4b205f",
   "metadata": {
    "tags": []
   },
   "outputs": [],
   "source": [
    "hist.Hist.new.Regular(100, 0, 100, name=\"pt\").Double().fill(dataset_hdf5[\"particles\"][\"pt\"]).plot();"
   ]
  },
  {
   "cell_type": "markdown",
   "id": "f2df305c-d509-4b61-aee2-ea93d7cb2dc2",
   "metadata": {},
   "source": [
    "<br>\n",
    "\n",
    "But are these electrons or muons? Which events are they from?\n",
    "\n",
    "Answers: all of them, all of them."
   ]
  },
  {
   "cell_type": "markdown",
   "id": "4cc1b773-0a03-496d-b9b4-709b35bfbfc3",
   "metadata": {},
   "source": [
    "<br>\n",
    "\n",
    "In the previous exercise, the boundaries between events mattered a lot: we had to find all combinations of particles _in each event_.\n",
    "\n",
    "<br>"
   ]
  },
  {
   "cell_type": "code",
   "execution_count": null,
   "id": "64aa8c36-542d-42eb-bf04-651f9f9c513d",
   "metadata": {
    "tags": []
   },
   "outputs": [],
   "source": [
    "import json\n",
    "\n",
    "dataset_json = json.load(open(\"data/SMHiggsToZZTo4L.json\"))"
   ]
  },
  {
   "cell_type": "code",
   "execution_count": null,
   "id": "f6276d9f-eea4-4f6a-a297-0aac51b0ac8a",
   "metadata": {
    "tags": []
   },
   "outputs": [],
   "source": [
    "for event in dataset_json[:5]:\n",
    "    print(f\"new event\")\n",
    "    for electron in event[\"electron\"]:\n",
    "        print(f\"    electron pt {electron['pt']}\")\n",
    "    for muon in event[\"muon\"]:\n",
    "        print(f\"    muon pt {muon['pt']}\")"
   ]
  },
  {
   "cell_type": "markdown",
   "id": "ac599b29-3f4a-4ccb-9a7f-55f1501ea644",
   "metadata": {},
   "source": [
    "<br>\n",
    "\n",
    "Knowing the number of particles in each event, we can reconstruct that information."
   ]
  },
  {
   "cell_type": "code",
   "execution_count": null,
   "id": "8dc2a178-0003-4493-ae54-a71be2dc4505",
   "metadata": {
    "tags": []
   },
   "outputs": [],
   "source": [
    "counts = np.asarray(dataset_hdf5[\"counts\"])\n",
    "is_muon = np.asarray(dataset_hdf5[\"particles\"][\"is_muon\"])\n",
    "pt = np.asarray(dataset_hdf5[\"particles\"][\"pt\"])\n",
    "\n",
    "start = 0\n",
    "stop = 0\n",
    "for num_particles in counts[:5]:\n",
    "    stop += num_particles\n",
    "    print(f\"new event\")\n",
    "    for index in range(start, stop):\n",
    "        if is_muon[index]:\n",
    "            print(f\"    muon pt {pt[index]}\")\n",
    "        else:\n",
    "            print(f\"    electron pt {pt[index]}\")\n",
    "    start = stop"
   ]
  },
  {
   "cell_type": "markdown",
   "id": "a760cbb4-a366-47b1-bb9a-1df68ad6d9fa",
   "metadata": {},
   "source": [
    "<br>\n",
    "\n",
    "But this is not array-oriented programming. We'll see more about this issue in the next lesson."
   ]
  },
  {
   "cell_type": "markdown",
   "id": "af722e11-a132-4f52-ac96-62fb898570c3",
   "metadata": {},
   "source": [
    "<br><br><br>"
   ]
  },
  {
   "cell_type": "markdown",
   "id": "495086d9-1f66-4985-9d4c-6657caff263e",
   "metadata": {},
   "source": [
    "### Analysis with an $ee\\mu\\mu$ sample"
   ]
  },
  {
   "cell_type": "markdown",
   "id": "cf61e1ce-8c30-474e-b0b1-07bb2f4ab026",
   "metadata": {},
   "source": [
    "One of the decay modes of Higgs → ZZ is ZZ → 2 electrons + 2 muons.\n",
    "\n",
    "<br>\n",
    "\n",
    "<img src=\"img/higgs-to-four-leptons-diagram.png\" width=\"400\">\n",
    "\n",
    "<br>\n",
    "\n",
    "The HDF5 file contains another group with events that have exactly 2 electrons and 2 muons."
   ]
  },
  {
   "cell_type": "code",
   "execution_count": null,
   "id": "878c6e2e-2d07-487d-b8b7-160d04fcefd1",
   "metadata": {
    "tags": []
   },
   "outputs": [],
   "source": [
    "dataset_hdf5[\"ee_mumu\"][\"e1\"]"
   ]
  },
  {
   "cell_type": "code",
   "execution_count": null,
   "id": "9ab80973-8d84-4cf8-b1f7-6c347597061d",
   "metadata": {
    "tags": []
   },
   "outputs": [],
   "source": [
    "dataset_hdf5[\"ee_mumu\"][\"e2\"]"
   ]
  },
  {
   "cell_type": "code",
   "execution_count": null,
   "id": "c9e3b9e4-00f8-4682-a145-1186feed44f1",
   "metadata": {
    "tags": []
   },
   "outputs": [],
   "source": [
    "dataset_hdf5[\"ee_mumu\"][\"mu1\"]"
   ]
  },
  {
   "cell_type": "code",
   "execution_count": null,
   "id": "48d4dfc0-cb7e-41c5-b1d9-a896b697cba3",
   "metadata": {
    "tags": []
   },
   "outputs": [],
   "source": [
    "dataset_hdf5[\"ee_mumu\"][\"mu2\"]"
   ]
  },
  {
   "cell_type": "code",
   "execution_count": null,
   "id": "7606ca05-9b01-42d6-9cc0-94aea0216b25",
   "metadata": {
    "tags": []
   },
   "outputs": [],
   "source": [
    "list(dataset_hdf5[\"ee_mumu\"][\"mu2\"].values())"
   ]
  },
  {
   "cell_type": "markdown",
   "id": "c123945b-d171-4484-bc5f-8387418f2ed1",
   "metadata": {},
   "source": [
    "<br>\n",
    "\n",
    "The datasets in all four of these nested groups correspond to 30868 $ee\\mu\\mu$ events (drawn from a larger dataset than the JSON).\n",
    "\n",
    "Index `i` in every array corresponds to the same event `i`."
   ]
  },
  {
   "cell_type": "code",
   "execution_count": null,
   "id": "dd3d1f5c-f1dd-4c62-88b1-138efe88a1c1",
   "metadata": {
    "tags": []
   },
   "outputs": [],
   "source": [
    "dataset_hdf5[\"ee_mumu\"][\"e1\"][\"pt\"][0]"
   ]
  },
  {
   "cell_type": "code",
   "execution_count": null,
   "id": "d1f62437-d4a3-4f46-a6e5-40c0bfa7bfd0",
   "metadata": {
    "tags": []
   },
   "outputs": [],
   "source": [
    "dataset_hdf5[\"ee_mumu\"][\"e2\"][\"pt\"][0]"
   ]
  },
  {
   "cell_type": "code",
   "execution_count": null,
   "id": "cb85f87f-084b-476e-bead-0571e37d1d3c",
   "metadata": {
    "tags": []
   },
   "outputs": [],
   "source": [
    "dataset_hdf5[\"ee_mumu\"][\"mu1\"][\"pt\"][0]"
   ]
  },
  {
   "cell_type": "code",
   "execution_count": null,
   "id": "8fd7be86-3ac0-4f9d-be02-12160f6f9098",
   "metadata": {
    "tags": []
   },
   "outputs": [],
   "source": [
    "dataset_hdf5[\"ee_mumu\"][\"mu2\"][\"pt\"][0]"
   ]
  },
  {
   "cell_type": "markdown",
   "id": "07f3118d-85c8-4353-aead-8e953bdbc583",
   "metadata": {},
   "source": [
    "<br>\n",
    "\n",
    "From the JSON,"
   ]
  },
  {
   "cell_type": "code",
   "execution_count": null,
   "id": "3a7d7f8e-23bb-4ccf-99ab-870f222ba40e",
   "metadata": {
    "tags": []
   },
   "outputs": [],
   "source": [
    "for event in dataset_json:\n",
    "    if len(event[\"electron\"]) == 2 and len(event[\"muon\"]) == 2:\n",
    "        # find the first event with two electrons and two muons, then break out of the loop\n",
    "        break\n",
    "\n",
    "print(event[\"electron\"][0][\"pt\"])\n",
    "print(event[\"electron\"][1][\"pt\"])\n",
    "print(event[\"muon\"][0][\"pt\"])\n",
    "print(event[\"muon\"][1][\"pt\"])"
   ]
  },
  {
   "cell_type": "markdown",
   "id": "c217ab1e-9951-456a-aeec-029abc845922",
   "metadata": {},
   "source": [
    "<br><br><br>"
   ]
  },
  {
   "cell_type": "markdown",
   "id": "15a7ab43-6640-4f13-a8ca-5cff00041129",
   "metadata": {},
   "source": [
    "### Coordinate transformations"
   ]
  },
  {
   "cell_type": "markdown",
   "id": "c1b2f951-c0ef-4f63-b975-73d9b13b1e04",
   "metadata": {},
   "source": [
    "Previously, we used the **vector** library to transform between `pt`, `phi`, `eta` and `px`, `py`, `pz`."
   ]
  },
  {
   "cell_type": "code",
   "execution_count": null,
   "id": "d544555e-d8c9-4557-8d3b-481ad2f372f0",
   "metadata": {
    "tags": []
   },
   "outputs": [],
   "source": [
    "import vector"
   ]
  },
  {
   "cell_type": "code",
   "execution_count": null,
   "id": "d56a0412-c491-48d7-9cd7-6777d9d47b15",
   "metadata": {
    "tags": []
   },
   "outputs": [],
   "source": [
    "v = vector.obj(\n",
    "    pt = event[\"electron\"][0][\"pt\"],\n",
    "    phi = event[\"electron\"][0][\"phi\"],\n",
    "    eta = event[\"electron\"][0][\"eta\"],\n",
    "    mass = event[\"electron\"][0][\"mass\"],\n",
    ")"
   ]
  },
  {
   "cell_type": "code",
   "execution_count": null,
   "id": "053bae99-1d23-4826-84fa-87fcc535d891",
   "metadata": {
    "tags": []
   },
   "outputs": [],
   "source": [
    "v.px"
   ]
  },
  {
   "cell_type": "code",
   "execution_count": null,
   "id": "bb37662a-eacf-49cc-a268-de740c870cae",
   "metadata": {
    "tags": []
   },
   "outputs": [],
   "source": [
    "v.py"
   ]
  },
  {
   "cell_type": "code",
   "execution_count": null,
   "id": "ea00d4e5-5dbb-44f4-ac74-150d7819eca4",
   "metadata": {
    "tags": []
   },
   "outputs": [],
   "source": [
    "v.pz"
   ]
  },
  {
   "cell_type": "markdown",
   "id": "48b42cd5-4434-4381-b18d-243aceadea98",
   "metadata": {},
   "source": [
    "<br>\n",
    "\n",
    "We can still use the **vector** library because it also performs coordinate transformations on arrays (see [docs](https://vector.readthedocs.io/en/latest/usage/intro.html#NumPy-arrays-of-vectors))."
   ]
  },
  {
   "cell_type": "code",
   "execution_count": null,
   "id": "94511d81-f3b9-471f-9d40-8bb6c68bd0b2",
   "metadata": {
    "tags": []
   },
   "outputs": [],
   "source": [
    "e1 = vector.array({\n",
    "    \"pt\": dataset_hdf5[\"ee_mumu\"][\"e1\"][\"pt\"],\n",
    "    \"phi\": dataset_hdf5[\"ee_mumu\"][\"e1\"][\"phi\"],\n",
    "    \"eta\": dataset_hdf5[\"ee_mumu\"][\"e1\"][\"eta\"],\n",
    "    \"mass\": dataset_hdf5[\"ee_mumu\"][\"e1\"][\"mass\"],\n",
    "})"
   ]
  },
  {
   "cell_type": "code",
   "execution_count": null,
   "id": "fda303f1-f54c-46e8-bf77-772b84c7d1b9",
   "metadata": {
    "tags": []
   },
   "outputs": [],
   "source": [
    "e1.px"
   ]
  },
  {
   "cell_type": "code",
   "execution_count": null,
   "id": "9fd25e88-fd19-4912-bf48-3c8df33c0508",
   "metadata": {
    "tags": []
   },
   "outputs": [],
   "source": [
    "e1.py"
   ]
  },
  {
   "cell_type": "code",
   "execution_count": null,
   "id": "84322d43-01af-4d62-ac24-46fc24834b8a",
   "metadata": {
    "tags": []
   },
   "outputs": [],
   "source": [
    "e1.pz"
   ]
  },
  {
   "cell_type": "markdown",
   "id": "8647f9e4-db8d-4c30-ba08-8d99097e9a06",
   "metadata": {},
   "source": [
    "<br>"
   ]
  },
  {
   "cell_type": "code",
   "execution_count": null,
   "id": "4323f571-2478-423b-a235-a5a50e2983e8",
   "metadata": {
    "tags": []
   },
   "outputs": [],
   "source": [
    "e2 = vector.array({\n",
    "    \"pt\": dataset_hdf5[\"ee_mumu\"][\"e2\"][\"pt\"],\n",
    "    \"phi\": dataset_hdf5[\"ee_mumu\"][\"e2\"][\"phi\"],\n",
    "    \"eta\": dataset_hdf5[\"ee_mumu\"][\"e2\"][\"eta\"],\n",
    "    \"mass\": dataset_hdf5[\"ee_mumu\"][\"e2\"][\"mass\"],\n",
    "})\n",
    "mu1 = vector.array({\n",
    "    \"pt\": dataset_hdf5[\"ee_mumu\"][\"mu1\"][\"pt\"],\n",
    "    \"phi\": dataset_hdf5[\"ee_mumu\"][\"mu1\"][\"phi\"],\n",
    "    \"eta\": dataset_hdf5[\"ee_mumu\"][\"mu1\"][\"eta\"],\n",
    "    \"mass\": dataset_hdf5[\"ee_mumu\"][\"mu1\"][\"mass\"],\n",
    "})\n",
    "mu2 = vector.array({\n",
    "    \"pt\": dataset_hdf5[\"ee_mumu\"][\"mu2\"][\"pt\"],\n",
    "    \"phi\": dataset_hdf5[\"ee_mumu\"][\"mu2\"][\"phi\"],\n",
    "    \"eta\": dataset_hdf5[\"ee_mumu\"][\"mu2\"][\"eta\"],\n",
    "    \"mass\": dataset_hdf5[\"ee_mumu\"][\"mu2\"][\"mass\"],\n",
    "})"
   ]
  },
  {
   "cell_type": "markdown",
   "id": "784dd7e2-ce99-4b73-86f3-aacc376549b8",
   "metadata": {},
   "source": [
    "<br>\n",
    "\n",
    "Mass of the $Z$ boson constructed from $ee$:"
   ]
  },
  {
   "cell_type": "code",
   "execution_count": null,
   "id": "4575aa06-c03e-4677-a18e-241a722f7695",
   "metadata": {
    "tags": []
   },
   "outputs": [],
   "source": [
    "zmass_ee = (e1 + e2).mass\n",
    "zmass_ee"
   ]
  },
  {
   "cell_type": "markdown",
   "id": "498dedeb-f99a-4ee9-a89a-ea8ab93e4879",
   "metadata": {},
   "source": [
    "<br>\n",
    "\n",
    "Mass of the $Z$ boson constructed from $\\mu\\mu$:"
   ]
  },
  {
   "cell_type": "code",
   "execution_count": null,
   "id": "9331ebed-adac-4f54-a1f9-a88d45f98755",
   "metadata": {
    "tags": []
   },
   "outputs": [],
   "source": [
    "zmass_mumu = (mu1 + mu2).mass\n",
    "zmass_mumu"
   ]
  },
  {
   "attachments": {
    "63d49174-4665-4875-95b5-9783880597f9.png": {
     "image/png": "[encoded data removed]"
    }
   },
   "cell_type": "markdown",
   "id": "21cc185a-24f1-4873-b41e-d25d51e2102b",
   "metadata": {},
   "source": [
    "<br>\n",
    "\n",
    "**Exercise part 1:** Plot `zmass_mumu` versus `zmass_ee`. It should look like this (60 bins×60 bins):\n",
    "\n",
    "![image.png](attachment:63d49174-4665-4875-95b5-9783880597f9.png)"
   ]
  },
  {
   "cell_type": "code",
   "execution_count": null,
   "id": "0b3540ab-40df-46bf-a421-0ee6eeff401a",
   "metadata": {
    "tags": []
   },
   "outputs": [],
   "source": []
  },
  {
   "attachments": {
    "fadeda1f-3d82-4e50-bfaa-be8234c4aae0.png": {
     "image/png": "[encoded data removed]"
    }
   },
   "cell_type": "markdown",
   "id": "23c6ec15-eb88-424f-9df1-bc666f4ecd2f",
   "metadata": {},
   "source": [
    "<br>\n",
    "\n",
    "**Exercise part 2:** Plot the Higgs mass. It should look like this (100 bins):\n",
    "\n",
    "![image.png](attachment:fadeda1f-3d82-4e50-bfaa-be8234c4aae0.png)"
   ]
  },
  {
   "cell_type": "code",
   "execution_count": null,
   "id": "f1cd8864-400d-4f84-adb3-f4bd8c7cf702",
   "metadata": {
    "tags": []
   },
   "outputs": [],
   "source": []
  },
  {
   "cell_type": "markdown",
   "id": "b76475f0-9488-4f11-8bee-02fb8f5262d6",
   "metadata": {},
   "source": [
    "<br><br><br>"
   ]
  },
  {
   "cell_type": "markdown",
   "id": "49f46799-e3d7-45bc-bbbc-78e821b02297",
   "metadata": {},
   "source": [
    "### Charge quality cut"
   ]
  },
  {
   "cell_type": "markdown",
   "id": "8b8876ec-2ae4-4e11-86a3-3a0f51486037",
   "metadata": {},
   "source": [
    "In the next part of the exercise, you'll apply quality cuts.\n",
    "\n",
    "**First quality cut:** The two electrons are $e^+$ and $e^-$ and the two muons are $\\mu^+$ and $\\mu^-$."
   ]
  },
  {
   "cell_type": "markdown",
   "id": "818e2130-15e6-4420-b545-cf8cf972f520",
   "metadata": {},
   "source": [
    "<br>\n",
    "\n",
    "Get the particle charges as arrays:"
   ]
  },
  {
   "cell_type": "code",
   "execution_count": null,
   "id": "ae8f0e10-cf1d-468a-b19c-424d46090e4d",
   "metadata": {
    "tags": []
   },
   "outputs": [],
   "source": [
    "e1_charge = np.asarray(dataset_hdf5[\"ee_mumu\"][\"e1\"][\"charge\"])\n",
    "e2_charge = np.asarray(dataset_hdf5[\"ee_mumu\"][\"e2\"][\"charge\"])\n",
    "mu1_charge = np.asarray(dataset_hdf5[\"ee_mumu\"][\"mu1\"][\"charge\"])\n",
    "mu2_charge = np.asarray(dataset_hdf5[\"ee_mumu\"][\"mu2\"][\"charge\"])"
   ]
  },
  {
   "cell_type": "markdown",
   "id": "02106c75-a45b-46c2-bf8f-38dcb5579a4c",
   "metadata": {},
   "source": [
    "<br>\n",
    "\n",
    "Let's look at the distribution of charges in a 5 bin×5 bin histogram."
   ]
  },
  {
   "cell_type": "code",
   "execution_count": null,
   "id": "916b6927-ffe7-49c5-8127-acd4586029e3",
   "metadata": {
    "tags": []
   },
   "outputs": [],
   "source": [
    "charge_hist = hist.Hist.new.Integer(-2, 3, name=\"q_ee\").Integer(-2, 3, name=\"q_mumu\").Double().fill(\n",
    "    q_ee=e1_charge + e2_charge,\n",
    "    q_mumu=mu1_charge + mu2_charge,\n",
    ")\n",
    "charge_hist"
   ]
  },
  {
   "cell_type": "markdown",
   "id": "ec834da9-e388-4284-9f99-66c90fd1c709",
   "metadata": {},
   "source": [
    "<br>\n",
    "\n",
    "Most of the distribution is at `e1_charge + e2_charge == 0` and `mu1_charge + mu2_charge == 0` (high quality Higgs events).\n",
    "\n",
    "We can ask the histogram for its bin data as an array:"
   ]
  },
  {
   "cell_type": "code",
   "execution_count": null,
   "id": "765a2af1-14f2-45ac-95ad-5a06afe5c835",
   "metadata": {
    "tags": []
   },
   "outputs": [],
   "source": [
    "charge_hist.values()"
   ]
  },
  {
   "cell_type": "markdown",
   "id": "bffb66de-c608-4ec3-8586-9004d2a8c078",
   "metadata": {},
   "source": [
    "Why is it distributed like that?"
   ]
  },
  {
   "cell_type": "code",
   "execution_count": null,
   "id": "0b98e871-d1e7-4888-a07b-164f8571e82e",
   "metadata": {},
   "outputs": [],
   "source": []
  },
  {
   "cell_type": "markdown",
   "id": "09ee33bb-18fc-4b41-bab4-849bb4fd3bc8",
   "metadata": {},
   "source": [
    "<br>\n",
    "\n",
    "We can also use Matplotlib to make overlays of cross-sections that do not include the central peak."
   ]
  },
  {
   "cell_type": "code",
   "execution_count": null,
   "id": "7453d901-c73e-4f09-8aa0-c6281a7b04f7",
   "metadata": {
    "tags": []
   },
   "outputs": [],
   "source": [
    "import matplotlib.pyplot as plt"
   ]
  },
  {
   "cell_type": "code",
   "execution_count": null,
   "id": "89cf057f-b004-429a-803b-e5c7a19ee8c0",
   "metadata": {
    "tags": []
   },
   "outputs": [],
   "source": [
    "fig, (ax1, ax2) = plt.subplots(1, 2, figsize=(8, 4))\n",
    "\n",
    "charge_hist[:, 0].plot(ax=ax1);\n",
    "charge_hist[:, 4].plot(ax=ax1);\n",
    "charge_hist[0, :].plot(ax=ax2);\n",
    "charge_hist[4, :].plot(ax=ax2);"
   ]
  },
  {
   "cell_type": "markdown",
   "id": "f9e37c98-8a1c-4c10-b6e6-8f8151c27fc3",
   "metadata": {},
   "source": [
    "<br>\n",
    "\n",
    "To select events with `e1_charge + e2_charge == 0` and `mu1_charge + mu2_charge == 0`, we can make each expression into a boolean array,"
   ]
  },
  {
   "cell_type": "code",
   "execution_count": null,
   "id": "e5612449-92be-4394-a80f-24b688d6d0d2",
   "metadata": {
    "tags": []
   },
   "outputs": [],
   "source": [
    "e1_charge + e2_charge == 0"
   ]
  },
  {
   "cell_type": "markdown",
   "id": "e89f1a02-6a2d-4df0-84a5-d1ec51a636ea",
   "metadata": {},
   "source": [
    "and apply it as a slice."
   ]
  },
  {
   "cell_type": "code",
   "execution_count": null,
   "id": "1954fc4a-893c-42b4-824c-7e2984044659",
   "metadata": {
    "tags": []
   },
   "outputs": [],
   "source": [
    "fix, ax = plt.subplots(1, 1)\n",
    "\n",
    "hist.Hist.new.Regular(120, 0, 120, name=\"mass Z_ee\").Double().fill(\n",
    "    zmass_ee\n",
    ").plot(ax=ax);\n",
    "\n",
    "hist.Hist.new.Regular(120, 0, 120, name=\"mass Z_ee\").Double().fill(\n",
    "    zmass_ee[e1_charge + e2_charge == 0]\n",
    ").plot(ax=ax);"
   ]
  },
  {
   "cell_type": "markdown",
   "id": "0c886156-c42f-4744-a936-070803a31fa5",
   "metadata": {},
   "source": [
    "<br>\n",
    "\n",
    "But how do you apply both?\n",
    "\n",
    "Unfortunately, you have to use `&` for \"and\", `|` for \"or\", `~` for \"not\".\n",
    "\n",
    "This is unfortunate because the comparison operation (`==`, `!=`, `<`, `>`, `<=`, `>=`) has to be surrounded by parentheses for the right order of operations."
   ]
  },
  {
   "cell_type": "code",
   "execution_count": null,
   "id": "9d9a6745-9dbf-4ceb-8a87-0decfea2563a",
   "metadata": {
    "tags": []
   },
   "outputs": [],
   "source": [
    "fix, ax = plt.subplots(1, 1)\n",
    "\n",
    "hist.Hist.new.Regular(120, 0, 120, name=\"mass Z_mumu\").Double().fill(\n",
    "    zmass_mumu\n",
    ").plot(ax=ax);\n",
    "\n",
    "hist.Hist.new.Regular(120, 0, 120, name=\"mass Z_mumu\").Double().fill(\n",
    "    zmass_mumu[e1_charge + e2_charge == 0]\n",
    ").plot(ax=ax);\n",
    "\n",
    "hist.Hist.new.Regular(120, 0, 120, name=\"mass Z_mumu\").Double().fill(\n",
    "    zmass_mumu[(e1_charge + e2_charge == 0) & (mu1_charge + mu2_charge == 0)]\n",
    ").plot(ax=ax);"
   ]
  },
  {
   "attachments": {
    "a0b24dd8-fa2b-44f0-8f82-7372ee7d682c.png": {
     "image/png": "[encoded data removed]"
    }
   },
   "cell_type": "markdown",
   "id": "12dedbb1-2c95-4582-baf1-38c43c362e98",
   "metadata": {},
   "source": [
    "<br>\n",
    "\n",
    "**Exercise part 3:** Since most of the data would pass the charge cut, the difference that it makes to the final Higgs mass plot is barely perceptible. Instead, draw the Higgs mass with only those events that _fail_ the charge quality cut.\n",
    "\n",
    "It should look like this (100 bins):\n",
    "\n",
    "![image.png](attachment:a0b24dd8-fa2b-44f0-8f82-7372ee7d682c.png)"
   ]
  },
  {
   "cell_type": "markdown",
   "id": "65e8c291-5140-4838-bbb3-a864728c5b02",
   "metadata": {},
   "source": [
    "<br><br><br>"
   ]
  },
  {
   "cell_type": "markdown",
   "id": "97527aae-3460-46f0-be31-e42c6a257d25",
   "metadata": {},
   "source": [
    "### Z mass quality cut"
   ]
  },
  {
   "cell_type": "markdown",
   "id": "d9e1e551-5f97-45b9-8b40-aa085ea32a74",
   "metadata": {},
   "source": [
    "**Second quality cut:**\n",
    "\n",
    "  * 12 GeV/$c^2$ < smallest Z mass < 120 GeV/$c^2$\n",
    "  * 40 GeV/$c^2$ < largest Z mass < 120 GeV/$c^2$"
   ]
  },
  {
   "cell_type": "markdown",
   "id": "c4db2b88-dce3-47ff-86c1-5fe7e590d01c",
   "metadata": {},
   "source": [
    "Now that you have"
   ]
  },
  {
   "cell_type": "code",
   "execution_count": null,
   "id": "99faafa3-34ff-4509-a54e-765f4fc15e28",
   "metadata": {
    "tags": []
   },
   "outputs": [],
   "source": [
    "zmass_ee"
   ]
  },
  {
   "cell_type": "code",
   "execution_count": null,
   "id": "233974cf-b6d4-47ba-ae5e-3dd9ea96dd91",
   "metadata": {
    "tags": []
   },
   "outputs": [],
   "source": [
    "zmass_mumu"
   ]
  },
  {
   "attachments": {
    "ba75be3e-f376-4359-b0c4-09bfa8546126.png": {
     "image/png": "[encoded data removed]"
    }
   },
   "cell_type": "markdown",
   "id": "d61157a7-f80e-4844-ad22-25f298b741d0",
   "metadata": {},
   "source": [
    "it would be relatively straightforward to apply selections to the $Z \\to ee$ and $Z \\to \\mu\\mu$, but we need to apply selections to `zmass_small` and `zmass_big`.\n",
    "\n",
    "<br>\n",
    "\n",
    "**Exercise part 4:** Define `zmass_small` and `zmass_big` and plot them. There are several ways to do that.\n",
    "\n",
    "It should look like this (60 bins×60 bins):\n",
    "\n",
    "![image.png](attachment:ba75be3e-f376-4359-b0c4-09bfa8546126.png)"
   ]
  },
  {
   "cell_type": "code",
   "execution_count": null,
   "id": "ce07eb7a-d9ea-4430-8569-9fbbbab819fc",
   "metadata": {},
   "outputs": [],
   "source": []
  },
  {
   "cell_type": "markdown",
   "id": "baffe73c-843a-41e9-ad29-7c63e59064cd",
   "metadata": {},
   "source": [
    "<details>\n",
    "    <summary><b>Hint 1...</b></summary>\n",
    "\n",
    "<br>\n",
    "\n",
    "You could use [np.where](https://numpy.org/doc/stable/reference/generated/numpy.where.html).\n",
    "\n",
    "</details>\n",
    "\n",
    "<br>\n",
    "\n",
    "<details>\n",
    "    <summary><b>Hint 2...</b></summary>\n",
    "\n",
    "<br>\n",
    "\n",
    "You could also define `zmass_small` and `zmass_big` as empty arrays and fill them like:\n",
    "\n",
    "```python\n",
    "zmass_small[zmass_ee < zmass_mumu] = zmass_ee\n",
    "zmass_small[zmass_mumu < zmass_ee] = zmass_mumu\n",
    "```\n",
    "\n",
    "</details>"
   ]
  },
  {
   "attachments": {
    "804379f9-6985-4df2-9764-ed6139b99610.png": {
     "image/png": "[encoded data removed]"
    }
   },
   "cell_type": "markdown",
   "id": "6efb79d8-9d87-45c8-8242-f6b5a955a978",
   "metadata": {},
   "source": [
    "<br>\n",
    "\n",
    "**Exercise part 5:** Make a final Higgs plot with and without the Z mass quality cut. It should look like this (100 bins):\n",
    "\n",
    "![image.png](attachment:804379f9-6985-4df2-9764-ed6139b99610.png)"
   ]
  },
  {
   "cell_type": "code",
   "execution_count": null,
   "id": "6ec0c9fb-f971-4b0f-8091-01743f35820c",
   "metadata": {},
   "outputs": [],
   "source": []
  },
  {
   "attachments": {
    "5a581d12-0c4f-4f1b-bd33-515a4018f741.png": {
     "image/png": "[encoded data removed]"
    }
   },
   "cell_type": "markdown",
   "id": "530c0903-4890-4432-8cb4-4f4d2282c014",
   "metadata": {},
   "source": [
    "For fun, you can also make the anti-cut plot. It should look like this (100 bins):\n",
    "\n",
    "![image.png](attachment:5a581d12-0c4f-4f1b-bd33-515a4018f741.png)"
   ]
  },
  {
   "cell_type": "code",
   "execution_count": null,
   "id": "808ca37e-cba7-4768-a7cd-8978a0eab4b8",
   "metadata": {},
   "outputs": [],
   "source": []
  },
  {
   "cell_type": "markdown",
   "id": "50c3227a-b9b6-420f-bee2-a1ebee338b4e",
   "metadata": {
    "tags": []
   },
   "source": [
    "<br><br><br>\n",
    "\n",
    "Go to [lesson-3.ipynb](lesson-3.ipynb) when we're all done reviewing this exercise."
   ]
  }
 ],
 "metadata": {
  "kernelspec": {
   "display_name": "Python 3 (ipykernel)",
   "language": "python",
   "name": "python3"
  },
  "language_info": {
   "codemirror_mode": {
    "name": "ipython",
    "version": 3
   },
   "file_extension": ".py",
   "mimetype": "text/x-python",
   "name": "python",
   "nbconvert_exporter": "python",
   "pygments_lexer": "ipython3",
   "version": "3.10.10"
  }
 },
 "nbformat": 4,
 "nbformat_minor": 5
}
