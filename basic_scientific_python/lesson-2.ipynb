{
 "cells": [
  {
   "cell_type": "markdown",
   "id": "e961e81e-cce9-43f5-b63d-c57c110676f6",
   "metadata": {
    "slideshow": {
     "slide_type": "slide"
    },
    "tags": []
   },
   "source": [
    "# Lesson 2: Number Crunching in Python"
   ]
  },
  {
   "cell_type": "markdown",
   "id": "05b0b9a5-ee8c-4f34-901e-7912086b854c",
   "metadata": {
    "slideshow": {
     "slide_type": "slide"
    },
    "tags": []
   },
   "source": [
    "There are two kinds of languages, and Python is of the slow kind.\n",
    "\n",
    "<br>"
   ]
  },
  {
   "cell_type": "markdown",
   "id": "fba14376-48e9-459d-a632-fd812a051986",
   "metadata": {},
   "source": [
    "<center>\n",
    "<img src=\"img/benchmark-games-2023.svg\" width=\"75%\">\n",
    "</center>"
   ]
  },
  {
   "cell_type": "markdown",
   "id": "634a653e-4f48-46e5-a43f-7f6ab95034e7",
   "metadata": {
    "slideshow": {
     "slide_type": "slide"
    },
    "tags": []
   },
   "source": [
    "That is, it was designed with convenience in mind, rather than speed."
   ]
  },
  {
   "cell_type": "markdown",
   "id": "b5cbeb2e-f8aa-48e1-a5a2-794708e14fa2",
   "metadata": {
    "slideshow": {
     "slide_type": "fragment"
    },
    "tags": []
   },
   "source": [
    "<br><br>\n",
    "\n",
    "Data analysis frequently involves calculations on large datasets. Speed (and memory use) are important!"
   ]
  },
  {
   "cell_type": "markdown",
   "id": "b5a81db7-352e-4dbe-a6cd-4705b0626e73",
   "metadata": {
    "slideshow": {
     "slide_type": "fragment"
    },
    "tags": []
   },
   "source": [
    "<br><br>\n",
    "\n",
    "How did Python come to be such a popular data analysis language with this against it?"
   ]
  },
  {
   "cell_type": "markdown",
   "id": "5b963616-1054-4949-8d0f-8b1669d04c37",
   "metadata": {
    "slideshow": {
     "slide_type": "slide"
    },
    "tags": []
   },
   "source": [
    "## The why and the how"
   ]
  },
  {
   "cell_type": "markdown",
   "id": "ad08bb47-a201-47aa-8827-4b10dbe5b360",
   "metadata": {
    "slideshow": {
     "slide_type": "fragment"
    },
    "tags": []
   },
   "source": [
    "<br>\n",
    "\n",
    "Let's reload the Higgs dataset to get a single list of numbers."
   ]
  },
  {
   "cell_type": "code",
   "execution_count": 1,
   "id": "50e87bc9-e56f-4430-b0b7-ecd882a03e27",
   "metadata": {
    "tags": []
   },
   "outputs": [],
   "source": [
    "import json\n",
    "dataset_python = json.load(open(\"data/SMHiggsToZZTo4L.json\"))"
   ]
  },
  {
   "cell_type": "markdown",
   "id": "7fb4ca60-918b-4364-b063-1906ee3fbad4",
   "metadata": {},
   "source": [
    "<br>"
   ]
  },
  {
   "cell_type": "code",
   "execution_count": 2,
   "id": "2fa9b697-9981-4a2c-bb1b-9f5d6c6e2f88",
   "metadata": {
    "slideshow": {
     "slide_type": "fragment"
    },
    "tags": []
   },
   "outputs": [],
   "source": [
    "pt_python = []\n",
    "for event in dataset_python:\n",
    "    for electron in event[\"electron\"]:\n",
    "        pt_python.append(electron[\"pt\"])\n",
    "    for muon in event[\"muon\"]:\n",
    "        pt_python.append(muon[\"pt\"])"
   ]
  },
  {
   "cell_type": "markdown",
   "id": "95add8d8-ac50-452a-bbb5-e69b76809f1b",
   "metadata": {},
   "source": [
    "<br>"
   ]
  },
  {
   "cell_type": "code",
   "execution_count": 7,
   "id": "b781959a-bf9d-4b7b-ad3c-37beb6438757",
   "metadata": {
    "slideshow": {
     "slide_type": "fragment"
    },
    "tags": []
   },
   "outputs": [
    {
     "data": {
      "text/plain": [
       "28809"
      ]
     },
     "execution_count": 7,
     "metadata": {},
     "output_type": "execute_result"
    }
   ],
   "source": [
    "len(pt_python)"
   ]
  },
  {
   "cell_type": "markdown",
   "id": "ff02905e-2fca-44b0-b0f4-4af9796ba495",
   "metadata": {
    "slideshow": {
     "slide_type": "fragment"
    },
    "tags": []
   },
   "source": [
    "<br>\n",
    "\n",
    "Look at the first few by slicing it."
   ]
  },
  {
   "cell_type": "code",
   "execution_count": 6,
   "id": "e2cf8393-7d7b-4172-af8e-c46fcdfb75a1",
   "metadata": {
    "tags": []
   },
   "outputs": [
    {
     "data": {
      "text/plain": [
       "[63.04386901855469, 38.12034606933594, 4.04868745803833, 21.902679443359375]"
      ]
     },
     "execution_count": 6,
     "metadata": {},
     "output_type": "execute_result"
    }
   ],
   "source": [
    "pt_python[0:4]"
   ]
  },
  {
   "cell_type": "markdown",
   "id": "665728ed-c4d0-436c-9dd5-7bd752bdd168",
   "metadata": {
    "slideshow": {
     "slide_type": "slide"
    },
    "tags": []
   },
   "source": [
    "How much memory is this list using?\n",
    "\n",
    "<br>"
   ]
  },
  {
   "cell_type": "code",
   "execution_count": 8,
   "id": "0dc3833e-8e37-4a29-b253-80ae1acc2645",
   "metadata": {
    "slideshow": {
     "slide_type": "fragment"
    },
    "tags": []
   },
   "outputs": [
    {
     "data": {
      "text/plain": [
       "937904"
      ]
     },
     "execution_count": 8,
     "metadata": {},
     "output_type": "execute_result"
    }
   ],
   "source": [
    "import sys\n",
    "\n",
    "num_bytes_python = 0\n",
    "num_bytes_python += sys.getsizeof(pt_python)   # size of the list, not including the numbers\n",
    "\n",
    "for x in pt_python:\n",
    "    num_bytes_python += sys.getsizeof(x)       # size of each number\n",
    "    \n",
    "num_bytes_python"
   ]
  },
  {
   "cell_type": "markdown",
   "id": "65555d5d-6ee9-4515-91e6-17a223960c7a",
   "metadata": {
    "slideshow": {
     "slide_type": "fragment"
    },
    "tags": []
   },
   "source": [
    "<br>\n",
    "\n",
    "How many bytes per value? More than 8 (double precision floating point numbers)?\n",
    "\n",
    "<br>"
   ]
  },
  {
   "cell_type": "code",
   "execution_count": 9,
   "id": "159ce62c-85d7-4133-a979-344c489aea9c",
   "metadata": {
    "tags": []
   },
   "outputs": [
    {
     "data": {
      "text/plain": [
       "32.55593738067965"
      ]
     },
     "execution_count": 9,
     "metadata": {},
     "output_type": "execute_result"
    }
   ],
   "source": [
    "num_bytes_python / len(pt_python)"
   ]
  },
  {
   "cell_type": "markdown",
   "id": "c8db9cb9-b6ad-43ef-b8b7-4300aa21a6aa",
   "metadata": {
    "slideshow": {
     "slide_type": "slide"
    },
    "tags": []
   },
   "source": [
    "Get the same data as an array (from an HDF5 file).\n",
    "\n",
    "<br>"
   ]
  },
  {
   "cell_type": "code",
   "execution_count": 11,
   "id": "c93a1d03-b2f4-4fcd-8c6a-7eb2be57762e",
   "metadata": {
    "slideshow": {
     "slide_type": "fragment"
    },
    "tags": []
   },
   "outputs": [
    {
     "data": {
      "text/plain": [
       "array([63.04387  , 38.120346 ,  4.0486875, ..., 60.098644 ,  3.7663147,\n",
       "       21.205685 ], dtype=float32)"
      ]
     },
     "execution_count": 11,
     "metadata": {},
     "output_type": "execute_result"
    }
   ],
   "source": [
    "import h5py\n",
    "\n",
    "dataset_hdf5 = h5py.File(\"data/SMHiggsToZZTo4L.h5\")\n",
    "\n",
    "pt_numpy = dataset_hdf5[\"particles\"][\"pt\"][:]\n",
    "pt_numpy"
   ]
  },
  {
   "cell_type": "markdown",
   "id": "951ac1a1-7fbe-4aca-b11a-0429d19c97fb",
   "metadata": {
    "slideshow": {
     "slide_type": "fragment"
    },
    "tags": []
   },
   "source": [
    "<br>\n",
    "\n",
    "Are they all the same?"
   ]
  },
  {
   "cell_type": "code",
   "execution_count": 12,
   "id": "cb291133-ecba-463b-b418-71422d763a55",
   "metadata": {
    "tags": []
   },
   "outputs": [],
   "source": [
    "assert len(pt_python) == len(pt_numpy)\n",
    "\n",
    "for list_x, array_x in zip(pt_python, pt_numpy):\n",
    "    assert list_x == array_x"
   ]
  },
  {
   "cell_type": "markdown",
   "id": "971272fd-3338-4a90-a3c4-23a11369b284",
   "metadata": {
    "slideshow": {
     "slide_type": "slide"
    },
    "tags": []
   },
   "source": [
    "How does their memory use compare?"
   ]
  },
  {
   "cell_type": "code",
   "execution_count": 13,
   "id": "f6f7ff10-8b2d-4f7d-9e8e-18f528248320",
   "metadata": {
    "tags": []
   },
   "outputs": [
    {
     "data": {
      "text/plain": [
       "4.003887673990767"
      ]
     },
     "execution_count": 13,
     "metadata": {},
     "output_type": "execute_result"
    }
   ],
   "source": [
    "sys.getsizeof(pt_numpy) / len(pt_numpy)"
   ]
  },
  {
   "cell_type": "markdown",
   "id": "392a7759-e9c1-44cc-9eef-0a919aea8831",
   "metadata": {},
   "source": [
    "<br>"
   ]
  },
  {
   "cell_type": "code",
   "execution_count": 14,
   "id": "c9d8272f-fd80-4d0c-bbd0-a2bb86bf0f42",
   "metadata": {
    "tags": []
   },
   "outputs": [
    {
     "data": {
      "text/plain": [
       "32.55593738067965"
      ]
     },
     "execution_count": 14,
     "metadata": {},
     "output_type": "execute_result"
    }
   ],
   "source": [
    "num_bytes_python / len(pt_python)"
   ]
  },
  {
   "cell_type": "markdown",
   "id": "228f9284-2d39-424f-86e7-3d22f15aea14",
   "metadata": {
    "slideshow": {
     "slide_type": "fragment"
    },
    "tags": []
   },
   "source": [
    "<br>\n",
    "\n",
    "How does speed of computation compare? (Note the units.)"
   ]
  },
  {
   "cell_type": "code",
   "execution_count": 15,
   "id": "99ad4ec3-f523-40b0-9a2b-e46edb0597f1",
   "metadata": {
    "tags": []
   },
   "outputs": [
    {
     "name": "stdout",
     "output_type": "stream",
     "text": [
      "3.49 ms ± 400 µs per loop (mean ± std. dev. of 7 runs, 100 loops each)\n"
     ]
    }
   ],
   "source": [
    "%%timeit\n",
    "\n",
    "pt2_python = []\n",
    "for x in pt_python:\n",
    "    pt2_python.append(x**2)"
   ]
  },
  {
   "cell_type": "markdown",
   "id": "1e3d9db2-c068-4a7c-af9d-df9508e9af9f",
   "metadata": {},
   "source": [
    "<br>"
   ]
  },
  {
   "cell_type": "code",
   "execution_count": 16,
   "id": "92a62a48-5213-4d05-9f9a-2f6b7f9c67ec",
   "metadata": {
    "tags": []
   },
   "outputs": [
    {
     "name": "stdout",
     "output_type": "stream",
     "text": [
      "4.67 µs ± 154 ns per loop (mean ± std. dev. of 7 runs, 100,000 loops each)\n"
     ]
    }
   ],
   "source": [
    "%%timeit\n",
    "\n",
    "pt2_numpy = pt_numpy**2"
   ]
  },
  {
   "cell_type": "markdown",
   "id": "32e7ceca-53d6-4050-a13a-086864497058",
   "metadata": {
    "slideshow": {
     "slide_type": "slide"
    },
    "tags": []
   },
   "source": [
    "Memory layout of a Python list.\n",
    "\n",
    "<br>"
   ]
  },
  {
   "cell_type": "markdown",
   "id": "2580462a-2342-40c0-a36e-a6889079a6e0",
   "metadata": {},
   "source": [
    "<center>\n",
    "<img src=\"img/python-list-layout.svg\" width=\"75%\">\n",
    "</center>"
   ]
  },
  {
   "cell_type": "markdown",
   "id": "6ea10c75-3e32-483e-8272-53ef6bfc77cf",
   "metadata": {
    "slideshow": {
     "slide_type": "slide"
    },
    "tags": []
   },
   "source": [
    "Memory layout of a NumPy array.\n",
    "\n",
    "<br>"
   ]
  },
  {
   "cell_type": "markdown",
   "id": "c00cc839-fe81-427d-8288-31f010381adf",
   "metadata": {},
   "source": [
    "<center>\n",
    "<img src=\"img/python-array-layout.svg\" width=\"75%\">\n",
    "</center>"
   ]
  },
  {
   "cell_type": "markdown",
   "id": "f71299e4-2cbd-4ecc-b97c-6150c1d121e7",
   "metadata": {
    "slideshow": {
     "slide_type": "slide"
    },
    "tags": []
   },
   "source": [
    "This also hints at a limitation of NumPy: an array can't mix data types."
   ]
  },
  {
   "cell_type": "markdown",
   "id": "ab3a2965-1597-4b3e-b933-8e56b85ea775",
   "metadata": {
    "slideshow": {
     "slide_type": "fragment"
    },
    "tags": []
   },
   "source": [
    "<br>\n",
    "\n",
    "Python list: data type is a property of each element."
   ]
  },
  {
   "cell_type": "code",
   "execution_count": null,
   "id": "470f3976-3800-4d5e-b09a-0dc35ef5bd36",
   "metadata": {
    "tags": []
   },
   "outputs": [],
   "source": [
    "type(pt_python[0])"
   ]
  },
  {
   "cell_type": "markdown",
   "id": "df19c57f-940e-42d2-a45a-fb8f68874cec",
   "metadata": {
    "slideshow": {
     "slide_type": "fragment"
    },
    "tags": []
   },
   "source": [
    "<br>\n",
    "\n",
    "NumPy array: data type is a property of the whole array."
   ]
  },
  {
   "cell_type": "code",
   "execution_count": null,
   "id": "e7808faf-9985-4891-84d2-10531b1d9787",
   "metadata": {
    "tags": []
   },
   "outputs": [],
   "source": [
    "pt_numpy.dtype"
   ]
  },
  {
   "cell_type": "code",
   "execution_count": null,
   "id": "adc95bb9-2bdf-49b8-9a44-25a49657a353",
   "metadata": {
    "tags": []
   },
   "outputs": [],
   "source": [
    "pt_numpy.dtype.type"
   ]
  },
  {
   "cell_type": "markdown",
   "id": "ef3180f5-8cd5-4177-b017-39da36a72510",
   "metadata": {
    "slideshow": {
     "slide_type": "fragment"
    },
    "tags": []
   },
   "source": [
    "<br>\n",
    "\n",
    "(Caveat: actually, NumPy has a `dtype('object')` to store Python objects, but that has no advantage over Python lists.)"
   ]
  },
  {
   "cell_type": "markdown",
   "id": "f132680c-f302-4db8-b344-47b58ae48d2b",
   "metadata": {
    "slideshow": {
     "slide_type": "slide"
    },
    "tags": []
   },
   "source": [
    "## NumPy"
   ]
  },
  {
   "cell_type": "markdown",
   "id": "9a5b0b53-196b-4cfd-8ce8-0d970ad81a73",
   "metadata": {
    "slideshow": {
     "slide_type": "slide"
    },
    "tags": []
   },
   "source": [
    "NumPy is a third-party (but fundamental!) library for data and computations _in_ C, _from_ Python.\n",
    "\n",
    "<br>"
   ]
  },
  {
   "cell_type": "code",
   "execution_count": 17,
   "id": "18145261-f451-4bf3-91d3-a06ad6439511",
   "metadata": {
    "tags": []
   },
   "outputs": [],
   "source": [
    "import numpy as np"
   ]
  },
  {
   "cell_type": "markdown",
   "id": "531c8839-a1e5-484a-ae0a-ad2695e85f66",
   "metadata": {
    "tags": []
   },
   "source": [
    "<br>\n",
    "\n",
    "<center>\n",
    "<img src=\"img/Numpy_Python_Cheat_Sheet.svg\" width=\"60%\">\n",
    "</center>"
   ]
  },
  {
   "cell_type": "markdown",
   "id": "ec427196-63d9-44ba-b78d-599a1af53f1a",
   "metadata": {
    "slideshow": {
     "slide_type": "slide"
    },
    "tags": []
   },
   "source": [
    "We've already seen that NumPy has a different syntax than ordinary Python:\n",
    "\n",
    "<br>"
   ]
  },
  {
   "cell_type": "code",
   "execution_count": 18,
   "id": "be9bb98c-48c7-4e5c-821e-c73790f2abee",
   "metadata": {
    "tags": []
   },
   "outputs": [
    {
     "data": {
      "text/plain": [
       "array([3974.5295  , 1453.1608  ,   16.39187 , ..., 3611.847   ,\n",
       "         14.185126,  449.68106 ], dtype=float32)"
      ]
     },
     "execution_count": 18,
     "metadata": {},
     "output_type": "execute_result"
    }
   ],
   "source": [
    "pt_numpy**2"
   ]
  },
  {
   "cell_type": "markdown",
   "id": "0e0b3f66-78a7-4961-930f-50a18c161b0f",
   "metadata": {},
   "source": [
    "<br>\n",
    "\n",
    "computes the square of _every_ element in the array, returning another array."
   ]
  },
  {
   "cell_type": "markdown",
   "id": "5cf928a6-a3d0-4d03-a4a7-951581c923be",
   "metadata": {
    "slideshow": {
     "slide_type": "fragment"
    },
    "tags": []
   },
   "source": [
    "<br><br><br>\n",
    "\n",
    "That's because the single Python command (`**`) invokes a loop that has been compiled in C, which runs at the speed of C."
   ]
  },
  {
   "cell_type": "markdown",
   "id": "ff5345c5-81c4-4650-9314-14f7c0bda5f5",
   "metadata": {
    "slideshow": {
     "slide_type": "fragment"
    },
    "tags": []
   },
   "source": [
    "<br><br><br>\n",
    "\n",
    "C is fast because it doesn't have to stop and check data types before each operation (among other things)."
   ]
  },
  {
   "cell_type": "markdown",
   "id": "ed992b87-d939-4ae8-8250-c468f4c19089",
   "metadata": {
    "slideshow": {
     "slide_type": "slide"
    },
    "tags": []
   },
   "source": [
    "What about whole expressions? Consider"
   ]
  },
  {
   "cell_type": "code",
   "execution_count": 19,
   "id": "db2479aa-f54c-46b4-95be-6ec763b08bac",
   "metadata": {
    "tags": []
   },
   "outputs": [],
   "source": [
    "def quadratic_formula(a, b, c):\n",
    "    return (-b + np.sqrt(b**2 - 4*a*c)) / (2*a)"
   ]
  },
  {
   "cell_type": "markdown",
   "id": "120bb2a6-00e4-41f4-a506-0d46abb1cfd7",
   "metadata": {},
   "source": [
    "<br>\n",
    "\n",
    "given"
   ]
  },
  {
   "cell_type": "code",
   "execution_count": 20,
   "id": "b334fedc-1cba-4b0a-b839-049d9b18a41a",
   "metadata": {
    "tags": []
   },
   "outputs": [
    {
     "data": {
      "text/plain": [
       "0.009950493836207741"
      ]
     },
     "execution_count": 20,
     "metadata": {},
     "output_type": "execute_result"
    }
   ],
   "source": [
    "a = 5\n",
    "b = 10\n",
    "c = -0.1\n",
    "\n",
    "quadratic_formula(a, b, c)"
   ]
  },
  {
   "cell_type": "markdown",
   "id": "cda23956-7e99-4d7b-94f5-6be9ebf8fb77",
   "metadata": {
    "slideshow": {
     "slide_type": "fragment"
    },
    "tags": []
   },
   "source": [
    "<br>\n",
    "\n",
    "**Quizlet:** Before running it, what will happen in the following?"
   ]
  },
  {
   "cell_type": "code",
   "execution_count": 21,
   "id": "a04c9495-6430-4914-a79c-4df0d177a7d5",
   "metadata": {
    "tags": []
   },
   "outputs": [
    {
     "data": {
      "text/plain": [
       "array([-0.0036705 , -0.00320118,  0.00233061, ...,  0.00666895,\n",
       "       -0.00512143,  0.00239149])"
      ]
     },
     "execution_count": 21,
     "metadata": {},
     "output_type": "execute_result"
    }
   ],
   "source": [
    "a = np.random.uniform(5, 10, 1000000)\n",
    "b = np.random.uniform(10, 20, 1000000)\n",
    "c = np.random.uniform(-0.1, 0.1, 1000000)\n",
    "\n",
    "quadratic_formula(a, b, c)"
   ]
  },
  {
   "cell_type": "code",
   "execution_count": null,
   "id": "40e5b86f-29fa-4a68-b58f-bdba4f209c11",
   "metadata": {},
   "outputs": [],
   "source": []
  },
  {
   "cell_type": "markdown",
   "id": "70948e2c-3484-4309-99ab-0b59c4cf37be",
   "metadata": {
    "slideshow": {
     "slide_type": "slide"
    },
    "tags": []
   },
   "source": [
    "NumPy is a big step forward in performance, but it's still not as fast as compiled code.\n",
    "\n",
    "<br>"
   ]
  },
  {
   "cell_type": "markdown",
   "id": "fbd291c5-a3fc-4262-89c9-ea611dbc51c5",
   "metadata": {
    "tags": []
   },
   "source": [
    "Consider that each step in"
   ]
  },
  {
   "cell_type": "code",
   "execution_count": 22,
   "id": "81472be6-e1c2-43d9-89db-3c9e39e812c5",
   "metadata": {
    "tags": []
   },
   "outputs": [],
   "source": [
    "def quadratic_formula(a, b, c):\n",
    "    return (-b + np.sqrt(b**2 - 4*a*c)) / (2*a)"
   ]
  },
  {
   "cell_type": "markdown",
   "id": "60c52add-a1e0-4d2f-be6f-8e5da762d2b6",
   "metadata": {},
   "source": [
    "<br>\n",
    "\n",
    "is a separate loop that makes a separate array in each step.\n",
    "\n",
    "<br>"
   ]
  },
  {
   "cell_type": "code",
   "execution_count": 23,
   "id": "c6ab44af-91da-407a-9a5f-9fe8e0fe7105",
   "metadata": {
    "slideshow": {
     "slide_type": "fragment"
    },
    "tags": []
   },
   "outputs": [],
   "source": [
    "def quadratic_formula_equivalent(a, b, c):\n",
    "    tmp1 = np.negative(b)            # -b\n",
    "    tmp2 = np.square(b)              # b**2\n",
    "    tmp3 = np.multiply(4, a)         # 4*a\n",
    "    tmp4 = np.multiply(tmp3, c)      # tmp3*c\n",
    "    del tmp3\n",
    "    tmp5 = np.subtract(tmp2, tmp4)   # tmp2 - tmp4\n",
    "    del tmp2, tmp4\n",
    "    tmp6 = np.sqrt(tmp5)             # sqrt(tmp5)\n",
    "    del tmp5\n",
    "    tmp7 = np.add(tmp1, tmp6)        # tmp1 + tmp6\n",
    "    del tmp1, tmp6\n",
    "    tmp8 = np.multiply(2, a)         # 2*a\n",
    "    return np.divide(tmp7, tmp8)     # tmp7 / tmp8"
   ]
  },
  {
   "cell_type": "markdown",
   "id": "f6ea6ff2-8147-4b9d-9c9f-fbe96a64e1e1",
   "metadata": {
    "slideshow": {
     "slide_type": "slide"
    },
    "tags": []
   },
   "source": [
    "NumPy is a _little_ smarter than this (\"it fuses some operations\"), but it's limited."
   ]
  },
  {
   "cell_type": "code",
   "execution_count": 24,
   "id": "2158e5ee-fa37-4148-8e71-ad49f825a7a3",
   "metadata": {
    "tags": []
   },
   "outputs": [
    {
     "name": "stdout",
     "output_type": "stream",
     "text": [
      "8.8 ms ± 902 µs per loop (mean ± std. dev. of 7 runs, 100 loops each)\n"
     ]
    }
   ],
   "source": [
    "%%timeit\n",
    "\n",
    "quadratic_formula(a, b, c)"
   ]
  },
  {
   "cell_type": "markdown",
   "id": "bcb669c8-a6aa-4e64-bfec-f49f592c4e1c",
   "metadata": {},
   "source": [
    "<br>"
   ]
  },
  {
   "cell_type": "code",
   "execution_count": 25,
   "id": "d4014e9c-87e3-489f-a031-77493f034c1d",
   "metadata": {
    "tags": []
   },
   "outputs": [
    {
     "name": "stdout",
     "output_type": "stream",
     "text": [
      "11.9 ms ± 644 µs per loop (mean ± std. dev. of 7 runs, 100 loops each)\n"
     ]
    }
   ],
   "source": [
    "%%timeit\n",
    "\n",
    "quadratic_formula_equivalent(a, b, c)"
   ]
  },
  {
   "cell_type": "markdown",
   "id": "e7e97dc7-5383-4303-88e9-8fdeaf0547d0",
   "metadata": {
    "slideshow": {
     "slide_type": "fragment"
    },
    "tags": []
   },
   "source": [
    "<br>\n",
    "\n",
    "Other libraries actually run the whole expression in one loop."
   ]
  },
  {
   "cell_type": "code",
   "execution_count": 26,
   "id": "95cee568-c450-4e94-90e8-0f8f33865edd",
   "metadata": {
    "tags": []
   },
   "outputs": [
    {
     "ename": "ModuleNotFoundError",
     "evalue": "No module named 'numexpr'",
     "output_type": "error",
     "traceback": [
      "\u001b[0;31m---------------------------------------------------------------------------\u001b[0m",
      "\u001b[0;31mModuleNotFoundError\u001b[0m                       Traceback (most recent call last)",
      "Cell \u001b[0;32mIn[26], line 1\u001b[0m\n\u001b[0;32m----> 1\u001b[0m \u001b[38;5;28;01mimport\u001b[39;00m \u001b[38;5;21;01mnumexpr\u001b[39;00m\n\u001b[1;32m      3\u001b[0m numexpr\u001b[38;5;241m.\u001b[39mevaluate(\u001b[38;5;124m\"\u001b[39m\u001b[38;5;124m(-b + sqrt(b**2 - 4*a*c)) / (2*a)\u001b[39m\u001b[38;5;124m\"\u001b[39m)   \u001b[38;5;66;03m# quoted, to be sent to a compiler\u001b[39;00m\n",
      "\u001b[0;31mModuleNotFoundError\u001b[0m: No module named 'numexpr'"
     ]
    }
   ],
   "source": [
    "import numexpr\n",
    "\n",
    "numexpr.evaluate(\"(-b + sqrt(b**2 - 4*a*c)) / (2*a)\")   # quoted, to be sent to a compiler"
   ]
  },
  {
   "cell_type": "markdown",
   "id": "eb997c1b-9b78-4f9e-8d02-f2f1e3c63e60",
   "metadata": {},
   "source": [
    "<br>"
   ]
  },
  {
   "cell_type": "code",
   "execution_count": null,
   "id": "5d1235a4-4e29-48b7-a45d-b2243950ec0f",
   "metadata": {
    "tags": []
   },
   "outputs": [],
   "source": [
    "%%timeit\n",
    "\n",
    "numexpr.re_evaluate()"
   ]
  },
  {
   "cell_type": "markdown",
   "id": "7462789d-5973-49b3-a561-7b4a29067738",
   "metadata": {
    "slideshow": {
     "slide_type": "slide"
    },
    "tags": []
   },
   "source": [
    "Anyway, let's focus on NumPy for now because the array concept is a convenient tool for fast-enough interactive computation.\n",
    "\n",
    "<br>"
   ]
  },
  {
   "cell_type": "markdown",
   "id": "523a39db-75ba-403a-a9af-3d79e8c417d3",
   "metadata": {},
   "source": [
    "It gets more interesting when you combine array-at-a-time logic with slicing and other tricks.\n",
    "\n",
    "<br>"
   ]
  },
  {
   "cell_type": "markdown",
   "id": "72627ded-90e7-46c1-be46-9fd0b4a3961b",
   "metadata": {
    "slideshow": {
     "slide_type": "fragment"
    },
    "tags": []
   },
   "source": [
    "**Quizlet:** Given an array of numbers, like\n",
    "\n",
    "<br>"
   ]
  },
  {
   "cell_type": "code",
   "execution_count": 27,
   "id": "c86d071c-929b-425d-b68f-9acf04b2aebf",
   "metadata": {
    "tags": []
   },
   "outputs": [
    {
     "data": {
      "text/plain": [
       "array([1.1, 2.2, 3.3, 4.4, 5.5, 6.6, 7.7, 8.8, 9.9])"
      ]
     },
     "execution_count": 27,
     "metadata": {},
     "output_type": "execute_result"
    }
   ],
   "source": [
    "array = np.array([1.1, 2.2, 3.3, 4.4, 5.5, 6.6, 7.7, 8.8, 9.9])\n",
    "array"
   ]
  },
  {
   "cell_type": "markdown",
   "id": "33ab0f37-6ac2-45df-ad8f-a7caf2f46870",
   "metadata": {},
   "source": [
    "<br>\n",
    "\n",
    "How would you compute the distances between the elements?\n",
    "\n",
    "<br>"
   ]
  },
  {
   "cell_type": "code",
   "execution_count": null,
   "id": "b5677e74-5d84-4998-a647-062744a03534",
   "metadata": {},
   "outputs": [],
   "source": []
  },
  {
   "cell_type": "markdown",
   "id": "bf880172-41e7-4ba5-b33c-6c6c6522ce43",
   "metadata": {},
   "source": [
    "<br>\n",
    "\n",
    "<details>\n",
    "    <summary><b>Hint...</b></summary>\n",
    "\n",
    "How many elements does it have?\n",
    "\n",
    "</details>"
   ]
  },
  {
   "cell_type": "markdown",
   "id": "cace97c9-e1fc-49ee-9612-6400d9ba006f",
   "metadata": {
    "slideshow": {
     "slide_type": "slide"
    },
    "tags": []
   },
   "source": [
    "<details>\n",
    "    <summary><b>Answer... Don't look!</b></summary>\n",
    "\n",
    "Direct subtraction of the two arrays:\n",
    "\n",
    "<center>\n",
    "<img src=\"img/flat-operation.svg\" width=\"40%\">\n",
    "</center>\n",
    "\n",
    "Subtraction with slices:\n",
    "\n",
    "<center>\n",
    "<img src=\"img/shifted-operation.svg\" width=\"40%\">\n",
    "</center>\n",
    "\n",
    "</details>"
   ]
  },
  {
   "cell_type": "markdown",
   "id": "07bfcdb1-da6d-417a-9000-dc8a5003af6f",
   "metadata": {
    "slideshow": {
     "slide_type": "slide"
    },
    "tags": []
   },
   "source": [
    "### Slicing"
   ]
  },
  {
   "cell_type": "markdown",
   "id": "593719cc-df35-499e-96f9-8ac7fdc6c356",
   "metadata": {},
   "source": [
    "Python has a very concise slicing syntax:\n",
    "\n",
    "```python\n",
    "container[start:stop:step]\n",
    "```\n",
    "\n",
    "any one of which can be left out, to get a default. Negative values count backward, from the end."
   ]
  },
  {
   "cell_type": "code",
   "execution_count": 1,
   "id": "8d44fcaf-2173-437f-b6b9-580846e3a98f",
   "metadata": {
    "tags": []
   },
   "outputs": [],
   "source": [
    "container = [0.0, 1.1, 2.2, 3.3, 4.4, 5.5, 6.6, 7.7, 8.8, 9.9]"
   ]
  },
  {
   "cell_type": "code",
   "execution_count": 2,
   "id": "8d205663-a293-4cb6-85a5-fba3ca69f7ab",
   "metadata": {
    "tags": []
   },
   "outputs": [
    {
     "data": {
      "text/plain": [
       "[2.2, 3.3, 4.4, 5.5, 6.6, 7.7, 8.8, 9.9]"
      ]
     },
     "execution_count": 2,
     "metadata": {},
     "output_type": "execute_result"
    }
   ],
   "source": [
    "container[2:]"
   ]
  },
  {
   "cell_type": "markdown",
   "id": "ccee47ab-aa7a-4d85-acc3-7b8f23dda9eb",
   "metadata": {},
   "source": [
    "<br>"
   ]
  },
  {
   "cell_type": "code",
   "execution_count": 3,
   "id": "3ac9ea57-2b0c-4333-9ff2-285e748146ed",
   "metadata": {
    "tags": []
   },
   "outputs": [
    {
     "data": {
      "text/plain": [
       "[0.0, 1.1, 2.2, 3.3, 4.4]"
      ]
     },
     "execution_count": 3,
     "metadata": {},
     "output_type": "execute_result"
    }
   ],
   "source": [
    "container[:5]"
   ]
  },
  {
   "cell_type": "markdown",
   "id": "cb4efb77-fef8-4519-bd93-3378c783ebb9",
   "metadata": {
    "tags": []
   },
   "source": [
    "<br>"
   ]
  },
  {
   "cell_type": "code",
   "execution_count": 4,
   "id": "a7a24fb5-436e-45b7-a7b9-1f2a57ad63f7",
   "metadata": {
    "tags": []
   },
   "outputs": [
    {
     "data": {
      "text/plain": [
       "[4.4, 5.5, 6.6, 7.7]"
      ]
     },
     "execution_count": 4,
     "metadata": {},
     "output_type": "execute_result"
    }
   ],
   "source": [
    "container[-6:-2]"
   ]
  },
  {
   "cell_type": "markdown",
   "id": "f461e28f-16c4-41a9-9748-04efb1bf511e",
   "metadata": {},
   "source": [
    "<br>"
   ]
  },
  {
   "cell_type": "code",
   "execution_count": 5,
   "id": "105e6b71-797f-47bc-8f06-2152e8bb2094",
   "metadata": {
    "tags": []
   },
   "outputs": [
    {
     "data": {
      "text/plain": [
       "[4.4, 6.6, 8.8]"
      ]
     },
     "execution_count": 5,
     "metadata": {},
     "output_type": "execute_result"
    }
   ],
   "source": [
    "container[4:10:2]"
   ]
  },
  {
   "cell_type": "markdown",
   "id": "2871f08e-65fc-40bd-be69-a5ec8b770b4a",
   "metadata": {},
   "source": [
    "<br>"
   ]
  },
  {
   "cell_type": "code",
   "execution_count": 6,
   "id": "cc369bb4-753d-4e74-a91a-c85d63c02279",
   "metadata": {
    "tags": []
   },
   "outputs": [
    {
     "data": {
      "text/plain": [
       "[0.0, 3.3, 6.6, 9.9]"
      ]
     },
     "execution_count": 6,
     "metadata": {},
     "output_type": "execute_result"
    }
   ],
   "source": [
    "container[::3]"
   ]
  },
  {
   "cell_type": "markdown",
   "id": "af1c3d08-c32d-4849-92fe-da4053af6fe3",
   "metadata": {
    "@deathbeds/jupyterlab-fonts": {
     "styles": {
      "": {
       "body[data-jp-deck-mode='presenting'] &": {
        "height": "59.99415022603581%",
        "left": "71.294669009959%",
        "position": "fixed",
        "top": "3.381320224719101%",
        "width": "96.23120961024458%",
        "z-index": "6"
       }
      }
     }
    },
    "slideshow": {
     "slide_type": "slide"
    },
    "tags": []
   },
   "source": [
    "<img src=\"img/numpy-slicing.png\" width=\"25%\">"
   ]
  },
  {
   "cell_type": "markdown",
   "id": "38a0206a-0d70-481a-b6af-d286860e0a10",
   "metadata": {
    "tags": []
   },
   "source": [
    "NumPy goes beyond ordinary slicing by allowing slices in multiple dimensions."
   ]
  },
  {
   "cell_type": "code",
   "execution_count": 28,
   "id": "4de33a84-4640-4b2b-92bf-051c08238aa2",
   "metadata": {
    "tags": []
   },
   "outputs": [
    {
     "data": {
      "text/plain": [
       "array([[1.1, 2.2, 3.3],\n",
       "       [4.4, 5.5, 6.6],\n",
       "       [7.7, 8.8, 9.9]])"
      ]
     },
     "execution_count": 28,
     "metadata": {},
     "output_type": "execute_result"
    }
   ],
   "source": [
    "arr = np.array([[1.1, 2.2, 3.3],\n",
    "                [4.4, 5.5, 6.6],\n",
    "                [7.7, 8.8, 9.9]])\n",
    "arr"
   ]
  },
  {
   "cell_type": "code",
   "execution_count": 31,
   "id": "d23fa80f-02b1-4349-a533-0789b84173ae",
   "metadata": {},
   "outputs": [
    {
     "data": {
      "text/plain": [
       "array([[2.2, 3.3],\n",
       "       [5.5, 6.6]])"
      ]
     },
     "execution_count": 31,
     "metadata": {},
     "output_type": "execute_result"
    }
   ],
   "source": [
    "arr[:2, 1:]"
   ]
  },
  {
   "cell_type": "markdown",
   "id": "f12aa750-1d26-426b-adbf-c44c9b39dff5",
   "metadata": {},
   "source": [
    "<br>"
   ]
  },
  {
   "cell_type": "code",
   "execution_count": 32,
   "id": "d95e3920-5b36-4124-beac-181f6390d341",
   "metadata": {
    "tags": []
   },
   "outputs": [
    {
     "data": {
      "text/plain": [
       "array([[7.7, 8.8, 9.9]])"
      ]
     },
     "execution_count": 32,
     "metadata": {},
     "output_type": "execute_result"
    }
   ],
   "source": [
    "arr[2:, :]"
   ]
  },
  {
   "cell_type": "markdown",
   "id": "cbea3691-d858-4115-aa46-54b4b188143e",
   "metadata": {},
   "source": [
    "<br>"
   ]
  },
  {
   "cell_type": "code",
   "execution_count": null,
   "id": "1852fbdb-e0f0-45b9-9771-7f33ef58b2fc",
   "metadata": {
    "tags": []
   },
   "outputs": [],
   "source": [
    "arr[:, :2]"
   ]
  },
  {
   "cell_type": "markdown",
   "id": "50379005-ddd6-49f7-835a-b7845599f5ec",
   "metadata": {},
   "source": [
    "<br>"
   ]
  },
  {
   "cell_type": "code",
   "execution_count": null,
   "id": "04464f35-5b36-4e97-b502-0e708dd3e900",
   "metadata": {
    "tags": []
   },
   "outputs": [],
   "source": [
    "arr[1:2, :2]"
   ]
  },
  {
   "cell_type": "markdown",
   "id": "0ccb1dfa-8246-4461-a1f9-0dc30ee7690f",
   "metadata": {
    "slideshow": {
     "slide_type": "slide"
    },
    "tags": []
   },
   "source": [
    "<center>\n",
    "<img src=\"img/numpy-memory-layout.png\" width=\"75%\">\n",
    "</center>"
   ]
  },
  {
   "cell_type": "markdown",
   "id": "4f683ee5-6d20-425e-8d13-ef00b8b6a426",
   "metadata": {
    "slideshow": {
     "slide_type": "slide"
    },
    "tags": []
   },
   "source": [
    "<center>\n",
    "<img src=\"img/numpy-memory-reshape.png\" width=\"75%\">\n",
    "</center>"
   ]
  },
  {
   "cell_type": "markdown",
   "id": "3eeb33e9-ca6e-4711-b8f7-a4d159ae2b53",
   "metadata": {
    "slideshow": {
     "slide_type": "slide"
    },
    "tags": []
   },
   "source": [
    "<center>\n",
    "<img src=\"img/numpy-memory-slice.png\" width=\"75%\">\n",
    "</center>"
   ]
  },
  {
   "cell_type": "markdown",
   "id": "b9a66c1e-b5a6-4bb2-8953-7e4724b04ac8",
   "metadata": {
    "slideshow": {
     "slide_type": "slide"
    },
    "tags": []
   },
   "source": [
    "**Quizlet:** Slice `three_dimensional` such that it looks like\n",
    "\n",
    "```python\n",
    "[[ 4  9]\n",
    " [24 29]]\n",
    "```"
   ]
  },
  {
   "cell_type": "code",
   "execution_count": 33,
   "id": "6169b56f-2499-4bd9-bb6d-b1a9781700a9",
   "metadata": {
    "tags": []
   },
   "outputs": [
    {
     "data": {
      "text/plain": [
       "array([[[ 0,  1,  2,  3,  4],\n",
       "        [ 5,  6,  7,  8,  9]],\n",
       "\n",
       "       [[10, 11, 12, 13, 14],\n",
       "        [15, 16, 17, 18, 19]],\n",
       "\n",
       "       [[20, 21, 22, 23, 24],\n",
       "        [25, 26, 27, 28, 29]]])"
      ]
     },
     "execution_count": 33,
     "metadata": {},
     "output_type": "execute_result"
    }
   ],
   "source": [
    "three_dimensional = np.arange(30).reshape((3, 2, 5))\n",
    "three_dimensional"
   ]
  },
  {
   "cell_type": "markdown",
   "id": "49021330-7ee3-44bd-a55b-2db5431e7eea",
   "metadata": {
    "tags": []
   },
   "source": [
    "<br>"
   ]
  },
  {
   "cell_type": "code",
   "execution_count": 34,
   "id": "8cd1cf94-fa07-4a66-b00b-f5dcd04f7283",
   "metadata": {
    "tags": []
   },
   "outputs": [
    {
     "data": {
      "text/plain": [
       "array([[[ 0,  1,  2,  3,  4],\n",
       "        [ 5,  6,  7,  8,  9]],\n",
       "\n",
       "       [[10, 11, 12, 13, 14],\n",
       "        [15, 16, 17, 18, 19]],\n",
       "\n",
       "       [[20, 21, 22, 23, 24],\n",
       "        [25, 26, 27, 28, 29]]])"
      ]
     },
     "execution_count": 34,
     "metadata": {},
     "output_type": "execute_result"
    }
   ],
   "source": [
    "three_dimensional[ : : ]"
   ]
  },
  {
   "cell_type": "markdown",
   "id": "99c33815-d262-4713-994e-4f1ce5a2be90",
   "metadata": {
    "tags": []
   },
   "source": [
    "<br>"
   ]
  },
  {
   "cell_type": "code",
   "execution_count": null,
   "id": "2c055997-a579-4772-b522-9ded9bfa7a5e",
   "metadata": {},
   "outputs": [],
   "source": []
  },
  {
   "cell_type": "markdown",
   "id": "e7d49836-4bec-4158-b5bf-8117db6cb799",
   "metadata": {
    "slideshow": {
     "slide_type": "slide"
    },
    "tags": []
   },
   "source": [
    "### Advanced slicing"
   ]
  },
  {
   "cell_type": "markdown",
   "id": "e5d31065-c01e-4f2b-925d-c5edb3000184",
   "metadata": {},
   "source": [
    "Not only that, but NumPy can slice arrays with arrays."
   ]
  },
  {
   "cell_type": "code",
   "execution_count": 35,
   "id": "99bea524-5ffd-450b-86bc-5d441fbf4c42",
   "metadata": {
    "tags": []
   },
   "outputs": [],
   "source": [
    "arr  = np.array([  0.0,   1.1,   2.2,   3.3,   4.4,  5.5,   6.6,  7.7,   8.8,  9.9])\n",
    "mask = np.array([False, False, False, False, False, True, False, True, False, True])\n",
    "#                                                    5.5          7.7          9.9"
   ]
  },
  {
   "cell_type": "markdown",
   "id": "8886e22c-614f-47b0-886a-680b46ccc5cb",
   "metadata": {},
   "source": [
    "<br>"
   ]
  },
  {
   "cell_type": "code",
   "execution_count": 36,
   "id": "63f19921-6eeb-45b7-8a8c-eeb2df129441",
   "metadata": {
    "tags": []
   },
   "outputs": [
    {
     "data": {
      "text/plain": [
       "array([5.5, 7.7, 9.9])"
      ]
     },
     "execution_count": 36,
     "metadata": {},
     "output_type": "execute_result"
    }
   ],
   "source": [
    "arr[mask]"
   ]
  },
  {
   "cell_type": "markdown",
   "id": "07135a8a-05ce-4cd1-9aa9-6ebc4a22db44",
   "metadata": {
    "slideshow": {
     "slide_type": "fragment"
    },
    "tags": []
   },
   "source": [
    "<br>\n",
    "\n",
    "An array of integers picks out elements by index."
   ]
  },
  {
   "cell_type": "code",
   "execution_count": 37,
   "id": "8fc0b6d2-2508-47ea-950c-e8d67d8845c6",
   "metadata": {
    "tags": []
   },
   "outputs": [
    {
     "data": {
      "text/plain": [
       "array([5.5, 7.7, 9.9])"
      ]
     },
     "execution_count": 37,
     "metadata": {},
     "output_type": "execute_result"
    }
   ],
   "source": [
    "arr[np.array([5, 7, -1])]"
   ]
  },
  {
   "cell_type": "markdown",
   "id": "d94ff288-80d8-4b4b-a997-c29890e707d6",
   "metadata": {
    "slideshow": {
     "slide_type": "fragment"
    },
    "tags": []
   },
   "source": [
    "<br>\n",
    "\n",
    "They can be out of order."
   ]
  },
  {
   "cell_type": "code",
   "execution_count": 38,
   "id": "e50e9d7c-b10a-42c5-b1e8-5a0194abcc2d",
   "metadata": {
    "tags": []
   },
   "outputs": [
    {
     "data": {
      "text/plain": [
       "array([9.9, 7.7, 5.5])"
      ]
     },
     "execution_count": 38,
     "metadata": {},
     "output_type": "execute_result"
    }
   ],
   "source": [
    "arr[np.array([-1, 7, 5])]"
   ]
  },
  {
   "cell_type": "markdown",
   "id": "758835c0-6dc9-46c6-8bb1-f16d1c4c7c63",
   "metadata": {
    "slideshow": {
     "slide_type": "fragment"
    },
    "tags": []
   },
   "source": [
    "<br>\n",
    "\n",
    "They can even include duplicates."
   ]
  },
  {
   "cell_type": "code",
   "execution_count": null,
   "id": "ac4f02d8-aefd-44bd-b213-e0022059772c",
   "metadata": {
    "tags": []
   },
   "outputs": [],
   "source": [
    "arr[np.array([-1, -1, -1, 7, 7, 5])]"
   ]
  },
  {
   "cell_type": "code",
   "execution_count": null,
   "id": "89306a21-5814-436a-bec1-824f1199ea68",
   "metadata": {
    "slideshow": {
     "slide_type": "slide"
    },
    "tags": []
   },
   "outputs": [],
   "source": [
    "text = \"\"\"\n",
    "WOULD YOU LIKE GREEN EGGS AND HAM?\n",
    "\n",
    "I DO NOT LIKE THEM, SAM-I-AM.\n",
    "I DO NOT LIKE GREEN EGGS AND HAM.\n",
    "\n",
    "WOULD YOU LIKE THEM HERE OR THERE?\n",
    "\n",
    "I WOULD NOT LIKE THEM HERE OR THERE.\n",
    "I WOULD NOT LIKE THEM ANYWHERE.\n",
    "I DO NOT LIKE GREEN EGGS AND HAM.\n",
    "I DO NOT LIKE THEM, SAM-I-AM.\n",
    "\n",
    "WOULD YOU LIKE THEM IN A HOUSE?\n",
    "WOULD YOU LIKE THEN WITH A MOUSE?\n",
    "\n",
    "I DO NOT LIKE THEM IN A HOUSE.\n",
    "I DO NOT LIKE THEM WITH A MOUSE.\n",
    "I DO NOT LIKE THEM HERE OR THERE.\n",
    "I DO NOT LIKE THEM ANYWHERE.\n",
    "I DO NOT LIKE GREEN EGGS AND HAM.\n",
    "I DO NOT LIKE THEM, SAM-I-AM.\n",
    "\n",
    "WOULD YOU EAT THEM IN A BOX?\n",
    "WOULD YOU EAT THEM WITH A FOX?\n",
    "\n",
    "NOT IN A BOX. NOT WITH A FOX.\n",
    "NOT IN A HOUSE. NOT WITH A MOUSE.\n",
    "I WOULD NOT EAT THEM HERE OR THERE.\n",
    "I WOULD NOT EAT THEM ANYWHERE.\n",
    "I WOULD NOT EAT GREEN EGGS AND HAM.\n",
    "I DO NOT LIKE THEM, SAM-I-AM.\n",
    "\"\"\""
   ]
  },
  {
   "cell_type": "code",
   "execution_count": null,
   "id": "fc8a5607-1879-47cb-a027-3b1892c48153",
   "metadata": {
    "slideshow": {
     "slide_type": "slide"
    },
    "tags": []
   },
   "outputs": [],
   "source": [
    "words = np.array(text.replace(\",\", \" \").replace(\".\", \" \").replace(\"?\", \" \").replace(\"!\", \" \").replace(\"-\", \" \").split())\n",
    "dictionary, index = np.unique(words, return_inverse=True)"
   ]
  },
  {
   "cell_type": "markdown",
   "id": "9474bdcd-07ee-421e-a20c-5689f984ab77",
   "metadata": {},
   "source": [
    "<br>"
   ]
  },
  {
   "cell_type": "code",
   "execution_count": null,
   "id": "8155c52e-687f-4b33-a428-da954a463b16",
   "metadata": {
    "tags": []
   },
   "outputs": [],
   "source": [
    "dictionary"
   ]
  },
  {
   "cell_type": "markdown",
   "id": "5019f415-72ee-468a-b3c4-e9d0b79cf093",
   "metadata": {},
   "source": [
    "<br>"
   ]
  },
  {
   "cell_type": "code",
   "execution_count": null,
   "id": "108f79c8-cd02-448f-a329-9e70246a0dd7",
   "metadata": {
    "tags": []
   },
   "outputs": [],
   "source": [
    "index"
   ]
  },
  {
   "cell_type": "markdown",
   "id": "610f3996-e458-43b9-809f-64815f375d2f",
   "metadata": {
    "slideshow": {
     "slide_type": "slide"
    },
    "tags": []
   },
   "source": [
    "**Quizlet:** What's going to happen?\n",
    "\n",
    "<br>"
   ]
  },
  {
   "cell_type": "code",
   "execution_count": null,
   "id": "783e832e-7216-49d5-a04a-53e391263d0e",
   "metadata": {
    "tags": []
   },
   "outputs": [],
   "source": [
    "dictionary[index]"
   ]
  },
  {
   "cell_type": "markdown",
   "id": "66b2f4f9-5cb6-451c-977c-69c2dc4f7637",
   "metadata": {},
   "source": [
    "<br>\n",
    "\n",
    "<details>\n",
    "    <summary><b>Hint...</b></summary>\n",
    "\n",
    "<br>\n",
    "\n",
    "```\n",
    "index             : positions in corpus (0, 1, 2, ...) → integer codes\n",
    "dictionary        : integer codes                      → words\n",
    "\n",
    "dictionary[index] : positions in corpus (0, 1, 2, ...) → words\n",
    "```\n",
    "\n",
    "</details>"
   ]
  },
  {
   "cell_type": "markdown",
   "id": "0fe43b75-b038-4b91-b1fe-9630e381dac9",
   "metadata": {
    "slideshow": {
     "slide_type": "slide"
    },
    "tags": []
   },
   "source": [
    "### Reductions"
   ]
  },
  {
   "cell_type": "markdown",
   "id": "b2a46a52-9531-4926-ba8e-4f3a29ca360a",
   "metadata": {},
   "source": [
    "We've seen operations that apply to each element of an<br>array, producing a new array of the same length (\"map\").\n",
    "\n",
    "<br>\n",
    "\n",
    "NumPy also has operations that turn $n$-dimensional<br>arrays into $(n-1)$-dimensional arrays (\"reduce\").\n",
    "\n",
    "<br>"
   ]
  },
  {
   "cell_type": "code",
   "execution_count": null,
   "id": "5474920c-c378-4602-848d-162aa1341fae",
   "metadata": {
    "slideshow": {
     "slide_type": "fragment"
    },
    "tags": []
   },
   "outputs": [],
   "source": [
    "arr = np.array([[  1,   2,   3,   4],\n",
    "                [ 10,  20,  30,  40],\n",
    "                [100, 200, 300, 400]])"
   ]
  },
  {
   "cell_type": "markdown",
   "id": "f864f6b4-bdfd-4567-bed2-2c4a077614df",
   "metadata": {
    "@deathbeds/jupyterlab-fonts": {
     "styles": {
      "": {
       "body[data-jp-deck-mode='presenting'] &": {
        "height": "46.364012287334596%",
        "left": "56.903765690376574%",
        "position": "fixed",
        "top": "0.3593661158657254%",
        "width": "92.25941422594143%"
       }
      }
     }
    },
    "slideshow": {
     "slide_type": "fragment"
    },
    "tags": []
   },
   "source": [
    "<img src=\"img/example-reducer-2d.svg\" width=\"50%\">"
   ]
  },
  {
   "cell_type": "markdown",
   "id": "d7ada984-4cf8-483d-bfbf-22c47e76a0fc",
   "metadata": {
    "@deathbeds/jupyterlab-fonts": {
     "styles": {
      "": {
       "body[data-jp-deck-mode='presenting'] &": {
        "height": null,
        "left": null,
        "position": null,
        "top": null,
        "width": null
       }
      }
     }
    }
   },
   "source": [
    "<br>"
   ]
  },
  {
   "cell_type": "code",
   "execution_count": null,
   "id": "a97d2d7a-e06b-4f06-a48b-9178572decf3",
   "metadata": {
    "@deathbeds/jupyterlab-fonts": {
     "styles": {
      "": {
       "body[data-jp-deck-mode='presenting'] &": {
        "height": null,
        "left": null,
        "position": null,
        "top": null,
        "width": null
       }
      }
     }
    },
    "tags": []
   },
   "outputs": [],
   "source": [
    "np.sum(arr, axis=0)"
   ]
  },
  {
   "cell_type": "markdown",
   "id": "3ac3ebce-771a-4bcf-bbe9-4834e5d076b4",
   "metadata": {
    "@deathbeds/jupyterlab-fonts": {
     "styles": {
      "": {
       "body[data-jp-deck-mode='presenting'] &": {
        "height": null,
        "left": null,
        "position": null,
        "top": null,
        "width": null
       }
      }
     }
    }
   },
   "source": [
    "<br>"
   ]
  },
  {
   "cell_type": "code",
   "execution_count": null,
   "id": "3f2f62e3-ae8f-4273-8b39-a8e691f43a45",
   "metadata": {
    "tags": []
   },
   "outputs": [],
   "source": [
    "np.sum(arr, axis=1)"
   ]
  },
  {
   "cell_type": "markdown",
   "id": "1aace3a2-3937-47f2-87f4-ca9b506d537d",
   "metadata": {
    "slideshow": {
     "slide_type": "slide"
    },
    "tags": []
   },
   "source": [
    "This is the end of the NumPy section.\n",
    "\n",
    "<br>\n"
   ]
  },
  {
   "cell_type": "code",
   "execution_count": null,
   "id": "733cfec2-87d4-4f65-a51f-5d392f4d2257",
   "metadata": {},
   "outputs": [],
   "source": []
  }
 ],
 "metadata": {
  "kernelspec": {
   "display_name": "Python 3 (ipykernel)",
   "language": "python",
   "name": "python3"
  },
  "language_info": {
   "codemirror_mode": {
    "name": "ipython",
    "version": 3
   },
   "file_extension": ".py",
   "mimetype": "text/x-python",
   "name": "python",
   "nbconvert_exporter": "python",
   "pygments_lexer": "ipython3",
   "version": "3.9.18"
  }
 },
 "nbformat": 4,
 "nbformat_minor": 5
}
